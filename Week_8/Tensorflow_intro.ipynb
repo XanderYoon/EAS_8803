{
  "nbformat": 4,
  "nbformat_minor": 0,
  "metadata": {
    "colab": {
      "provenance": [],
      "toc_visible": true
    },
    "kernelspec": {
      "name": "python3",
      "display_name": "Python 3"
    },
    "language_info": {
      "name": "python"
    }
  },
  "cells": [
    {
      "cell_type": "markdown",
      "source": [
        "# Introduction\n",
        "Armed with the basic prerequisite knowledge of deep learning, we shall tackle a problem using a multilayer perceptron (MLP).\n",
        "\n",
        "The term, MLP, is used to distinguish itself, a feedforward artificial neural network, from other deep learning models we will learn about in the future.\n",
        "\n",
        "This notebook is done using Tensorflow. A version done using PyTorch is available [here](https://colab.research.google.com/drive/1EV0lOoXiM9N_66edMLQSNuqHJRmVh6eF?usp=sharing)."
      ],
      "metadata": {
        "id": "78dD2ctTx7Yp"
      }
    },
    {
      "cell_type": "markdown",
      "source": [
        "# The Problem\n",
        "Given the temperature, humidity, wind speed, and precipitation percentage, can we predict whether the weather type is rainy or sunny?"
      ],
      "metadata": {
        "id": "YfihvALPyWhc"
      }
    },
    {
      "cell_type": "markdown",
      "source": [
        "# Set Seed\n",
        "To ensure this notebook is deterministic, we will set the random seed."
      ],
      "metadata": {
        "id": "3tH51sClzJ8s"
      }
    },
    {
      "cell_type": "code",
      "source": [
        "import tensorflow as tf\n",
        "import random\n",
        "import numpy as np\n",
        "\n",
        "tf.random.set_seed(0)\n",
        "random.seed(0)\n",
        "np.random.seed(0)"
      ],
      "metadata": {
        "id": "i5UaRZw-zLcl"
      },
      "execution_count": null,
      "outputs": []
    },
    {
      "cell_type": "markdown",
      "source": [
        "# Get Data\n",
        "Here, we will fetch and load the data into a tensor that we will use for training.\n",
        "\n",
        "Data source: https://www.kaggle.com/datasets/nikhil7280/weather-type-classification"
      ],
      "metadata": {
        "id": "tHPI7JMV2288"
      }
    },
    {
      "cell_type": "code",
      "execution_count": null,
      "metadata": {
        "id": "uyaoAoLOx5Go"
      },
      "outputs": [],
      "source": [
        "import urllib\n",
        "\n",
        "import pandas as pd\n",
        "\n",
        "data_url = \"https://g-2aaf39.eeb47.a567.data.globus.org/weather_classification_data.csv\"\n",
        "data_buffer = urllib.request.urlopen(data_url)\n",
        "\n",
        "df = pd.read_csv(data_buffer)"
      ]
    },
    {
      "cell_type": "code",
      "source": [
        "df.head()"
      ],
      "metadata": {
        "colab": {
          "base_uri": "https://localhost:8080/",
          "height": 204
        },
        "id": "UJ0wPyx84Hxq",
        "outputId": "daeee960-a99a-40f4-e000-690f002d0855"
      },
      "execution_count": null,
      "outputs": [
        {
          "output_type": "execute_result",
          "data": {
            "text/plain": [
              "   Temperature  Humidity  Wind Speed  Precipitation (%)    Cloud Cover  \\\n",
              "0         14.0        73         9.5               82.0  partly cloudy   \n",
              "1         39.0        96         8.5               71.0  partly cloudy   \n",
              "2         30.0        64         7.0               16.0          clear   \n",
              "3         38.0        83         1.5               82.0          clear   \n",
              "4         27.0        74        17.0               66.0       overcast   \n",
              "\n",
              "   Atmospheric Pressure  UV Index  Season  Visibility (km)  Location  \\\n",
              "0               1010.82         2  Winter              3.5    inland   \n",
              "1               1011.43         7  Spring             10.0    inland   \n",
              "2               1018.72         5  Spring              5.5  mountain   \n",
              "3               1026.25         7  Spring              1.0   coastal   \n",
              "4                990.67         1  Winter              2.5  mountain   \n",
              "\n",
              "  Weather Type  \n",
              "0        Rainy  \n",
              "1       Cloudy  \n",
              "2        Sunny  \n",
              "3        Sunny  \n",
              "4        Rainy  "
            ],
            "text/html": [
              "\n",
              "  <div id=\"df-ead90f4a-b909-4d48-8797-fc6a4e8c9a8f\" class=\"colab-df-container\">\n",
              "    <div>\n",
              "<style scoped>\n",
              "    .dataframe tbody tr th:only-of-type {\n",
              "        vertical-align: middle;\n",
              "    }\n",
              "\n",
              "    .dataframe tbody tr th {\n",
              "        vertical-align: top;\n",
              "    }\n",
              "\n",
              "    .dataframe thead th {\n",
              "        text-align: right;\n",
              "    }\n",
              "</style>\n",
              "<table border=\"1\" class=\"dataframe\">\n",
              "  <thead>\n",
              "    <tr style=\"text-align: right;\">\n",
              "      <th></th>\n",
              "      <th>Temperature</th>\n",
              "      <th>Humidity</th>\n",
              "      <th>Wind Speed</th>\n",
              "      <th>Precipitation (%)</th>\n",
              "      <th>Cloud Cover</th>\n",
              "      <th>Atmospheric Pressure</th>\n",
              "      <th>UV Index</th>\n",
              "      <th>Season</th>\n",
              "      <th>Visibility (km)</th>\n",
              "      <th>Location</th>\n",
              "      <th>Weather Type</th>\n",
              "    </tr>\n",
              "  </thead>\n",
              "  <tbody>\n",
              "    <tr>\n",
              "      <th>0</th>\n",
              "      <td>14.0</td>\n",
              "      <td>73</td>\n",
              "      <td>9.5</td>\n",
              "      <td>82.0</td>\n",
              "      <td>partly cloudy</td>\n",
              "      <td>1010.82</td>\n",
              "      <td>2</td>\n",
              "      <td>Winter</td>\n",
              "      <td>3.5</td>\n",
              "      <td>inland</td>\n",
              "      <td>Rainy</td>\n",
              "    </tr>\n",
              "    <tr>\n",
              "      <th>1</th>\n",
              "      <td>39.0</td>\n",
              "      <td>96</td>\n",
              "      <td>8.5</td>\n",
              "      <td>71.0</td>\n",
              "      <td>partly cloudy</td>\n",
              "      <td>1011.43</td>\n",
              "      <td>7</td>\n",
              "      <td>Spring</td>\n",
              "      <td>10.0</td>\n",
              "      <td>inland</td>\n",
              "      <td>Cloudy</td>\n",
              "    </tr>\n",
              "    <tr>\n",
              "      <th>2</th>\n",
              "      <td>30.0</td>\n",
              "      <td>64</td>\n",
              "      <td>7.0</td>\n",
              "      <td>16.0</td>\n",
              "      <td>clear</td>\n",
              "      <td>1018.72</td>\n",
              "      <td>5</td>\n",
              "      <td>Spring</td>\n",
              "      <td>5.5</td>\n",
              "      <td>mountain</td>\n",
              "      <td>Sunny</td>\n",
              "    </tr>\n",
              "    <tr>\n",
              "      <th>3</th>\n",
              "      <td>38.0</td>\n",
              "      <td>83</td>\n",
              "      <td>1.5</td>\n",
              "      <td>82.0</td>\n",
              "      <td>clear</td>\n",
              "      <td>1026.25</td>\n",
              "      <td>7</td>\n",
              "      <td>Spring</td>\n",
              "      <td>1.0</td>\n",
              "      <td>coastal</td>\n",
              "      <td>Sunny</td>\n",
              "    </tr>\n",
              "    <tr>\n",
              "      <th>4</th>\n",
              "      <td>27.0</td>\n",
              "      <td>74</td>\n",
              "      <td>17.0</td>\n",
              "      <td>66.0</td>\n",
              "      <td>overcast</td>\n",
              "      <td>990.67</td>\n",
              "      <td>1</td>\n",
              "      <td>Winter</td>\n",
              "      <td>2.5</td>\n",
              "      <td>mountain</td>\n",
              "      <td>Rainy</td>\n",
              "    </tr>\n",
              "  </tbody>\n",
              "</table>\n",
              "</div>\n",
              "    <div class=\"colab-df-buttons\">\n",
              "\n",
              "  <div class=\"colab-df-container\">\n",
              "    <button class=\"colab-df-convert\" onclick=\"convertToInteractive('df-ead90f4a-b909-4d48-8797-fc6a4e8c9a8f')\"\n",
              "            title=\"Convert this dataframe to an interactive table.\"\n",
              "            style=\"display:none;\">\n",
              "\n",
              "  <svg xmlns=\"http://www.w3.org/2000/svg\" height=\"24px\" viewBox=\"0 -960 960 960\">\n",
              "    <path d=\"M120-120v-720h720v720H120Zm60-500h600v-160H180v160Zm220 220h160v-160H400v160Zm0 220h160v-160H400v160ZM180-400h160v-160H180v160Zm440 0h160v-160H620v160ZM180-180h160v-160H180v160Zm440 0h160v-160H620v160Z\"/>\n",
              "  </svg>\n",
              "    </button>\n",
              "\n",
              "  <style>\n",
              "    .colab-df-container {\n",
              "      display:flex;\n",
              "      gap: 12px;\n",
              "    }\n",
              "\n",
              "    .colab-df-convert {\n",
              "      background-color: #E8F0FE;\n",
              "      border: none;\n",
              "      border-radius: 50%;\n",
              "      cursor: pointer;\n",
              "      display: none;\n",
              "      fill: #1967D2;\n",
              "      height: 32px;\n",
              "      padding: 0 0 0 0;\n",
              "      width: 32px;\n",
              "    }\n",
              "\n",
              "    .colab-df-convert:hover {\n",
              "      background-color: #E2EBFA;\n",
              "      box-shadow: 0px 1px 2px rgba(60, 64, 67, 0.3), 0px 1px 3px 1px rgba(60, 64, 67, 0.15);\n",
              "      fill: #174EA6;\n",
              "    }\n",
              "\n",
              "    .colab-df-buttons div {\n",
              "      margin-bottom: 4px;\n",
              "    }\n",
              "\n",
              "    [theme=dark] .colab-df-convert {\n",
              "      background-color: #3B4455;\n",
              "      fill: #D2E3FC;\n",
              "    }\n",
              "\n",
              "    [theme=dark] .colab-df-convert:hover {\n",
              "      background-color: #434B5C;\n",
              "      box-shadow: 0px 1px 3px 1px rgba(0, 0, 0, 0.15);\n",
              "      filter: drop-shadow(0px 1px 2px rgba(0, 0, 0, 0.3));\n",
              "      fill: #FFFFFF;\n",
              "    }\n",
              "  </style>\n",
              "\n",
              "    <script>\n",
              "      const buttonEl =\n",
              "        document.querySelector('#df-ead90f4a-b909-4d48-8797-fc6a4e8c9a8f button.colab-df-convert');\n",
              "      buttonEl.style.display =\n",
              "        google.colab.kernel.accessAllowed ? 'block' : 'none';\n",
              "\n",
              "      async function convertToInteractive(key) {\n",
              "        const element = document.querySelector('#df-ead90f4a-b909-4d48-8797-fc6a4e8c9a8f');\n",
              "        const dataTable =\n",
              "          await google.colab.kernel.invokeFunction('convertToInteractive',\n",
              "                                                    [key], {});\n",
              "        if (!dataTable) return;\n",
              "\n",
              "        const docLinkHtml = 'Like what you see? Visit the ' +\n",
              "          '<a target=\"_blank\" href=https://colab.research.google.com/notebooks/data_table.ipynb>data table notebook</a>'\n",
              "          + ' to learn more about interactive tables.';\n",
              "        element.innerHTML = '';\n",
              "        dataTable['output_type'] = 'display_data';\n",
              "        await google.colab.output.renderOutput(dataTable, element);\n",
              "        const docLink = document.createElement('div');\n",
              "        docLink.innerHTML = docLinkHtml;\n",
              "        element.appendChild(docLink);\n",
              "      }\n",
              "    </script>\n",
              "  </div>\n",
              "\n",
              "\n",
              "<div id=\"df-0a66289d-b729-4868-9b54-21b5705294a5\">\n",
              "  <button class=\"colab-df-quickchart\" onclick=\"quickchart('df-0a66289d-b729-4868-9b54-21b5705294a5')\"\n",
              "            title=\"Suggest charts\"\n",
              "            style=\"display:none;\">\n",
              "\n",
              "<svg xmlns=\"http://www.w3.org/2000/svg\" height=\"24px\"viewBox=\"0 0 24 24\"\n",
              "     width=\"24px\">\n",
              "    <g>\n",
              "        <path d=\"M19 3H5c-1.1 0-2 .9-2 2v14c0 1.1.9 2 2 2h14c1.1 0 2-.9 2-2V5c0-1.1-.9-2-2-2zM9 17H7v-7h2v7zm4 0h-2V7h2v10zm4 0h-2v-4h2v4z\"/>\n",
              "    </g>\n",
              "</svg>\n",
              "  </button>\n",
              "\n",
              "<style>\n",
              "  .colab-df-quickchart {\n",
              "      --bg-color: #E8F0FE;\n",
              "      --fill-color: #1967D2;\n",
              "      --hover-bg-color: #E2EBFA;\n",
              "      --hover-fill-color: #174EA6;\n",
              "      --disabled-fill-color: #AAA;\n",
              "      --disabled-bg-color: #DDD;\n",
              "  }\n",
              "\n",
              "  [theme=dark] .colab-df-quickchart {\n",
              "      --bg-color: #3B4455;\n",
              "      --fill-color: #D2E3FC;\n",
              "      --hover-bg-color: #434B5C;\n",
              "      --hover-fill-color: #FFFFFF;\n",
              "      --disabled-bg-color: #3B4455;\n",
              "      --disabled-fill-color: #666;\n",
              "  }\n",
              "\n",
              "  .colab-df-quickchart {\n",
              "    background-color: var(--bg-color);\n",
              "    border: none;\n",
              "    border-radius: 50%;\n",
              "    cursor: pointer;\n",
              "    display: none;\n",
              "    fill: var(--fill-color);\n",
              "    height: 32px;\n",
              "    padding: 0;\n",
              "    width: 32px;\n",
              "  }\n",
              "\n",
              "  .colab-df-quickchart:hover {\n",
              "    background-color: var(--hover-bg-color);\n",
              "    box-shadow: 0 1px 2px rgba(60, 64, 67, 0.3), 0 1px 3px 1px rgba(60, 64, 67, 0.15);\n",
              "    fill: var(--button-hover-fill-color);\n",
              "  }\n",
              "\n",
              "  .colab-df-quickchart-complete:disabled,\n",
              "  .colab-df-quickchart-complete:disabled:hover {\n",
              "    background-color: var(--disabled-bg-color);\n",
              "    fill: var(--disabled-fill-color);\n",
              "    box-shadow: none;\n",
              "  }\n",
              "\n",
              "  .colab-df-spinner {\n",
              "    border: 2px solid var(--fill-color);\n",
              "    border-color: transparent;\n",
              "    border-bottom-color: var(--fill-color);\n",
              "    animation:\n",
              "      spin 1s steps(1) infinite;\n",
              "  }\n",
              "\n",
              "  @keyframes spin {\n",
              "    0% {\n",
              "      border-color: transparent;\n",
              "      border-bottom-color: var(--fill-color);\n",
              "      border-left-color: var(--fill-color);\n",
              "    }\n",
              "    20% {\n",
              "      border-color: transparent;\n",
              "      border-left-color: var(--fill-color);\n",
              "      border-top-color: var(--fill-color);\n",
              "    }\n",
              "    30% {\n",
              "      border-color: transparent;\n",
              "      border-left-color: var(--fill-color);\n",
              "      border-top-color: var(--fill-color);\n",
              "      border-right-color: var(--fill-color);\n",
              "    }\n",
              "    40% {\n",
              "      border-color: transparent;\n",
              "      border-right-color: var(--fill-color);\n",
              "      border-top-color: var(--fill-color);\n",
              "    }\n",
              "    60% {\n",
              "      border-color: transparent;\n",
              "      border-right-color: var(--fill-color);\n",
              "    }\n",
              "    80% {\n",
              "      border-color: transparent;\n",
              "      border-right-color: var(--fill-color);\n",
              "      border-bottom-color: var(--fill-color);\n",
              "    }\n",
              "    90% {\n",
              "      border-color: transparent;\n",
              "      border-bottom-color: var(--fill-color);\n",
              "    }\n",
              "  }\n",
              "</style>\n",
              "\n",
              "  <script>\n",
              "    async function quickchart(key) {\n",
              "      const quickchartButtonEl =\n",
              "        document.querySelector('#' + key + ' button');\n",
              "      quickchartButtonEl.disabled = true;  // To prevent multiple clicks.\n",
              "      quickchartButtonEl.classList.add('colab-df-spinner');\n",
              "      try {\n",
              "        const charts = await google.colab.kernel.invokeFunction(\n",
              "            'suggestCharts', [key], {});\n",
              "      } catch (error) {\n",
              "        console.error('Error during call to suggestCharts:', error);\n",
              "      }\n",
              "      quickchartButtonEl.classList.remove('colab-df-spinner');\n",
              "      quickchartButtonEl.classList.add('colab-df-quickchart-complete');\n",
              "    }\n",
              "    (() => {\n",
              "      let quickchartButtonEl =\n",
              "        document.querySelector('#df-0a66289d-b729-4868-9b54-21b5705294a5 button');\n",
              "      quickchartButtonEl.style.display =\n",
              "        google.colab.kernel.accessAllowed ? 'block' : 'none';\n",
              "    })();\n",
              "  </script>\n",
              "</div>\n",
              "\n",
              "    </div>\n",
              "  </div>\n"
            ],
            "application/vnd.google.colaboratory.intrinsic+json": {
              "type": "dataframe",
              "variable_name": "df",
              "summary": "{\n  \"name\": \"df\",\n  \"rows\": 13200,\n  \"fields\": [\n    {\n      \"column\": \"Temperature\",\n      \"properties\": {\n        \"dtype\": \"number\",\n        \"std\": 17.386326582360788,\n        \"min\": -25.0,\n        \"max\": 109.0,\n        \"num_unique_values\": 126,\n        \"samples\": [\n          80.0,\n          4.0,\n          88.0\n        ],\n        \"semantic_type\": \"\",\n        \"description\": \"\"\n      }\n    },\n    {\n      \"column\": \"Humidity\",\n      \"properties\": {\n        \"dtype\": \"number\",\n        \"std\": 20,\n        \"min\": 20,\n        \"max\": 109,\n        \"num_unique_values\": 90,\n        \"samples\": [\n          84,\n          72,\n          38\n        ],\n        \"semantic_type\": \"\",\n        \"description\": \"\"\n      }\n    },\n    {\n      \"column\": \"Wind Speed\",\n      \"properties\": {\n        \"dtype\": \"number\",\n        \"std\": 6.908704141531295,\n        \"min\": 0.0,\n        \"max\": 48.5,\n        \"num_unique_values\": 97,\n        \"samples\": [\n          26.5,\n          14.5,\n          47.5\n        ],\n        \"semantic_type\": \"\",\n        \"description\": \"\"\n      }\n    },\n    {\n      \"column\": \"Precipitation (%)\",\n      \"properties\": {\n        \"dtype\": \"number\",\n        \"std\": 31.946540769981375,\n        \"min\": 0.0,\n        \"max\": 109.0,\n        \"num_unique_values\": 110,\n        \"samples\": [\n          51.0,\n          8.0,\n          26.0\n        ],\n        \"semantic_type\": \"\",\n        \"description\": \"\"\n      }\n    },\n    {\n      \"column\": \"Cloud Cover\",\n      \"properties\": {\n        \"dtype\": \"category\",\n        \"num_unique_values\": 4,\n        \"samples\": [\n          \"clear\",\n          \"cloudy\",\n          \"partly cloudy\"\n        ],\n        \"semantic_type\": \"\",\n        \"description\": \"\"\n      }\n    },\n    {\n      \"column\": \"Atmospheric Pressure\",\n      \"properties\": {\n        \"dtype\": \"number\",\n        \"std\": 37.199588697503295,\n        \"min\": 800.12,\n        \"max\": 1199.21,\n        \"num_unique_values\": 5456,\n        \"samples\": [\n          939.13,\n          985.08,\n          987.72\n        ],\n        \"semantic_type\": \"\",\n        \"description\": \"\"\n      }\n    },\n    {\n      \"column\": \"UV Index\",\n      \"properties\": {\n        \"dtype\": \"number\",\n        \"std\": 3,\n        \"min\": 0,\n        \"max\": 14,\n        \"num_unique_values\": 15,\n        \"samples\": [\n          4,\n          10,\n          2\n        ],\n        \"semantic_type\": \"\",\n        \"description\": \"\"\n      }\n    },\n    {\n      \"column\": \"Season\",\n      \"properties\": {\n        \"dtype\": \"category\",\n        \"num_unique_values\": 4,\n        \"samples\": [\n          \"Spring\",\n          \"Autumn\",\n          \"Winter\"\n        ],\n        \"semantic_type\": \"\",\n        \"description\": \"\"\n      }\n    },\n    {\n      \"column\": \"Visibility (km)\",\n      \"properties\": {\n        \"dtype\": \"number\",\n        \"std\": 3.371498910353949,\n        \"min\": 0.0,\n        \"max\": 20.0,\n        \"num_unique_values\": 41,\n        \"samples\": [\n          13.0,\n          9.5,\n          1.5\n        ],\n        \"semantic_type\": \"\",\n        \"description\": \"\"\n      }\n    },\n    {\n      \"column\": \"Location\",\n      \"properties\": {\n        \"dtype\": \"category\",\n        \"num_unique_values\": 3,\n        \"samples\": [\n          \"inland\",\n          \"mountain\",\n          \"coastal\"\n        ],\n        \"semantic_type\": \"\",\n        \"description\": \"\"\n      }\n    },\n    {\n      \"column\": \"Weather Type\",\n      \"properties\": {\n        \"dtype\": \"category\",\n        \"num_unique_values\": 4,\n        \"samples\": [\n          \"Cloudy\",\n          \"Snowy\",\n          \"Rainy\"\n        ],\n        \"semantic_type\": \"\",\n        \"description\": \"\"\n      }\n    }\n  ]\n}"
            }
          },
          "metadata": {},
          "execution_count": 3
        }
      ]
    },
    {
      "cell_type": "markdown",
      "source": [
        "Let's retain only the columns we need."
      ],
      "metadata": {
        "id": "as0KIml44YgJ"
      }
    },
    {
      "cell_type": "code",
      "source": [
        "X_df = df[['Temperature', 'Humidity', 'Wind Speed', 'Precipitation (%)']]\n",
        "Y_df = df['Weather Type']"
      ],
      "metadata": {
        "id": "PtL3S9fC4bIn"
      },
      "execution_count": null,
      "outputs": []
    },
    {
      "cell_type": "markdown",
      "source": [
        "Then, only keep the rows where the weather type is rainy or sunny."
      ],
      "metadata": {
        "id": "od4VvpmucqbT"
      }
    },
    {
      "cell_type": "code",
      "source": [
        "X_df = X_df.loc[(df['Weather Type']=='Rainy') | (df['Weather Type']=='Sunny')]\n",
        "Y_df = Y_df.loc[(df['Weather Type']=='Rainy') | (df['Weather Type']=='Sunny')]"
      ],
      "metadata": {
        "id": "6z7qi4EScu31"
      },
      "execution_count": null,
      "outputs": []
    },
    {
      "cell_type": "markdown",
      "source": [
        "Transform $Y$ labels to binary labels."
      ],
      "metadata": {
        "id": "rhoUuC7udBAZ"
      }
    },
    {
      "cell_type": "code",
      "source": [
        "Y_df[Y_df == 'Rainy'] = 0\n",
        "Y_df[Y_df == 'Sunny'] = 1\n",
        "\n",
        "Y_df = Y_df.astype(int)"
      ],
      "metadata": {
        "id": "4y3NFpN8dEuE"
      },
      "execution_count": null,
      "outputs": []
    },
    {
      "cell_type": "code",
      "source": [
        "X_df.head()"
      ],
      "metadata": {
        "colab": {
          "base_uri": "https://localhost:8080/",
          "height": 204
        },
        "id": "4GDqR-xN4n40",
        "outputId": "812e897c-a2ba-4271-cb6b-01303e94235b"
      },
      "execution_count": null,
      "outputs": [
        {
          "output_type": "execute_result",
          "data": {
            "text/plain": [
              "   Temperature  Humidity  Wind Speed  Precipitation (%)\n",
              "0         14.0        73         9.5               82.0\n",
              "2         30.0        64         7.0               16.0\n",
              "3         38.0        83         1.5               82.0\n",
              "4         27.0        74        17.0               66.0\n",
              "9         28.0        74         8.5              107.0"
            ],
            "text/html": [
              "\n",
              "  <div id=\"df-09bbf667-c34a-46de-81e4-9495ab132792\" class=\"colab-df-container\">\n",
              "    <div>\n",
              "<style scoped>\n",
              "    .dataframe tbody tr th:only-of-type {\n",
              "        vertical-align: middle;\n",
              "    }\n",
              "\n",
              "    .dataframe tbody tr th {\n",
              "        vertical-align: top;\n",
              "    }\n",
              "\n",
              "    .dataframe thead th {\n",
              "        text-align: right;\n",
              "    }\n",
              "</style>\n",
              "<table border=\"1\" class=\"dataframe\">\n",
              "  <thead>\n",
              "    <tr style=\"text-align: right;\">\n",
              "      <th></th>\n",
              "      <th>Temperature</th>\n",
              "      <th>Humidity</th>\n",
              "      <th>Wind Speed</th>\n",
              "      <th>Precipitation (%)</th>\n",
              "    </tr>\n",
              "  </thead>\n",
              "  <tbody>\n",
              "    <tr>\n",
              "      <th>0</th>\n",
              "      <td>14.0</td>\n",
              "      <td>73</td>\n",
              "      <td>9.5</td>\n",
              "      <td>82.0</td>\n",
              "    </tr>\n",
              "    <tr>\n",
              "      <th>2</th>\n",
              "      <td>30.0</td>\n",
              "      <td>64</td>\n",
              "      <td>7.0</td>\n",
              "      <td>16.0</td>\n",
              "    </tr>\n",
              "    <tr>\n",
              "      <th>3</th>\n",
              "      <td>38.0</td>\n",
              "      <td>83</td>\n",
              "      <td>1.5</td>\n",
              "      <td>82.0</td>\n",
              "    </tr>\n",
              "    <tr>\n",
              "      <th>4</th>\n",
              "      <td>27.0</td>\n",
              "      <td>74</td>\n",
              "      <td>17.0</td>\n",
              "      <td>66.0</td>\n",
              "    </tr>\n",
              "    <tr>\n",
              "      <th>9</th>\n",
              "      <td>28.0</td>\n",
              "      <td>74</td>\n",
              "      <td>8.5</td>\n",
              "      <td>107.0</td>\n",
              "    </tr>\n",
              "  </tbody>\n",
              "</table>\n",
              "</div>\n",
              "    <div class=\"colab-df-buttons\">\n",
              "\n",
              "  <div class=\"colab-df-container\">\n",
              "    <button class=\"colab-df-convert\" onclick=\"convertToInteractive('df-09bbf667-c34a-46de-81e4-9495ab132792')\"\n",
              "            title=\"Convert this dataframe to an interactive table.\"\n",
              "            style=\"display:none;\">\n",
              "\n",
              "  <svg xmlns=\"http://www.w3.org/2000/svg\" height=\"24px\" viewBox=\"0 -960 960 960\">\n",
              "    <path d=\"M120-120v-720h720v720H120Zm60-500h600v-160H180v160Zm220 220h160v-160H400v160Zm0 220h160v-160H400v160ZM180-400h160v-160H180v160Zm440 0h160v-160H620v160ZM180-180h160v-160H180v160Zm440 0h160v-160H620v160Z\"/>\n",
              "  </svg>\n",
              "    </button>\n",
              "\n",
              "  <style>\n",
              "    .colab-df-container {\n",
              "      display:flex;\n",
              "      gap: 12px;\n",
              "    }\n",
              "\n",
              "    .colab-df-convert {\n",
              "      background-color: #E8F0FE;\n",
              "      border: none;\n",
              "      border-radius: 50%;\n",
              "      cursor: pointer;\n",
              "      display: none;\n",
              "      fill: #1967D2;\n",
              "      height: 32px;\n",
              "      padding: 0 0 0 0;\n",
              "      width: 32px;\n",
              "    }\n",
              "\n",
              "    .colab-df-convert:hover {\n",
              "      background-color: #E2EBFA;\n",
              "      box-shadow: 0px 1px 2px rgba(60, 64, 67, 0.3), 0px 1px 3px 1px rgba(60, 64, 67, 0.15);\n",
              "      fill: #174EA6;\n",
              "    }\n",
              "\n",
              "    .colab-df-buttons div {\n",
              "      margin-bottom: 4px;\n",
              "    }\n",
              "\n",
              "    [theme=dark] .colab-df-convert {\n",
              "      background-color: #3B4455;\n",
              "      fill: #D2E3FC;\n",
              "    }\n",
              "\n",
              "    [theme=dark] .colab-df-convert:hover {\n",
              "      background-color: #434B5C;\n",
              "      box-shadow: 0px 1px 3px 1px rgba(0, 0, 0, 0.15);\n",
              "      filter: drop-shadow(0px 1px 2px rgba(0, 0, 0, 0.3));\n",
              "      fill: #FFFFFF;\n",
              "    }\n",
              "  </style>\n",
              "\n",
              "    <script>\n",
              "      const buttonEl =\n",
              "        document.querySelector('#df-09bbf667-c34a-46de-81e4-9495ab132792 button.colab-df-convert');\n",
              "      buttonEl.style.display =\n",
              "        google.colab.kernel.accessAllowed ? 'block' : 'none';\n",
              "\n",
              "      async function convertToInteractive(key) {\n",
              "        const element = document.querySelector('#df-09bbf667-c34a-46de-81e4-9495ab132792');\n",
              "        const dataTable =\n",
              "          await google.colab.kernel.invokeFunction('convertToInteractive',\n",
              "                                                    [key], {});\n",
              "        if (!dataTable) return;\n",
              "\n",
              "        const docLinkHtml = 'Like what you see? Visit the ' +\n",
              "          '<a target=\"_blank\" href=https://colab.research.google.com/notebooks/data_table.ipynb>data table notebook</a>'\n",
              "          + ' to learn more about interactive tables.';\n",
              "        element.innerHTML = '';\n",
              "        dataTable['output_type'] = 'display_data';\n",
              "        await google.colab.output.renderOutput(dataTable, element);\n",
              "        const docLink = document.createElement('div');\n",
              "        docLink.innerHTML = docLinkHtml;\n",
              "        element.appendChild(docLink);\n",
              "      }\n",
              "    </script>\n",
              "  </div>\n",
              "\n",
              "\n",
              "<div id=\"df-0b2d3c25-a3cb-4f75-a5f4-e21bf4c57e96\">\n",
              "  <button class=\"colab-df-quickchart\" onclick=\"quickchart('df-0b2d3c25-a3cb-4f75-a5f4-e21bf4c57e96')\"\n",
              "            title=\"Suggest charts\"\n",
              "            style=\"display:none;\">\n",
              "\n",
              "<svg xmlns=\"http://www.w3.org/2000/svg\" height=\"24px\"viewBox=\"0 0 24 24\"\n",
              "     width=\"24px\">\n",
              "    <g>\n",
              "        <path d=\"M19 3H5c-1.1 0-2 .9-2 2v14c0 1.1.9 2 2 2h14c1.1 0 2-.9 2-2V5c0-1.1-.9-2-2-2zM9 17H7v-7h2v7zm4 0h-2V7h2v10zm4 0h-2v-4h2v4z\"/>\n",
              "    </g>\n",
              "</svg>\n",
              "  </button>\n",
              "\n",
              "<style>\n",
              "  .colab-df-quickchart {\n",
              "      --bg-color: #E8F0FE;\n",
              "      --fill-color: #1967D2;\n",
              "      --hover-bg-color: #E2EBFA;\n",
              "      --hover-fill-color: #174EA6;\n",
              "      --disabled-fill-color: #AAA;\n",
              "      --disabled-bg-color: #DDD;\n",
              "  }\n",
              "\n",
              "  [theme=dark] .colab-df-quickchart {\n",
              "      --bg-color: #3B4455;\n",
              "      --fill-color: #D2E3FC;\n",
              "      --hover-bg-color: #434B5C;\n",
              "      --hover-fill-color: #FFFFFF;\n",
              "      --disabled-bg-color: #3B4455;\n",
              "      --disabled-fill-color: #666;\n",
              "  }\n",
              "\n",
              "  .colab-df-quickchart {\n",
              "    background-color: var(--bg-color);\n",
              "    border: none;\n",
              "    border-radius: 50%;\n",
              "    cursor: pointer;\n",
              "    display: none;\n",
              "    fill: var(--fill-color);\n",
              "    height: 32px;\n",
              "    padding: 0;\n",
              "    width: 32px;\n",
              "  }\n",
              "\n",
              "  .colab-df-quickchart:hover {\n",
              "    background-color: var(--hover-bg-color);\n",
              "    box-shadow: 0 1px 2px rgba(60, 64, 67, 0.3), 0 1px 3px 1px rgba(60, 64, 67, 0.15);\n",
              "    fill: var(--button-hover-fill-color);\n",
              "  }\n",
              "\n",
              "  .colab-df-quickchart-complete:disabled,\n",
              "  .colab-df-quickchart-complete:disabled:hover {\n",
              "    background-color: var(--disabled-bg-color);\n",
              "    fill: var(--disabled-fill-color);\n",
              "    box-shadow: none;\n",
              "  }\n",
              "\n",
              "  .colab-df-spinner {\n",
              "    border: 2px solid var(--fill-color);\n",
              "    border-color: transparent;\n",
              "    border-bottom-color: var(--fill-color);\n",
              "    animation:\n",
              "      spin 1s steps(1) infinite;\n",
              "  }\n",
              "\n",
              "  @keyframes spin {\n",
              "    0% {\n",
              "      border-color: transparent;\n",
              "      border-bottom-color: var(--fill-color);\n",
              "      border-left-color: var(--fill-color);\n",
              "    }\n",
              "    20% {\n",
              "      border-color: transparent;\n",
              "      border-left-color: var(--fill-color);\n",
              "      border-top-color: var(--fill-color);\n",
              "    }\n",
              "    30% {\n",
              "      border-color: transparent;\n",
              "      border-left-color: var(--fill-color);\n",
              "      border-top-color: var(--fill-color);\n",
              "      border-right-color: var(--fill-color);\n",
              "    }\n",
              "    40% {\n",
              "      border-color: transparent;\n",
              "      border-right-color: var(--fill-color);\n",
              "      border-top-color: var(--fill-color);\n",
              "    }\n",
              "    60% {\n",
              "      border-color: transparent;\n",
              "      border-right-color: var(--fill-color);\n",
              "    }\n",
              "    80% {\n",
              "      border-color: transparent;\n",
              "      border-right-color: var(--fill-color);\n",
              "      border-bottom-color: var(--fill-color);\n",
              "    }\n",
              "    90% {\n",
              "      border-color: transparent;\n",
              "      border-bottom-color: var(--fill-color);\n",
              "    }\n",
              "  }\n",
              "</style>\n",
              "\n",
              "  <script>\n",
              "    async function quickchart(key) {\n",
              "      const quickchartButtonEl =\n",
              "        document.querySelector('#' + key + ' button');\n",
              "      quickchartButtonEl.disabled = true;  // To prevent multiple clicks.\n",
              "      quickchartButtonEl.classList.add('colab-df-spinner');\n",
              "      try {\n",
              "        const charts = await google.colab.kernel.invokeFunction(\n",
              "            'suggestCharts', [key], {});\n",
              "      } catch (error) {\n",
              "        console.error('Error during call to suggestCharts:', error);\n",
              "      }\n",
              "      quickchartButtonEl.classList.remove('colab-df-spinner');\n",
              "      quickchartButtonEl.classList.add('colab-df-quickchart-complete');\n",
              "    }\n",
              "    (() => {\n",
              "      let quickchartButtonEl =\n",
              "        document.querySelector('#df-0b2d3c25-a3cb-4f75-a5f4-e21bf4c57e96 button');\n",
              "      quickchartButtonEl.style.display =\n",
              "        google.colab.kernel.accessAllowed ? 'block' : 'none';\n",
              "    })();\n",
              "  </script>\n",
              "</div>\n",
              "\n",
              "    </div>\n",
              "  </div>\n"
            ],
            "application/vnd.google.colaboratory.intrinsic+json": {
              "type": "dataframe",
              "variable_name": "X_df",
              "summary": "{\n  \"name\": \"X_df\",\n  \"rows\": 6600,\n  \"fields\": [\n    {\n      \"column\": \"Temperature\",\n      \"properties\": {\n        \"dtype\": \"number\",\n        \"std\": 14.09747907102882,\n        \"min\": -20.0,\n        \"max\": 109.0,\n        \"num_unique_values\": 121,\n        \"samples\": [\n          5.0,\n          -15.0,\n          28.0\n        ],\n        \"semantic_type\": \"\",\n        \"description\": \"\"\n      }\n    },\n    {\n      \"column\": \"Humidity\",\n      \"properties\": {\n        \"dtype\": \"number\",\n        \"std\": 22,\n        \"min\": 20,\n        \"max\": 109,\n        \"num_unique_values\": 90,\n        \"samples\": [\n          24,\n          91,\n          49\n        ],\n        \"semantic_type\": \"\",\n        \"description\": \"\"\n      }\n    },\n    {\n      \"column\": \"Wind Speed\",\n      \"properties\": {\n        \"dtype\": \"number\",\n        \"std\": 6.950174992188199,\n        \"min\": 0.0,\n        \"max\": 47.5,\n        \"num_unique_values\": 95,\n        \"samples\": [\n          25.0,\n          18.5,\n          39.0\n        ],\n        \"semantic_type\": \"\",\n        \"description\": \"\"\n      }\n    },\n    {\n      \"column\": \"Precipitation (%)\",\n      \"properties\": {\n        \"dtype\": \"number\",\n        \"std\": 35.33060697314855,\n        \"min\": 0.0,\n        \"max\": 109.0,\n        \"num_unique_values\": 110,\n        \"samples\": [\n          49.0,\n          12.0,\n          8.0\n        ],\n        \"semantic_type\": \"\",\n        \"description\": \"\"\n      }\n    }\n  ]\n}"
            }
          },
          "metadata": {},
          "execution_count": 7
        }
      ]
    },
    {
      "cell_type": "code",
      "source": [
        "Y_df.head()"
      ],
      "metadata": {
        "colab": {
          "base_uri": "https://localhost:8080/",
          "height": 238
        },
        "id": "cnltqyVo4v9v",
        "outputId": "d74563a1-7f75-4753-f177-fd26ac2584e6"
      },
      "execution_count": null,
      "outputs": [
        {
          "output_type": "execute_result",
          "data": {
            "text/plain": [
              "0    0\n",
              "2    1\n",
              "3    1\n",
              "4    0\n",
              "9    1\n",
              "Name: Weather Type, dtype: int64"
            ],
            "text/html": [
              "<div>\n",
              "<style scoped>\n",
              "    .dataframe tbody tr th:only-of-type {\n",
              "        vertical-align: middle;\n",
              "    }\n",
              "\n",
              "    .dataframe tbody tr th {\n",
              "        vertical-align: top;\n",
              "    }\n",
              "\n",
              "    .dataframe thead th {\n",
              "        text-align: right;\n",
              "    }\n",
              "</style>\n",
              "<table border=\"1\" class=\"dataframe\">\n",
              "  <thead>\n",
              "    <tr style=\"text-align: right;\">\n",
              "      <th></th>\n",
              "      <th>Weather Type</th>\n",
              "    </tr>\n",
              "  </thead>\n",
              "  <tbody>\n",
              "    <tr>\n",
              "      <th>0</th>\n",
              "      <td>0</td>\n",
              "    </tr>\n",
              "    <tr>\n",
              "      <th>2</th>\n",
              "      <td>1</td>\n",
              "    </tr>\n",
              "    <tr>\n",
              "      <th>3</th>\n",
              "      <td>1</td>\n",
              "    </tr>\n",
              "    <tr>\n",
              "      <th>4</th>\n",
              "      <td>0</td>\n",
              "    </tr>\n",
              "    <tr>\n",
              "      <th>9</th>\n",
              "      <td>1</td>\n",
              "    </tr>\n",
              "  </tbody>\n",
              "</table>\n",
              "</div><br><label><b>dtype:</b> int64</label>"
            ]
          },
          "metadata": {},
          "execution_count": 8
        }
      ]
    },
    {
      "cell_type": "markdown",
      "source": [
        "Recall that $X$ has shape $n_x\\times m$, and $Y$ has shape $n_y\\times m$. However, one should always check the convention of the library that they use. In the case of Tensorflow, a linear layer expects an input of $m\\times n_\\text{in}$ and has an output of $m\\times n_\\text{out}$.\n",
        "\n",
        "Thus, columns are features and rows are each observation, and we can convert the dataframes into tensors directly."
      ],
      "metadata": {
        "id": "PTqQL0EH6ZF9"
      }
    },
    {
      "cell_type": "code",
      "source": [
        "X = X_df.values\n",
        "Y = Y_df.values.reshape(-1, 1)"
      ],
      "metadata": {
        "id": "-17VXEbfvtKT"
      },
      "execution_count": null,
      "outputs": []
    },
    {
      "cell_type": "code",
      "source": [
        "X"
      ],
      "metadata": {
        "colab": {
          "base_uri": "https://localhost:8080/"
        },
        "id": "f-CvP3bB8PJk",
        "outputId": "c48d8ec2-a7d7-4fc7-848c-8e46e3bf4169"
      },
      "execution_count": null,
      "outputs": [
        {
          "output_type": "execute_result",
          "data": {
            "text/plain": [
              "array([[14. , 73. ,  9.5, 82. ],\n",
              "       [30. , 64. ,  7. , 16. ],\n",
              "       [38. , 83. ,  1.5, 82. ],\n",
              "       ...,\n",
              "       [31. , 24. ,  8. ,  5. ],\n",
              "       [10. , 74. , 14.5, 71. ],\n",
              "       [-5. , 38. ,  0. , 92. ]])"
            ]
          },
          "metadata": {},
          "execution_count": 10
        }
      ]
    },
    {
      "cell_type": "code",
      "source": [
        "X.shape"
      ],
      "metadata": {
        "colab": {
          "base_uri": "https://localhost:8080/"
        },
        "id": "Hb3U-Qt2daUo",
        "outputId": "95e2b590-6ed5-4265-e579-8f99bb0e6c3c"
      },
      "execution_count": null,
      "outputs": [
        {
          "output_type": "execute_result",
          "data": {
            "text/plain": [
              "(6600, 4)"
            ]
          },
          "metadata": {},
          "execution_count": 11
        }
      ]
    },
    {
      "cell_type": "code",
      "source": [
        "Y"
      ],
      "metadata": {
        "colab": {
          "base_uri": "https://localhost:8080/"
        },
        "id": "hDBGVAiW8TwP",
        "outputId": "2e1a29b7-7d39-4665-94a9-a0cfacfdfb74"
      },
      "execution_count": null,
      "outputs": [
        {
          "output_type": "execute_result",
          "data": {
            "text/plain": [
              "array([[0],\n",
              "       [1],\n",
              "       [1],\n",
              "       ...,\n",
              "       [1],\n",
              "       [0],\n",
              "       [0]])"
            ]
          },
          "metadata": {},
          "execution_count": 12
        }
      ]
    },
    {
      "cell_type": "code",
      "source": [
        "Y.shape"
      ],
      "metadata": {
        "colab": {
          "base_uri": "https://localhost:8080/"
        },
        "id": "zcuxX2okdbFP",
        "outputId": "d02ac753-0df5-4c91-df76-3d1d351f2d02"
      },
      "execution_count": null,
      "outputs": [
        {
          "output_type": "execute_result",
          "data": {
            "text/plain": [
              "(6600, 1)"
            ]
          },
          "metadata": {},
          "execution_count": 13
        }
      ]
    },
    {
      "cell_type": "markdown",
      "source": [
        "# Normalize and Split Data\n",
        "We shall normalize our data using minmax scaling. Recall, it is given by: $$x'=\\frac{x-x_{\\text{min}}}{x_{\\text{max}}-x_{\\text{min}}}$$\n",
        "\n",
        "Note that when finding the min and max for $X$, we must define that we are taking this metric along the first axis. Thus, a $1\\times3$ mean will be produced from a $13200\\times3$ $X$."
      ],
      "metadata": {
        "id": "AH21QYHOJ6_-"
      }
    },
    {
      "cell_type": "code",
      "source": [
        "X_max = tf.reduce_max(X, axis=0)\n",
        "X_min = tf.reduce_min(X, axis=0)\n",
        "Y_max = tf.reduce_max(Y)\n",
        "Y_min = tf.reduce_min(Y)\n",
        "\n",
        "Xp = (X - X_min) / (X_max - X_min)\n",
        "Yp = (Y - Y_min) / (Y_max - Y_min)"
      ],
      "metadata": {
        "id": "9QvrYs_Mmfj0"
      },
      "execution_count": null,
      "outputs": []
    },
    {
      "cell_type": "markdown",
      "source": [
        "Now, let's split our data."
      ],
      "metadata": {
        "id": "fc9-aawzpCIV"
      }
    },
    {
      "cell_type": "code",
      "source": [
        "m = len(X)\n",
        "split_n = [int(n) for n in [m*p for p in [0.8*0.8, 0.8*0.2, 0.2]]]\n",
        "\n",
        "X_train, X_val, X_test = tf.split(Xp, split_n)\n",
        "Y_train, Y_val, Y_test = tf.split(Yp, split_n)"
      ],
      "metadata": {
        "id": "ZP99KVoiMHWG"
      },
      "execution_count": null,
      "outputs": []
    },
    {
      "cell_type": "markdown",
      "source": [
        "# Create Model Class\n",
        "Let's start with a basic model, with one hidden layer of 3 neurons.\n",
        "\n",
        "In Tensorflow, the input dimensions are inferred but can be explicitly defined.\n",
        "\n",
        "Take note of the structure of the model class. We inherit from `tensorflow.keras.Model`, define layers in `__init__()`, and implement `call()` using our previously defined layers."
      ],
      "metadata": {
        "id": "zLAzXifTQ2zD"
      }
    },
    {
      "cell_type": "code",
      "source": [
        "import tensorflow as tf\n",
        "from tensorflow.keras import Model\n",
        "from tensorflow.keras.layers import Dense, Normalization\n",
        "\n",
        "class MyModel(Model):\n",
        "    def __init__(self):\n",
        "        super().__init__()\n",
        "\n",
        "        self.stack = tf.keras.Sequential([\n",
        "            tf.keras.Input(shape=(4,)),\n",
        "            Dense(3, activation='relu'),\n",
        "            Dense(1, activation='sigmoid')\n",
        "        ])\n",
        "\n",
        "    def call(self, x):\n",
        "        x = self.stack(x)\n",
        "        return x"
      ],
      "metadata": {
        "id": "Zv_kHfQA1kq9"
      },
      "execution_count": null,
      "outputs": []
    },
    {
      "cell_type": "markdown",
      "source": [
        "# Train and Test\n",
        "References:\n",
        "1. https://www.tensorflow.org/tutorials/quickstart/advanced\n",
        "2. https://www.tensorflow.org/guide/effective_tf2\n"
      ],
      "metadata": {
        "id": "tuO7LskQNs7y"
      }
    },
    {
      "cell_type": "markdown",
      "source": [
        "Let's train for 100 epochs."
      ],
      "metadata": {
        "id": "PhC0Fj2zUITj"
      }
    },
    {
      "cell_type": "code",
      "source": [
        "EPOCHS = 100\n",
        "\n",
        "model1 = MyModel()\n",
        "\n",
        "model1.summary()"
      ],
      "metadata": {
        "id": "p5eFfGD1HvzC",
        "colab": {
          "base_uri": "https://localhost:8080/",
          "height": 161
        },
        "outputId": "db320ef0-78d8-44c8-88c9-f98147036408"
      },
      "execution_count": null,
      "outputs": [
        {
          "output_type": "display_data",
          "data": {
            "text/plain": [
              "\u001b[1mModel: \"my_model\"\u001b[0m\n"
            ],
            "text/html": [
              "<pre style=\"white-space:pre;overflow-x:auto;line-height:normal;font-family:Menlo,'DejaVu Sans Mono',consolas,'Courier New',monospace\"><span style=\"font-weight: bold\">Model: \"my_model\"</span>\n",
              "</pre>\n"
            ]
          },
          "metadata": {}
        },
        {
          "output_type": "display_data",
          "data": {
            "text/plain": [
              "┏━━━━━━━━━━━━━━━━━━━━━━━━━━━━━━━━━━━━━━┳━━━━━━━━━━━━━━━━━━━━━━━━━━━━━┳━━━━━━━━━━━━━━━━━┓\n",
              "┃\u001b[1m \u001b[0m\u001b[1mLayer (type)                        \u001b[0m\u001b[1m \u001b[0m┃\u001b[1m \u001b[0m\u001b[1mOutput Shape               \u001b[0m\u001b[1m \u001b[0m┃\u001b[1m \u001b[0m\u001b[1m        Param #\u001b[0m\u001b[1m \u001b[0m┃\n",
              "┡━━━━━━━━━━━━━━━━━━━━━━━━━━━━━━━━━━━━━━╇━━━━━━━━━━━━━━━━━━━━━━━━━━━━━╇━━━━━━━━━━━━━━━━━┩\n",
              "│ sequential (\u001b[38;5;33mSequential\u001b[0m)              │ (\u001b[38;5;45mNone\u001b[0m, \u001b[38;5;34m1\u001b[0m)                   │              \u001b[38;5;34m19\u001b[0m │\n",
              "└──────────────────────────────────────┴─────────────────────────────┴─────────────────┘\n"
            ],
            "text/html": [
              "<pre style=\"white-space:pre;overflow-x:auto;line-height:normal;font-family:Menlo,'DejaVu Sans Mono',consolas,'Courier New',monospace\">┏━━━━━━━━━━━━━━━━━━━━━━━━━━━━━━━━━━━━━━┳━━━━━━━━━━━━━━━━━━━━━━━━━━━━━┳━━━━━━━━━━━━━━━━━┓\n",
              "┃<span style=\"font-weight: bold\"> Layer (type)                         </span>┃<span style=\"font-weight: bold\"> Output Shape                </span>┃<span style=\"font-weight: bold\">         Param # </span>┃\n",
              "┡━━━━━━━━━━━━━━━━━━━━━━━━━━━━━━━━━━━━━━╇━━━━━━━━━━━━━━━━━━━━━━━━━━━━━╇━━━━━━━━━━━━━━━━━┩\n",
              "│ sequential (<span style=\"color: #0087ff; text-decoration-color: #0087ff\">Sequential</span>)              │ (<span style=\"color: #00d7ff; text-decoration-color: #00d7ff\">None</span>, <span style=\"color: #00af00; text-decoration-color: #00af00\">1</span>)                   │              <span style=\"color: #00af00; text-decoration-color: #00af00\">19</span> │\n",
              "└──────────────────────────────────────┴─────────────────────────────┴─────────────────┘\n",
              "</pre>\n"
            ]
          },
          "metadata": {}
        },
        {
          "output_type": "display_data",
          "data": {
            "text/plain": [
              "\u001b[1m Total params: \u001b[0m\u001b[38;5;34m19\u001b[0m (76.00 B)\n"
            ],
            "text/html": [
              "<pre style=\"white-space:pre;overflow-x:auto;line-height:normal;font-family:Menlo,'DejaVu Sans Mono',consolas,'Courier New',monospace\"><span style=\"font-weight: bold\"> Total params: </span><span style=\"color: #00af00; text-decoration-color: #00af00\">19</span> (76.00 B)\n",
              "</pre>\n"
            ]
          },
          "metadata": {}
        },
        {
          "output_type": "display_data",
          "data": {
            "text/plain": [
              "\u001b[1m Trainable params: \u001b[0m\u001b[38;5;34m19\u001b[0m (76.00 B)\n"
            ],
            "text/html": [
              "<pre style=\"white-space:pre;overflow-x:auto;line-height:normal;font-family:Menlo,'DejaVu Sans Mono',consolas,'Courier New',monospace\"><span style=\"font-weight: bold\"> Trainable params: </span><span style=\"color: #00af00; text-decoration-color: #00af00\">19</span> (76.00 B)\n",
              "</pre>\n"
            ]
          },
          "metadata": {}
        },
        {
          "output_type": "display_data",
          "data": {
            "text/plain": [
              "\u001b[1m Non-trainable params: \u001b[0m\u001b[38;5;34m0\u001b[0m (0.00 B)\n"
            ],
            "text/html": [
              "<pre style=\"white-space:pre;overflow-x:auto;line-height:normal;font-family:Menlo,'DejaVu Sans Mono',consolas,'Courier New',monospace\"><span style=\"font-weight: bold\"> Non-trainable params: </span><span style=\"color: #00af00; text-decoration-color: #00af00\">0</span> (0.00 B)\n",
              "</pre>\n"
            ]
          },
          "metadata": {}
        }
      ]
    },
    {
      "cell_type": "markdown",
      "source": [
        "## Using Keras Training Loop\n",
        "If you don't need low-level control of your training process, using Keras' built-in fit, evaluate, and predict methods is recommended.\n",
        "\n",
        "\n",
        "Initialize model, loss, and optimizer, then fit."
      ],
      "metadata": {
        "id": "I6mI2ZcWG4ZE"
      }
    },
    {
      "cell_type": "code",
      "source": [
        "loss_fn = tf.keras.losses.MeanSquaredError()\n",
        "optimizer = tf.keras.optimizers.Adam()\n",
        "\n",
        "model1.compile(optimizer=optimizer, loss=loss_fn, metrics=[\n",
        "    tf.keras.metrics.BinaryAccuracy()\n",
        "])\n",
        "\n",
        "history = model1.fit(X_train, Y_train, epochs=EPOCHS, verbose=2,\n",
        "                     validation_data=(X_val, Y_val))"
      ],
      "metadata": {
        "colab": {
          "base_uri": "https://localhost:8080/"
        },
        "id": "SMJC3phGHOt5",
        "outputId": "da5c5873-9604-4053-c502-8f93f04af36a"
      },
      "execution_count": null,
      "outputs": [
        {
          "output_type": "stream",
          "name": "stdout",
          "text": [
            "Epoch 1/100\n",
            "132/132 - 5s - 42ms/step - binary_accuracy: 0.6768 - loss: 0.2212 - val_binary_accuracy: 0.7831 - val_loss: 0.2094\n",
            "Epoch 2/100\n",
            "132/132 - 1s - 6ms/step - binary_accuracy: 0.8438 - loss: 0.2046 - val_binary_accuracy: 0.8741 - val_loss: 0.1951\n",
            "Epoch 3/100\n",
            "132/132 - 2s - 13ms/step - binary_accuracy: 0.8823 - loss: 0.1904 - val_binary_accuracy: 0.8845 - val_loss: 0.1818\n",
            "Epoch 4/100\n",
            "132/132 - 1s - 9ms/step - binary_accuracy: 0.8852 - loss: 0.1771 - val_binary_accuracy: 0.8835 - val_loss: 0.1698\n",
            "Epoch 5/100\n",
            "132/132 - 1s - 8ms/step - binary_accuracy: 0.8854 - loss: 0.1652 - val_binary_accuracy: 0.8816 - val_loss: 0.1593\n",
            "Epoch 6/100\n",
            "132/132 - 1s - 8ms/step - binary_accuracy: 0.8873 - loss: 0.1548 - val_binary_accuracy: 0.8816 - val_loss: 0.1503\n",
            "Epoch 7/100\n",
            "132/132 - 1s - 8ms/step - binary_accuracy: 0.8873 - loss: 0.1458 - val_binary_accuracy: 0.8826 - val_loss: 0.1426\n",
            "Epoch 8/100\n",
            "132/132 - 1s - 7ms/step - binary_accuracy: 0.8875 - loss: 0.1382 - val_binary_accuracy: 0.8816 - val_loss: 0.1363\n",
            "Epoch 9/100\n",
            "132/132 - 1s - 9ms/step - binary_accuracy: 0.8878 - loss: 0.1318 - val_binary_accuracy: 0.8816 - val_loss: 0.1309\n",
            "Epoch 10/100\n",
            "132/132 - 1s - 8ms/step - binary_accuracy: 0.8878 - loss: 0.1263 - val_binary_accuracy: 0.8816 - val_loss: 0.1264\n",
            "Epoch 11/100\n",
            "132/132 - 1s - 5ms/step - binary_accuracy: 0.8878 - loss: 0.1217 - val_binary_accuracy: 0.8797 - val_loss: 0.1226\n",
            "Epoch 12/100\n",
            "132/132 - 1s - 5ms/step - binary_accuracy: 0.8880 - loss: 0.1178 - val_binary_accuracy: 0.8816 - val_loss: 0.1194\n",
            "Epoch 13/100\n",
            "132/132 - 1s - 5ms/step - binary_accuracy: 0.8883 - loss: 0.1145 - val_binary_accuracy: 0.8807 - val_loss: 0.1166\n",
            "Epoch 14/100\n",
            "132/132 - 1s - 5ms/step - binary_accuracy: 0.8890 - loss: 0.1116 - val_binary_accuracy: 0.8816 - val_loss: 0.1143\n",
            "Epoch 15/100\n",
            "132/132 - 1s - 6ms/step - binary_accuracy: 0.8892 - loss: 0.1091 - val_binary_accuracy: 0.8826 - val_loss: 0.1123\n",
            "Epoch 16/100\n",
            "132/132 - 1s - 6ms/step - binary_accuracy: 0.8897 - loss: 0.1070 - val_binary_accuracy: 0.8845 - val_loss: 0.1106\n",
            "Epoch 17/100\n",
            "132/132 - 0s - 2ms/step - binary_accuracy: 0.8892 - loss: 0.1051 - val_binary_accuracy: 0.8845 - val_loss: 0.1091\n",
            "Epoch 18/100\n",
            "132/132 - 0s - 2ms/step - binary_accuracy: 0.8894 - loss: 0.1034 - val_binary_accuracy: 0.8854 - val_loss: 0.1078\n",
            "Epoch 19/100\n",
            "132/132 - 0s - 2ms/step - binary_accuracy: 0.8899 - loss: 0.1019 - val_binary_accuracy: 0.8864 - val_loss: 0.1066\n",
            "Epoch 20/100\n",
            "132/132 - 0s - 3ms/step - binary_accuracy: 0.8897 - loss: 0.1006 - val_binary_accuracy: 0.8845 - val_loss: 0.1056\n",
            "Epoch 21/100\n",
            "132/132 - 0s - 2ms/step - binary_accuracy: 0.8902 - loss: 0.0995 - val_binary_accuracy: 0.8845 - val_loss: 0.1047\n",
            "Epoch 22/100\n",
            "132/132 - 0s - 2ms/step - binary_accuracy: 0.8909 - loss: 0.0984 - val_binary_accuracy: 0.8845 - val_loss: 0.1039\n",
            "Epoch 23/100\n",
            "132/132 - 0s - 2ms/step - binary_accuracy: 0.8913 - loss: 0.0974 - val_binary_accuracy: 0.8845 - val_loss: 0.1031\n",
            "Epoch 24/100\n",
            "132/132 - 0s - 2ms/step - binary_accuracy: 0.8920 - loss: 0.0966 - val_binary_accuracy: 0.8845 - val_loss: 0.1025\n",
            "Epoch 25/100\n",
            "132/132 - 0s - 3ms/step - binary_accuracy: 0.8928 - loss: 0.0958 - val_binary_accuracy: 0.8864 - val_loss: 0.1019\n",
            "Epoch 26/100\n",
            "132/132 - 1s - 5ms/step - binary_accuracy: 0.8920 - loss: 0.0951 - val_binary_accuracy: 0.8854 - val_loss: 0.1013\n",
            "Epoch 27/100\n",
            "132/132 - 1s - 5ms/step - binary_accuracy: 0.8928 - loss: 0.0944 - val_binary_accuracy: 0.8845 - val_loss: 0.1009\n",
            "Epoch 28/100\n",
            "132/132 - 0s - 3ms/step - binary_accuracy: 0.8932 - loss: 0.0938 - val_binary_accuracy: 0.8835 - val_loss: 0.1004\n",
            "Epoch 29/100\n",
            "132/132 - 1s - 4ms/step - binary_accuracy: 0.8930 - loss: 0.0932 - val_binary_accuracy: 0.8826 - val_loss: 0.1000\n",
            "Epoch 30/100\n",
            "132/132 - 1s - 4ms/step - binary_accuracy: 0.8932 - loss: 0.0927 - val_binary_accuracy: 0.8835 - val_loss: 0.0996\n",
            "Epoch 31/100\n",
            "132/132 - 1s - 4ms/step - binary_accuracy: 0.8930 - loss: 0.0921 - val_binary_accuracy: 0.8854 - val_loss: 0.0992\n",
            "Epoch 32/100\n",
            "132/132 - 1s - 4ms/step - binary_accuracy: 0.8935 - loss: 0.0917 - val_binary_accuracy: 0.8854 - val_loss: 0.0989\n",
            "Epoch 33/100\n",
            "132/132 - 0s - 3ms/step - binary_accuracy: 0.8939 - loss: 0.0912 - val_binary_accuracy: 0.8854 - val_loss: 0.0986\n",
            "Epoch 34/100\n",
            "132/132 - 1s - 4ms/step - binary_accuracy: 0.8939 - loss: 0.0908 - val_binary_accuracy: 0.8845 - val_loss: 0.0983\n",
            "Epoch 35/100\n",
            "132/132 - 1s - 5ms/step - binary_accuracy: 0.8939 - loss: 0.0904 - val_binary_accuracy: 0.8845 - val_loss: 0.0980\n",
            "Epoch 36/100\n",
            "132/132 - 1s - 4ms/step - binary_accuracy: 0.8937 - loss: 0.0901 - val_binary_accuracy: 0.8854 - val_loss: 0.0978\n",
            "Epoch 37/100\n",
            "132/132 - 1s - 5ms/step - binary_accuracy: 0.8951 - loss: 0.0897 - val_binary_accuracy: 0.8854 - val_loss: 0.0975\n",
            "Epoch 38/100\n",
            "132/132 - 1s - 5ms/step - binary_accuracy: 0.8958 - loss: 0.0894 - val_binary_accuracy: 0.8854 - val_loss: 0.0973\n",
            "Epoch 39/100\n",
            "132/132 - 1s - 5ms/step - binary_accuracy: 0.8956 - loss: 0.0891 - val_binary_accuracy: 0.8835 - val_loss: 0.0971\n",
            "Epoch 40/100\n",
            "132/132 - 1s - 6ms/step - binary_accuracy: 0.8956 - loss: 0.0888 - val_binary_accuracy: 0.8835 - val_loss: 0.0969\n",
            "Epoch 41/100\n",
            "132/132 - 0s - 3ms/step - binary_accuracy: 0.8958 - loss: 0.0885 - val_binary_accuracy: 0.8835 - val_loss: 0.0967\n",
            "Epoch 42/100\n",
            "132/132 - 0s - 3ms/step - binary_accuracy: 0.8954 - loss: 0.0882 - val_binary_accuracy: 0.8835 - val_loss: 0.0965\n",
            "Epoch 43/100\n",
            "132/132 - 1s - 5ms/step - binary_accuracy: 0.8963 - loss: 0.0879 - val_binary_accuracy: 0.8835 - val_loss: 0.0963\n",
            "Epoch 44/100\n",
            "132/132 - 0s - 3ms/step - binary_accuracy: 0.8961 - loss: 0.0877 - val_binary_accuracy: 0.8826 - val_loss: 0.0961\n",
            "Epoch 45/100\n",
            "132/132 - 1s - 4ms/step - binary_accuracy: 0.8961 - loss: 0.0875 - val_binary_accuracy: 0.8816 - val_loss: 0.0959\n",
            "Epoch 46/100\n",
            "132/132 - 1s - 4ms/step - binary_accuracy: 0.8968 - loss: 0.0872 - val_binary_accuracy: 0.8816 - val_loss: 0.0958\n",
            "Epoch 47/100\n",
            "132/132 - 1s - 6ms/step - binary_accuracy: 0.8968 - loss: 0.0870 - val_binary_accuracy: 0.8835 - val_loss: 0.0956\n",
            "Epoch 48/100\n",
            "132/132 - 1s - 4ms/step - binary_accuracy: 0.8973 - loss: 0.0868 - val_binary_accuracy: 0.8826 - val_loss: 0.0955\n",
            "Epoch 49/100\n",
            "132/132 - 1s - 5ms/step - binary_accuracy: 0.8977 - loss: 0.0866 - val_binary_accuracy: 0.8816 - val_loss: 0.0953\n",
            "Epoch 50/100\n",
            "132/132 - 1s - 4ms/step - binary_accuracy: 0.8980 - loss: 0.0864 - val_binary_accuracy: 0.8826 - val_loss: 0.0952\n",
            "Epoch 51/100\n",
            "132/132 - 1s - 4ms/step - binary_accuracy: 0.8987 - loss: 0.0862 - val_binary_accuracy: 0.8835 - val_loss: 0.0951\n",
            "Epoch 52/100\n",
            "132/132 - 1s - 5ms/step - binary_accuracy: 0.8987 - loss: 0.0860 - val_binary_accuracy: 0.8835 - val_loss: 0.0949\n",
            "Epoch 53/100\n",
            "132/132 - 1s - 4ms/step - binary_accuracy: 0.8984 - loss: 0.0859 - val_binary_accuracy: 0.8826 - val_loss: 0.0948\n",
            "Epoch 54/100\n",
            "132/132 - 1s - 5ms/step - binary_accuracy: 0.8987 - loss: 0.0857 - val_binary_accuracy: 0.8826 - val_loss: 0.0947\n",
            "Epoch 55/100\n",
            "132/132 - 1s - 4ms/step - binary_accuracy: 0.8991 - loss: 0.0856 - val_binary_accuracy: 0.8826 - val_loss: 0.0946\n",
            "Epoch 56/100\n",
            "132/132 - 0s - 3ms/step - binary_accuracy: 0.8994 - loss: 0.0854 - val_binary_accuracy: 0.8835 - val_loss: 0.0945\n",
            "Epoch 57/100\n",
            "132/132 - 1s - 5ms/step - binary_accuracy: 0.8999 - loss: 0.0853 - val_binary_accuracy: 0.8826 - val_loss: 0.0944\n",
            "Epoch 58/100\n",
            "132/132 - 1s - 4ms/step - binary_accuracy: 0.8999 - loss: 0.0851 - val_binary_accuracy: 0.8826 - val_loss: 0.0943\n",
            "Epoch 59/100\n",
            "132/132 - 1s - 5ms/step - binary_accuracy: 0.8999 - loss: 0.0850 - val_binary_accuracy: 0.8826 - val_loss: 0.0942\n",
            "Epoch 60/100\n",
            "132/132 - 1s - 5ms/step - binary_accuracy: 0.8996 - loss: 0.0849 - val_binary_accuracy: 0.8826 - val_loss: 0.0941\n",
            "Epoch 61/100\n",
            "132/132 - 1s - 4ms/step - binary_accuracy: 0.8991 - loss: 0.0847 - val_binary_accuracy: 0.8835 - val_loss: 0.0940\n",
            "Epoch 62/100\n",
            "132/132 - 0s - 2ms/step - binary_accuracy: 0.8989 - loss: 0.0846 - val_binary_accuracy: 0.8845 - val_loss: 0.0939\n",
            "Epoch 63/100\n",
            "132/132 - 0s - 2ms/step - binary_accuracy: 0.8989 - loss: 0.0845 - val_binary_accuracy: 0.8854 - val_loss: 0.0938\n",
            "Epoch 64/100\n",
            "132/132 - 0s - 3ms/step - binary_accuracy: 0.8996 - loss: 0.0844 - val_binary_accuracy: 0.8854 - val_loss: 0.0937\n",
            "Epoch 65/100\n",
            "132/132 - 1s - 4ms/step - binary_accuracy: 0.8996 - loss: 0.0843 - val_binary_accuracy: 0.8854 - val_loss: 0.0936\n",
            "Epoch 66/100\n",
            "132/132 - 0s - 2ms/step - binary_accuracy: 0.8994 - loss: 0.0842 - val_binary_accuracy: 0.8854 - val_loss: 0.0935\n",
            "Epoch 67/100\n",
            "132/132 - 0s - 3ms/step - binary_accuracy: 0.8996 - loss: 0.0841 - val_binary_accuracy: 0.8854 - val_loss: 0.0935\n",
            "Epoch 68/100\n",
            "132/132 - 1s - 5ms/step - binary_accuracy: 0.8994 - loss: 0.0840 - val_binary_accuracy: 0.8854 - val_loss: 0.0934\n",
            "Epoch 69/100\n",
            "132/132 - 1s - 5ms/step - binary_accuracy: 0.8994 - loss: 0.0839 - val_binary_accuracy: 0.8845 - val_loss: 0.0933\n",
            "Epoch 70/100\n",
            "132/132 - 0s - 2ms/step - binary_accuracy: 0.8994 - loss: 0.0838 - val_binary_accuracy: 0.8845 - val_loss: 0.0932\n",
            "Epoch 71/100\n",
            "132/132 - 1s - 5ms/step - binary_accuracy: 0.8994 - loss: 0.0837 - val_binary_accuracy: 0.8845 - val_loss: 0.0932\n",
            "Epoch 72/100\n",
            "132/132 - 0s - 2ms/step - binary_accuracy: 0.8999 - loss: 0.0836 - val_binary_accuracy: 0.8845 - val_loss: 0.0931\n",
            "Epoch 73/100\n",
            "132/132 - 1s - 5ms/step - binary_accuracy: 0.8994 - loss: 0.0835 - val_binary_accuracy: 0.8854 - val_loss: 0.0930\n",
            "Epoch 74/100\n",
            "132/132 - 0s - 2ms/step - binary_accuracy: 0.8994 - loss: 0.0834 - val_binary_accuracy: 0.8854 - val_loss: 0.0930\n",
            "Epoch 75/100\n",
            "132/132 - 0s - 2ms/step - binary_accuracy: 0.8989 - loss: 0.0834 - val_binary_accuracy: 0.8854 - val_loss: 0.0929\n",
            "Epoch 76/100\n",
            "132/132 - 0s - 2ms/step - binary_accuracy: 0.8994 - loss: 0.0833 - val_binary_accuracy: 0.8854 - val_loss: 0.0929\n",
            "Epoch 77/100\n",
            "132/132 - 1s - 6ms/step - binary_accuracy: 0.8994 - loss: 0.0832 - val_binary_accuracy: 0.8864 - val_loss: 0.0928\n",
            "Epoch 78/100\n",
            "132/132 - 1s - 5ms/step - binary_accuracy: 0.8994 - loss: 0.0831 - val_binary_accuracy: 0.8892 - val_loss: 0.0928\n",
            "Epoch 79/100\n",
            "132/132 - 1s - 5ms/step - binary_accuracy: 0.8996 - loss: 0.0831 - val_binary_accuracy: 0.8902 - val_loss: 0.0927\n",
            "Epoch 80/100\n",
            "132/132 - 1s - 4ms/step - binary_accuracy: 0.8999 - loss: 0.0830 - val_binary_accuracy: 0.8902 - val_loss: 0.0927\n",
            "Epoch 81/100\n",
            "132/132 - 1s - 4ms/step - binary_accuracy: 0.9001 - loss: 0.0830 - val_binary_accuracy: 0.8920 - val_loss: 0.0926\n",
            "Epoch 82/100\n",
            "132/132 - 0s - 4ms/step - binary_accuracy: 0.9001 - loss: 0.0829 - val_binary_accuracy: 0.8920 - val_loss: 0.0926\n",
            "Epoch 83/100\n",
            "132/132 - 0s - 4ms/step - binary_accuracy: 0.9003 - loss: 0.0828 - val_binary_accuracy: 0.8930 - val_loss: 0.0925\n",
            "Epoch 84/100\n",
            "132/132 - 0s - 2ms/step - binary_accuracy: 0.9006 - loss: 0.0828 - val_binary_accuracy: 0.8930 - val_loss: 0.0925\n",
            "Epoch 85/100\n",
            "132/132 - 0s - 2ms/step - binary_accuracy: 0.9008 - loss: 0.0827 - val_binary_accuracy: 0.8930 - val_loss: 0.0924\n",
            "Epoch 86/100\n",
            "132/132 - 0s - 2ms/step - binary_accuracy: 0.9008 - loss: 0.0827 - val_binary_accuracy: 0.8920 - val_loss: 0.0924\n",
            "Epoch 87/100\n",
            "132/132 - 0s - 2ms/step - binary_accuracy: 0.9006 - loss: 0.0826 - val_binary_accuracy: 0.8911 - val_loss: 0.0924\n",
            "Epoch 88/100\n",
            "132/132 - 0s - 2ms/step - binary_accuracy: 0.9008 - loss: 0.0826 - val_binary_accuracy: 0.8911 - val_loss: 0.0923\n",
            "Epoch 89/100\n",
            "132/132 - 0s - 2ms/step - binary_accuracy: 0.9013 - loss: 0.0825 - val_binary_accuracy: 0.8920 - val_loss: 0.0923\n",
            "Epoch 90/100\n",
            "132/132 - 0s - 2ms/step - binary_accuracy: 0.9013 - loss: 0.0825 - val_binary_accuracy: 0.8930 - val_loss: 0.0922\n",
            "Epoch 91/100\n",
            "132/132 - 0s - 2ms/step - binary_accuracy: 0.9013 - loss: 0.0824 - val_binary_accuracy: 0.8930 - val_loss: 0.0922\n",
            "Epoch 92/100\n",
            "132/132 - 0s - 2ms/step - binary_accuracy: 0.9013 - loss: 0.0824 - val_binary_accuracy: 0.8930 - val_loss: 0.0922\n",
            "Epoch 93/100\n",
            "132/132 - 0s - 3ms/step - binary_accuracy: 0.9013 - loss: 0.0823 - val_binary_accuracy: 0.8930 - val_loss: 0.0921\n",
            "Epoch 94/100\n",
            "132/132 - 1s - 4ms/step - binary_accuracy: 0.9013 - loss: 0.0823 - val_binary_accuracy: 0.8930 - val_loss: 0.0921\n",
            "Epoch 95/100\n",
            "132/132 - 0s - 2ms/step - binary_accuracy: 0.9015 - loss: 0.0823 - val_binary_accuracy: 0.8930 - val_loss: 0.0921\n",
            "Epoch 96/100\n",
            "132/132 - 0s - 2ms/step - binary_accuracy: 0.9015 - loss: 0.0822 - val_binary_accuracy: 0.8930 - val_loss: 0.0921\n",
            "Epoch 97/100\n",
            "132/132 - 0s - 2ms/step - binary_accuracy: 0.9015 - loss: 0.0822 - val_binary_accuracy: 0.8930 - val_loss: 0.0920\n",
            "Epoch 98/100\n",
            "132/132 - 0s - 2ms/step - binary_accuracy: 0.9015 - loss: 0.0821 - val_binary_accuracy: 0.8930 - val_loss: 0.0920\n",
            "Epoch 99/100\n",
            "132/132 - 0s - 2ms/step - binary_accuracy: 0.9013 - loss: 0.0821 - val_binary_accuracy: 0.8930 - val_loss: 0.0920\n",
            "Epoch 100/100\n",
            "132/132 - 0s - 2ms/step - binary_accuracy: 0.9015 - loss: 0.0821 - val_binary_accuracy: 0.8930 - val_loss: 0.0920\n"
          ]
        }
      ]
    },
    {
      "cell_type": "code",
      "source": [
        "import matplotlib.pyplot as plt\n",
        "\n",
        "plt.plot(history.history['loss'], label='train loss')\n",
        "plt.plot(history.history['val_loss'], label='val loss')\n",
        "\n",
        "plt.legend()\n",
        "plt.xlabel(\"Epoch\")\n",
        "plt.ylabel(\"Loss\")\n",
        "plt.show()"
      ],
      "metadata": {
        "colab": {
          "base_uri": "https://localhost:8080/",
          "height": 449
        },
        "id": "nT_WQ3GHHm16",
        "outputId": "16e1f229-8de8-4469-9965-b97fd03493d6"
      },
      "execution_count": null,
      "outputs": [
        {
          "output_type": "display_data",
          "data": {
            "text/plain": [
              "<Figure size 640x480 with 1 Axes>"
            ],
            "image/png": "[encoded data removed]"
          },
          "metadata": {}
        }
      ]
    },
    {
      "cell_type": "code",
      "source": [
        "plt.plot(history.history['binary_accuracy'], label='train accuracy')\n",
        "plt.plot(history.history['val_binary_accuracy'], label='val accuracy')\n",
        "\n",
        "plt.legend()\n",
        "plt.xlabel(\"Epoch\")\n",
        "plt.ylabel(\"Accuracy\")\n",
        "plt.show()"
      ],
      "metadata": {
        "colab": {
          "base_uri": "https://localhost:8080/",
          "height": 449
        },
        "id": "9VZG-gv7XWkt",
        "outputId": "c26889b9-ba6c-4f41-fd26-6eb7ebe7ce28"
      },
      "execution_count": null,
      "outputs": [
        {
          "output_type": "display_data",
          "data": {
            "text/plain": [
              "<Figure size 640x480 with 1 Axes>"
            ],
            "image/png": "[encoded data removed]"
          },
          "metadata": {}
        }
      ]
    },
    {
      "cell_type": "code",
      "source": [
        "import numpy as np\n",
        "\n",
        "model1.evaluate(X_test, Y_test, verbose=2);"
      ],
      "metadata": {
        "colab": {
          "base_uri": "https://localhost:8080/"
        },
        "id": "aIDYT6OST8y6",
        "outputId": "6089cbf2-cf35-4e59-d34e-03d3643ab9d4"
      },
      "execution_count": null,
      "outputs": [
        {
          "output_type": "stream",
          "name": "stdout",
          "text": [
            "42/42 - 0s - 4ms/step - binary_accuracy: 0.8962 - loss: 0.0873\n"
          ]
        }
      ]
    },
    {
      "cell_type": "markdown",
      "source": [
        "## Using Custom Training Loop\n",
        "\n",
        "`tf.function` is a function wrapper that compiles a function into a callable Tensorflow graph. Note that functions decorated by `tf.function` only take two variables: the inputs and the target labels. Thus, `model`, `loss_fn`, etc. must all be defined before the functions and cannot be passed in.\n",
        "\n",
        "Note that decorating with `tf.function` isn't actually necessary, it just generally improves performance. Try running this notebook without the decorators. The model still trains.\n",
        "\n",
        "Furthermore, it is good practice to ensure functions work as intended before wrapping them with `tf.function`.\n",
        "\n",
        "https://www.tensorflow.org/guide/function"
      ],
      "metadata": {
        "id": "ltMhuwuFG0DG"
      }
    },
    {
      "cell_type": "code",
      "source": [
        "model2 = MyModel()\n",
        "\n",
        "loss_fn = tf.keras.losses.MeanSquaredError()\n",
        "optimizer = tf.keras.optimizers.Adam()\n",
        "\n",
        "train_loss = tf.keras.metrics.Mean(name='train_loss')\n",
        "train_accuracy = tf.keras.metrics.BinaryAccuracy(name='train_accuracy')\n",
        "\n",
        "val_loss = tf.keras.metrics.Mean(name='val_loss')\n",
        "val_accuracy = tf.keras.metrics.BinaryAccuracy(name='val_accuracy')\n",
        "\n",
        "test_loss = tf.keras.metrics.Mean(name='test_loss')\n",
        "test_accuracy = tf.keras.metrics.BinaryAccuracy(name='test_accuracy')\n",
        "\n",
        "@tf.function\n",
        "def train_step(X, Y):\n",
        "    with tf.GradientTape() as tape:\n",
        "        # training=True is only needed if there are layers with different\n",
        "        # behavior during training versus inference (e.g. Dropout).\n",
        "        predictions = model2(X, training=True)\n",
        "        loss = loss_fn(Y, predictions)\n",
        "    gradients = tape.gradient(loss, model2.trainable_variables)\n",
        "    optimizer.apply_gradients(zip(gradients, model2.trainable_variables))\n",
        "\n",
        "    train_loss(loss)\n",
        "    train_accuracy(Y, predictions)\n",
        "\n",
        "@tf.function\n",
        "def val_step(X, Y):\n",
        "    # training=False is only needed if there are layers with different\n",
        "    # behavior during training versus inference (e.g. Dropout).\n",
        "    predictions = model2(X, training=False)\n",
        "    v_loss = loss_fn(Y, predictions)\n",
        "\n",
        "    val_loss(v_loss)\n",
        "    val_accuracy(Y, predictions)\n",
        "\n",
        "@tf.function\n",
        "def test_step(X, Y):\n",
        "    # training=False is only needed if there are layers with different\n",
        "    # behavior during training versus inference (e.g. Dropout).\n",
        "    predictions = model2(X, training=False)\n",
        "    t_loss = loss_fn(Y, predictions)\n",
        "\n",
        "    test_loss(t_loss)\n",
        "    test_accuracy(Y, predictions)"
      ],
      "metadata": {
        "id": "G5wDL7sCfM1y"
      },
      "execution_count": null,
      "outputs": []
    },
    {
      "cell_type": "markdown",
      "source": [
        "More epochs are required by manual training loop to achieve similar results to that of default training loop."
      ],
      "metadata": {
        "id": "Fq0Hn0vA9vC_"
      }
    },
    {
      "cell_type": "code",
      "source": [
        "EPOCHS = 1000"
      ],
      "metadata": {
        "id": "lBfr_-LU9bmN"
      },
      "execution_count": null,
      "outputs": []
    },
    {
      "cell_type": "code",
      "source": [
        "train_losses = []\n",
        "train_accuracies = []\n",
        "val_losses = []\n",
        "val_accuracies = []\n",
        "\n",
        "for epoch in range(EPOCHS+1):\n",
        "    # Reset the metrics at the start of the next epoch\n",
        "    train_loss.reset_state()\n",
        "    train_accuracy.reset_state()\n",
        "    val_loss.reset_state()\n",
        "    val_accuracy.reset_state()\n",
        "\n",
        "    train_step(X_train, Y_train)\n",
        "\n",
        "    val_step(X_val, Y_val)\n",
        "\n",
        "    if epoch % (EPOCHS/10) == 0:\n",
        "        print(\n",
        "            f'Epoch {epoch}, '\n",
        "            f'Loss: {train_loss.result():0.2f}, '\n",
        "            f'Accuracy: {train_accuracy.result() * 100:0.2f}, '\n",
        "            f'Val Loss: {val_loss.result():0.2f}, '\n",
        "            f'Val Accuracy: {val_accuracy.result() * 100:0.2f}'\n",
        "        )\n",
        "\n",
        "    train_losses.append(train_loss.result())\n",
        "    train_accuracies.append(train_accuracy.result())\n",
        "    val_losses.append(val_loss.result())\n",
        "    val_accuracies.append(val_accuracy.result())"
      ],
      "metadata": {
        "colab": {
          "base_uri": "https://localhost:8080/"
        },
        "id": "znAQM54gbWZs",
        "outputId": "040faf48-5fe6-4a97-d5e7-8edf77e2779d"
      },
      "execution_count": null,
      "outputs": [
        {
          "output_type": "stream",
          "name": "stdout",
          "text": [
            "Epoch 0, Loss: 0.24, Accuracy: 48.89, Val Loss: 0.24, Val Accuracy: 51.99\n",
            "Epoch 100, Loss: 0.23, Accuracy: 58.12, Val Loss: 0.23, Val Accuracy: 60.51\n",
            "Epoch 200, Loss: 0.21, Accuracy: 73.75, Val Loss: 0.21, Val Accuracy: 73.11\n",
            "Epoch 300, Loss: 0.20, Accuracy: 81.87, Val Loss: 0.20, Val Accuracy: 80.68\n",
            "Epoch 400, Loss: 0.18, Accuracy: 86.15, Val Loss: 0.18, Val Accuracy: 84.66\n",
            "Epoch 500, Loss: 0.17, Accuracy: 88.23, Val Loss: 0.17, Val Accuracy: 86.74\n",
            "Epoch 600, Loss: 0.16, Accuracy: 89.46, Val Loss: 0.16, Val Accuracy: 88.45\n",
            "Epoch 700, Loss: 0.15, Accuracy: 90.25, Val Loss: 0.15, Val Accuracy: 88.26\n",
            "Epoch 800, Loss: 0.14, Accuracy: 90.51, Val Loss: 0.14, Val Accuracy: 88.54\n",
            "Epoch 900, Loss: 0.13, Accuracy: 90.89, Val Loss: 0.13, Val Accuracy: 89.02\n",
            "Epoch 1000, Loss: 0.12, Accuracy: 91.22, Val Loss: 0.12, Val Accuracy: 89.30\n"
          ]
        }
      ]
    },
    {
      "cell_type": "code",
      "source": [
        "plt.plot(train_losses, label='train loss')\n",
        "plt.plot(val_losses, label='val loss')\n",
        "plt.legend()\n",
        "plt.show()"
      ],
      "metadata": {
        "colab": {
          "base_uri": "https://localhost:8080/",
          "height": 430
        },
        "id": "xDk9TF5voUjk",
        "outputId": "a1f9635a-2a39-4d67-a9de-94371ec73ab4"
      },
      "execution_count": null,
      "outputs": [
        {
          "output_type": "display_data",
          "data": {
            "text/plain": [
              "<Figure size 640x480 with 1 Axes>"
            ],
            "image/png": "[encoded data removed]"
          },
          "metadata": {}
        }
      ]
    },
    {
      "cell_type": "code",
      "source": [
        "plt.plot(train_accuracies, label='train accuracy')\n",
        "plt.plot(val_accuracies, label='val accuracy')\n",
        "plt.legend()\n",
        "plt.show()"
      ],
      "metadata": {
        "colab": {
          "base_uri": "https://localhost:8080/",
          "height": 430
        },
        "id": "KMpigl93V_nl",
        "outputId": "870cd09b-9f7d-4df5-a8b2-fea995aa85be"
      },
      "execution_count": null,
      "outputs": [
        {
          "output_type": "display_data",
          "data": {
            "text/plain": [
              "<Figure size 640x480 with 1 Axes>"
            ],
            "image/png": "[encoded data removed]"
          },
          "metadata": {}
        }
      ]
    },
    {
      "cell_type": "code",
      "source": [
        "test_step(X_test, Y_test)\n",
        "\n",
        "print(\n",
        "    f'Test Loss: {test_loss.result():0.2f}, '\n",
        "    f'Test Accuracy: {test_accuracy.result() * 100:0.2f}'\n",
        ")"
      ],
      "metadata": {
        "colab": {
          "base_uri": "https://localhost:8080/"
        },
        "id": "SoO3G4oOK3LC",
        "outputId": "1bceb176-ce1a-4c04-ab3f-a2c777a3da7b"
      },
      "execution_count": null,
      "outputs": [
        {
          "output_type": "stream",
          "name": "stdout",
          "text": [
            "Test Loss: 0.12, Test Accuracy: 89.77\n"
          ]
        }
      ]
    }
  ]
}