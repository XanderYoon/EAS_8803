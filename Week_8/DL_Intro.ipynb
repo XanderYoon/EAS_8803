{
  "nbformat": 4,
  "nbformat_minor": 0,
  "metadata": {
    "colab": {
      "provenance": [],
      "toc_visible": true
    },
    "kernelspec": {
      "name": "python3",
      "display_name": "Python 3"
    },
    "language_info": {
      "name": "python"
    }
  },
  "cells": [
    {
      "cell_type": "markdown",
      "source": [
        "# Introduction\n",
        "This notebook runs through about the first four lectures of a deep learning course. We will cover the basics of neural networks and a number of techniques used to train and test neural networks."
      ],
      "metadata": {
        "id": "2HehbytRJ4zx"
      }
    },
    {
      "cell_type": "markdown",
      "source": [
        "# Deep Learning\n",
        "Deep learning is a subset of machine learning which utilizes neural networks that are able to learn from data without supervision.\n",
        "\n",
        "It may be helpful to compare deep learning to shallow learning. Shallow learning can be thought of as the learning of the direct relationship between two events. For example, training a dog to sit when you say sit is shallow learning. In contrast, deep learning is more like learning a trend or behavior and making a decision by itself. For example, learning the alphabet by watching letters is deep learning.\n",
        "\n",
        "Two important characteristics of deep learning is remembering (temporal deep learning) and learning from watching (spatial deep learning).\n",
        "\n",
        "[[1]](#1)"
      ],
      "metadata": {
        "id": "8dyD5S8lCW4T"
      }
    },
    {
      "cell_type": "markdown",
      "source": [
        "# Neural Network\n",
        "A neural network is composed of layers of interconnected neurons.\n"
      ],
      "metadata": {
        "id": "Ieoz2MPzMa28"
      }
    },
    {
      "cell_type": "markdown",
      "source": [
        "## Simple Example\n",
        "Here is a simple example of a neural network:\n",
        "<div>\n",
        "<img src=\"https://www.researchgate.net/publication/364332451/figure/fig2/AS:11431281089928283@1665793221042/A-single-layer-perceptron-with-two-inputs.jpg\" width=\"300\"/>\n",
        "</div>\n",
        "\n",
        "It has two inputs, one output, two weights, and one bias. The green neuron, $\\Sigma$, is given by the sum of $w_1x_1,w_2x_2,b$. The yellow neuron, $\\gamma$, is the output of some function, $f$, applied on the sum."
      ],
      "metadata": {
        "id": "TV_ZZM7IDkn5"
      }
    },
    {
      "cell_type": "markdown",
      "source": [
        "## Layer Types\n",
        "Layers are classified as input, hidden, or output. Input layers are those which have no proceeding layers and output layers are those which have no succeeding layers. Hidden layers are those which have both a proceeding and succeeding layer.\n"
      ],
      "metadata": {
        "id": "tYv1vErV-Tq5"
      }
    },
    {
      "cell_type": "markdown",
      "source": [
        "## Neurons\n",
        "The neurons of the input layer correspond to the features that are fed to the network and the neurons of the output layer corresponding to the variables to be predicted by the input features. Each hidden layer performs a nonlinear transformation on the neurons of the layer before it. The number of hidden layers and neurons per layer increases the complexity of the network.\n",
        "\n",
        "The neurons of each layer, with the exception of the input layer, is computed by taking the weighted sum of all previous neurons and respective weights, then adding its corresponding bias. This preactivation is fed into a nonlinear activation function, which gives the final activation of the neuron.\n"
      ],
      "metadata": {
        "id": "bph_fjaS-b_Z"
      }
    },
    {
      "cell_type": "markdown",
      "source": [
        "## More Complex Example\n",
        "<div>\n",
        "<img src=\"https://media.geeksforgeeks.org/wp-content/uploads/20231107165249/linear.png\" width=\"500\"/>\n",
        "</div>\n",
        "\n",
        "In the feedforward network above, we can infer that two input features are being used to predict one target variable (perhaps we are predicting if something is true or false).\n"
      ],
      "metadata": {
        "id": "gyzfI_qQRQ0M"
      }
    },
    {
      "cell_type": "markdown",
      "source": [
        "### Manual Forward Propagation\n",
        "If $\\mathbf{a}_1$ is the activation of the top neuron in the hidden layer and $\\mathbf{a}_2$ is the activation of the bottom neuron, then $\\mathbf{a}_1=h(W_{11}x_1+W_{21}x_2+\\mathbf{b}_{11}),\\;\\mathbf{a}_2=h(W_{12}x_1+W_{22}x_2+\\mathbf{b}_{12})$.\n",
        "\n",
        "Then, $y$, the output activation, is given by $y=h(V_1\\mathbf{a}_1+V_2\\mathbf{a}_2+\\mathbf{b}_2)$.\n"
      ],
      "metadata": {
        "id": "7HcDVRdUD2s4"
      }
    },
    {
      "cell_type": "markdown",
      "source": [
        "### Forward Propagation, Vectorized\n",
        "The hidden layer activations can be represented in vector form as:\n",
        "$$\n",
        "\\begin{bmatrix}\n",
        "    \\mathbf{a}_1\\\\\\mathbf{a}_2\n",
        "\\end{bmatrix}=h(\n",
        "    \\begin{bmatrix}\n",
        "        W_{11}&W_{21}\\\\W_{12}&W_{22}\n",
        "    \\end{bmatrix}\n",
        "    \\begin{bmatrix}\n",
        "        x_1\\\\x_2\n",
        "    \\end{bmatrix}\n",
        "    +\n",
        "    \\begin{bmatrix}\n",
        "        \\mathbf{b}_{11}\\\\\n",
        "        \\mathbf{b}_{12}\n",
        "    \\end{bmatrix}\n",
        ")\n",
        "$$\n",
        "\n",
        "Or more simply, $\\mathbf{a} = h(Wx+\\mathbf{b_1})$.\n",
        "\n",
        "Similarly, the output activations can be simply given as $h(V\\mathbf{a}+\\mathbf{b_2})$.\n"
      ],
      "metadata": {
        "id": "5eVr74FwD39d"
      }
    },
    {
      "cell_type": "markdown",
      "source": [
        "### Summary\n",
        "Thus, we have:\n",
        "$$\n",
        "\\mathbf{a} = h(Wx+\\mathbf{b_1})\\\\\n",
        "y=h(V\\mathbf{a}+\\mathbf{b_2})=h(Vh(Wx+\\mathbf{b_1})+\\mathbf{b_2})\n",
        "$$\n",
        "where:\n",
        "- $x$ is the input layer, as a column vector.\n",
        "- $\\mathbf{a}$ are the activations of the hidden layer, as a column vector.\n",
        "- $y$ is the output.\n",
        "- $W,V$ are the weight matrices between the input & hidden layer and hidden & output layer, respectively.\n",
        "- $h$ is some nonlinear activation function, which is applied element-wise to vectors.\n",
        "\n",
        "This process of passing the inputs through the network to become some prediction is called forward propagation.\n",
        "\n",
        "For our model to learn, the weights and biases must be estimated.\n",
        "\n",
        "Take note of the dimensions of our vectors and matrices."
      ],
      "metadata": {
        "id": "CKZzmD1RD46b"
      }
    },
    {
      "cell_type": "markdown",
      "source": [
        "## Network Types\n",
        "A neural network may either be a feedforward network, where the neurons connect only forwards, or a recurrent network, where the outputs of neurons may be used to determine its output, forming a cycle in the network."
      ],
      "metadata": {
        "id": "ySX1dAN_-d6F"
      }
    },
    {
      "cell_type": "markdown",
      "source": [
        "## Hyperparameters\n",
        "As opposed to the parameters (e.g. the weights and biases), hyperparameters refer to the details of the learning process, such as the architecture of the network, loss function used, activation functions used, etc."
      ],
      "metadata": {
        "id": "MIU_foes-oNP"
      }
    },
    {
      "cell_type": "markdown",
      "source": [
        "## Notation and Dimensions\n",
        "- $n_i$ is the number of neurons in the $i$-th layer.\n",
        "- $m$ is the number of observations.\n",
        "- $L$ is the number of layers in the network\n",
        "- $X$ is the input.\n",
        "  - $n_x\\times m$\n",
        "  - Each column is one observation of $n_0$ input features.\n",
        "- $x^{(i)}$ is the $i$-th column of $X$.\n",
        "- $Y$ is the output.\n",
        "  - $n_y\\times m$\n",
        "  - Each column is one observation of $n_0$ output features.\n",
        "- $Z_i$ is the column vector of the preactivations of the $i$-th layer.\n",
        "  - $n_i\\times m$\n",
        "- $A_i$ is the column vector of the activations of the $i$-th layer.\n",
        "  - $n_i\\times m$\n",
        "  - We set $A_0$ to be $X$.\n",
        "  - We set $A_{L-1}$ to be $\\hat{Y}$.\n",
        "- $W_i$ is the weights that transform layer $i-1$ into layer $i$.\n",
        "  - $n_{\\text{out}}\\times n_{\\text{in}}$\n",
        "  - Each row of the matrix is the weights of the linear transformation corresponding to each output neuron.\n",
        "- $\\mathbf{b}_i$ is the column bias vector that is added to $W_iA_{i-1}$ to produce $Z_i$.\n",
        "  - $n_i\\times 1$ (broadcasted to $n_i\\times m$)\n",
        "- The computation of a layer's activations is given by:\n",
        "  - $A_i=h(Z_i),\\quad Z_i=W_iA_{i-1}+\\mathbf{b}_i$\n",
        "\n",
        "For a more detailed and thorough notation reference, see [[4]](#4)\n"
      ],
      "metadata": {
        "id": "VMut9zAXU04J"
      }
    },
    {
      "cell_type": "markdown",
      "source": [
        "# Activation Functions\n",
        "Given some pre-activations at a layer as an input, an activation function is used to compute the activations at that same layer."
      ],
      "metadata": {
        "id": "PUjM1tXuXw6r"
      }
    },
    {
      "cell_type": "code",
      "source": [
        "import matplotlib.pyplot as plt\n",
        "import numpy as np\n",
        "\n",
        "def plot_h(x, y, l = -1, r = 1, s = 0.5):\n",
        "    plt.plot(x, y)\n",
        "\n",
        "    plt.xticks(np.arange(l, r + s, s))\n",
        "    plt.yticks(np.arange(-1, 1 + 0.5, 0.5))\n",
        "\n",
        "    plt.axhline(0, color='gray', alpha=0.3)\n",
        "    plt.axvline(0, color='gray', alpha=0.3)\n",
        "\n",
        "    plt.xlabel('x')\n",
        "    plt.ylabel('h(x)')\n",
        "\n",
        "    plt.show()"
      ],
      "metadata": {
        "id": "gzYJET9PdWgu"
      },
      "execution_count": null,
      "outputs": []
    },
    {
      "cell_type": "markdown",
      "source": [
        "\n",
        "## Nonlinearity\n",
        "Earlier, it was mentioned that the preactivation of a node is fed into a *nonlinear* activation function. Nonlinearity, in particular, is essential as a deep linear network is equivalent to a linear network without hidden layers or a linear regression ([brief proof](https://stats.stackexchange.com/a/335972/405918))."
      ],
      "metadata": {
        "id": "KYbjOb3CbA6T"
      }
    },
    {
      "cell_type": "markdown",
      "source": [
        "## Continuity\n",
        "Continuity of an activation function is essential for the training of a neural network. Essentially, we intend to iteratively minimize some error function using the derivatives of the activations. We will explore this later, in backpropogation."
      ],
      "metadata": {
        "id": "HsH8NTR3bCFp"
      }
    },
    {
      "cell_type": "markdown",
      "source": [
        "## Step Function\n",
        "The step function is given by:\n",
        "$$h(x)=\\begin{cases}\n",
        "0 && x \\leq 0\\\\\n",
        "1 && x > 0\n",
        "\\end{cases}$$"
      ],
      "metadata": {
        "id": "6jLAa0vBbDXm"
      }
    },
    {
      "cell_type": "code",
      "source": [
        "def step(x):\n",
        "    return 1 if x > 0 else 0\n",
        "vstep = np.vectorize(step)\n",
        "\n",
        "x = np.linspace(-1, 1, 1_000)\n",
        "y = vstep(x)\n",
        "\n",
        "plot_h(x, y)"
      ],
      "metadata": {
        "colab": {
          "base_uri": "https://localhost:8080/",
          "height": 449
        },
        "id": "Fy1_42EIbErk",
        "outputId": "37d5ae6a-7bdc-4364-9271-d4f7b1d3358b"
      },
      "execution_count": null,
      "outputs": [
        {
          "output_type": "display_data",
          "data": {
            "text/plain": [
              "<Figure size 640x480 with 1 Axes>"
            ],
            "image/png": "[encoded data removed]"
          },
          "metadata": {}
        }
      ]
    },
    {
      "cell_type": "markdown",
      "source": [
        "The threshold can be changed from 0 and the magnitudes of the outputs can be changed, as well. Note that the function is discontinuous at $x=0$ and $h^{(n)}(x)=0$ for all $n>1,x\\neq0$. These qualities make the step function ineligible as a candidate to be an activation function."
      ],
      "metadata": {
        "id": "b9C6VltDcYmB"
      }
    },
    {
      "cell_type": "markdown",
      "source": [
        "## Sigmoid Function"
      ],
      "metadata": {
        "id": "kwaZOLISeFF1"
      }
    },
    {
      "cell_type": "markdown",
      "source": [
        "The sigmoid function is given by:\n",
        "$$\n",
        "h(x)=\\sigma(x)=\\frac{1}{1+e^{-x}}\n",
        "$$"
      ],
      "metadata": {
        "id": "B02aJwfReLvD"
      }
    },
    {
      "cell_type": "code",
      "source": [
        "def sigmoid(x):\n",
        "    return 1 / (1 + np.exp(-x))\n",
        "\n",
        "x = np.linspace(-4, 4, 1_000)\n",
        "y = sigmoid(x)\n",
        "\n",
        "plot_h(x, y, l = -4, r = 4, s = 2)"
      ],
      "metadata": {
        "colab": {
          "base_uri": "https://localhost:8080/",
          "height": 449
        },
        "id": "x1tUd60TeVqO",
        "outputId": "b3b7ad31-7d67-41b4-dadf-00e56dd4f435"
      },
      "execution_count": null,
      "outputs": [
        {
          "output_type": "display_data",
          "data": {
            "text/plain": [
              "<Figure size 640x480 with 1 Axes>"
            ],
            "image/png": "[encoded data removed]"
          },
          "metadata": {}
        }
      ]
    },
    {
      "cell_type": "markdown",
      "source": [
        "The sigmoid is continuous and monotonically increasing. Its range is $(0,1)$.\n",
        "\n",
        "Its derivative is simply described by:\n",
        "$$h'(x)=h(x)(1-h(x))$$"
      ],
      "metadata": {
        "id": "8xNi25MPgIMy"
      }
    },
    {
      "cell_type": "markdown",
      "source": [
        "## Hyperbolic Tangent Function\n",
        "The hyperbolic tangent function is given by:\n",
        "$$h(x)=\\tanh(x)=\\frac{e^x-e^{-x}}{e^x+e^{-x}}$$"
      ],
      "metadata": {
        "id": "0DQQU914hZE4"
      }
    },
    {
      "cell_type": "code",
      "source": [
        "x = np.linspace(-4, 4, 1_000)\n",
        "y = np.tanh(x)\n",
        "\n",
        "plot_h(x, y, l = -4, r = 4, s = 2)"
      ],
      "metadata": {
        "colab": {
          "base_uri": "https://localhost:8080/",
          "height": 449
        },
        "id": "uZKZmzEbhrZS",
        "outputId": "0342a94f-0826-4de3-c1bc-89e897717078"
      },
      "execution_count": null,
      "outputs": [
        {
          "output_type": "display_data",
          "data": {
            "text/plain": [
              "<Figure size 640x480 with 1 Axes>"
            ],
            "image/png": "[encoded data removed]"
          },
          "metadata": {}
        }
      ]
    },
    {
      "cell_type": "markdown",
      "source": [
        "Similar to the sigmoid function, it is continuous and monotonically increasing. Its range is $(-1, 1)$.\n",
        "\n",
        "Its derivative is given by:\n",
        "$$h'(x)=1-h(x)^2$$"
      ],
      "metadata": {
        "id": "rYl8Dkl5h5L6"
      }
    },
    {
      "cell_type": "markdown",
      "source": [
        "## ReLU Function\n",
        "The rectified linear unit (ReLU) function is given by:\n",
        "$$h(x)=\\begin{cases}\n",
        "0 && x\\leq 0\\\\\n",
        "x && x>0\n",
        "\\end{cases}$$"
      ],
      "metadata": {
        "id": "HlAo8FDlilQ0"
      }
    },
    {
      "cell_type": "code",
      "source": [
        "def relu(x):\n",
        "    return np.maximum(0, x)\n",
        "\n",
        "x = np.linspace(-1, 1, 1_000)\n",
        "y = relu(x)\n",
        "\n",
        "plot_h(x, y)"
      ],
      "metadata": {
        "colab": {
          "base_uri": "https://localhost:8080/",
          "height": 449
        },
        "id": "BDgKxAs7ik7G",
        "outputId": "2684293d-8b32-4ee2-ca1f-2706aadcee21"
      },
      "execution_count": null,
      "outputs": [
        {
          "output_type": "display_data",
          "data": {
            "text/plain": [
              "<Figure size 640x480 with 1 Axes>"
            ],
            "image/png": "[encoded data removed]"
          },
          "metadata": {}
        }
      ]
    },
    {
      "cell_type": "markdown",
      "source": [
        "While it may seem like it is discontinuous at $x=0$, we can simply take the derivative of each case, such that:\n",
        "$$h'(x)=\\begin{cases}\n",
        "0 && x\\leq 0\\\\\n",
        "1 && x>0\n",
        "\\end{cases}$$\n",
        "\n",
        "The astute may correctly observe that the derivative of $0$ for $x\\leq0$ is problematic. A neuron with a negative preactivation that is determined by a ReLU activation are called \"dead\" ReLU units because it will always output the same value henceforth."
      ],
      "metadata": {
        "id": "EVUafQeZjr_s"
      }
    },
    {
      "cell_type": "markdown",
      "source": [
        "## Derivatives of Activation Functions"
      ],
      "metadata": {
        "id": "ysBAWfb_lRIh"
      }
    },
    {
      "cell_type": "code",
      "source": [
        "def dsigmoid(x):\n",
        "    return sigmoid(x) * (1 - sigmoid(x))\n",
        "\n",
        "def dtanh(x):\n",
        "    return 1 - np.tanh(x)**2\n",
        "\n",
        "drelu = vstep\n",
        "\n",
        "x = np.linspace(-4, 4, 1_000)\n",
        "y_ds = dsigmoid(x)\n",
        "y_dt = dtanh(x)\n",
        "y_dr = drelu(x)\n",
        "\n",
        "plt.plot(x, y_ds, label = 'dsigmoid')\n",
        "plt.plot(x, y_dt, label = 'dtanh')\n",
        "plt.plot(x, y_dr, label = 'drelu')\n",
        "\n",
        "plt.xticks(np.arange(-4, 4 + 2, 2))\n",
        "plt.yticks(np.arange(-1, 1 + 0.5, 0.5))\n",
        "\n",
        "plt.axhline(0, color = 'gray', alpha = 0.3)\n",
        "plt.axvline(0, color = 'gray', alpha = 0.3)\n",
        "\n",
        "plt.xlabel('x')\n",
        "plt.ylabel('h(x)')\n",
        "\n",
        "plt.legend()\n",
        "\n",
        "plt.show()"
      ],
      "metadata": {
        "colab": {
          "base_uri": "https://localhost:8080/",
          "height": 449
        },
        "id": "B1spEKVElXbB",
        "outputId": "f35984e8-19c7-4a44-d359-ac614bbe9997"
      },
      "execution_count": null,
      "outputs": [
        {
          "output_type": "display_data",
          "data": {
            "text/plain": [
              "<Figure size 640x480 with 1 Axes>"
            ],
            "image/png": "[encoded data removed]"
          },
          "metadata": {}
        }
      ]
    },
    {
      "cell_type": "markdown",
      "source": [
        "The sigmoid and tanh functions become saturated for large $|x|$, causing their derivatives at large $|x|$ to diminish. On the other hand, the derivative of the ReLU function is always large for $x>0$, resulting in an accelerated training."
      ],
      "metadata": {
        "id": "a9zOGED-mPsD"
      }
    },
    {
      "cell_type": "markdown",
      "source": [
        "# Multi-Label Classification\n",
        "With what we've seen so far, we can only perform binary classification. Each activation function we've seen so far outputs just a single value.\n",
        "\n",
        "Suppose we have a classification problem with $K$ categories. Our network will have an output layer of $K$ neurons, where each neuron represents a category. Then, the categories are $k=0,\\ldots,k=K-1$ and the ground-truth labels are $y\\in\\{0,\\ldots,K-1\\}$.\n",
        "\n",
        "Each category is represented as a one-hot vector, a $1\\times K$ vector where the $k$-th element is $1$ and the rest are zeroes. Therefore, the output layer must also be a $1\\times K$ one-hot vector. The preactivations of the output layer are called the logits. To compute the activation distribution from the preactivations, we must use the softmax function.\n",
        "\n",
        "[[2]](#2)"
      ],
      "metadata": {
        "id": "xH7qRGoLFQcx"
      }
    },
    {
      "cell_type": "markdown",
      "source": [
        "## Softmax Activation Function\n",
        "The softmax function converts a vector of $K$ real numbers into a probability distribution of $K$ possible outcomes.\n",
        "\n",
        "The $k$th element of the activation is given by:\n",
        "$$\n",
        "a_k=\\frac{e^{z_k}}{\\sum_{k'=0}^Ke^{z_{k'}}}\n",
        "$$\n",
        "\n",
        "The exponent introduces nonlinearity and is used to amplify the output probability of relatively larger input components.\n",
        "\n",
        "To prevent overflow, we can subtract the maximum component of the preactivation value from all components of the preactivation. Thus:\n",
        "$$\n",
        "a_k'=\\frac{e^{z_k-z_m}}{\\sum_{k'=0}^Ke^{z_{k'}-z_m}}\n",
        "$$\n",
        "\n",
        "Note that a hardmax function, one that outputs a one-hot vector indicating the greatest value of its input, is not differentiable, while softmax is.\n",
        "\n",
        "[[2]](#2)"
      ],
      "metadata": {
        "id": "PoljkJP1Ozwm"
      }
    },
    {
      "cell_type": "markdown",
      "source": [
        "## Softmax Derivative\n",
        "Using the quotient rule and some summation properties, we get:\n",
        "$$\\frac{da_k}{dz_j}=1\\{k==j\\}a_k-a_ka_j$$, where $1\\{k==j\\}$ is an indicator function which is $1$ when the condition is true and $0$ otherwise.\n",
        "\n",
        "[[2]](#2)"
      ],
      "metadata": {
        "id": "nN-_21AKTZZF"
      }
    },
    {
      "cell_type": "markdown",
      "source": [
        "# Error and Loss Functions\n",
        "The error of a prediction problem is the deviation of a prediction from an observation, given by $\\varepsilon_i=y_i-\\hat{y}_i$.\n",
        "\n",
        "The loss of a prediction problem is some function that quantifies the negative consequence of a prediction.\n"
      ],
      "metadata": {
        "id": "8TpzT-MvnFzk"
      }
    },
    {
      "cell_type": "markdown",
      "source": [
        "## L2 Loss\n",
        "The L2 loss is the square of the L2 norm of the error (also the sum of the squared errors), given by:\n",
        "$$\\text{L}^2(\\varepsilon)=\\sum_i^N\\varepsilon_i^2$$\n"
      ],
      "metadata": {
        "id": "sC5pB_0WXTsS"
      }
    },
    {
      "cell_type": "markdown",
      "source": [
        "## Mean Square Error\n",
        "The Mean Square Error (MSE) is the mean of the squared errors, or the L2 loss divided by the number of records. It is given by:\n",
        "$$\n",
        "\\text{MSE}(\\varepsilon)=\\frac{1}{n}\\sum_i^N\\varepsilon_i^2\n",
        "$$\n",
        "\n",
        "Note that the MSE measures a **loss**, despite having error in its name.\n"
      ],
      "metadata": {
        "id": "FtpKUAFQXVMK"
      }
    },
    {
      "cell_type": "markdown",
      "source": [
        "## Cross-Entropy Loss\n",
        "The cross-entropy loss is the cross-entropy between the observations and the predictions. CEL is used for multi-label classification. It is given by:\n",
        "$$\n",
        "\\text{CEL}(P,Q)=-\\sum_{k=0}^KP(k)\\log{Q(k)}\n",
        "$$, where $P,Q$ are the observed and predicted probabilities of the $k$-th label being true.\n",
        "\n",
        "Typically, $P$ is either $0$ or $1$ for a given record. Thus, our cross-entropy loss can also be written as:\n",
        "$$\n",
        "\\text{CEL}(y,\\hat{y})=-\\sum_{k=0}^K\\{y==k\\}\\log{\\hat{y}}\n",
        "$$"
      ],
      "metadata": {
        "id": "AE3tnRSFXWIb"
      }
    },
    {
      "cell_type": "markdown",
      "source": [
        "# Gradient Descent and Backpropagation"
      ],
      "metadata": {
        "id": "Z2O1Lkdpv5lA"
      }
    },
    {
      "cell_type": "markdown",
      "source": [
        "## The Problem\n",
        "A neural network learning is equivalent to reducing the loss of some loss function. Thus, the problem is simply an optimization problem, given by:\n",
        "$$\n",
        "\\min_{W_i,\\mathbf{b_i}}L(W_i,\\mathbf{b_i})\n",
        "$$, where:\n",
        "- $W_i$ is the $i$-th weight matrix\n",
        "- $\\mathbf{b}_i$ is the $i$-th bias vector\n",
        "- $L(W_i,\\mathbf{b_i})$ is the loss of the network determined by the parameters\n",
        "\n",
        "Unfortunately, we generally cannot compute $W$ and $\\mathbf{b}$ directly, either analytically or numerically, due to the large number of parameters a neural network may have. [[3]](#3)\n",
        "\n"
      ],
      "metadata": {
        "id": "2qTunXnMbSas"
      }
    },
    {
      "cell_type": "markdown",
      "source": [
        "## Gradient Descent\n",
        "While we cannot directly compute $W$ and $\\mathbf{b}$, we can first make a guess, then \"descend\" in the loss space by \"moving\" in the direction opposite to the gradient at that point. Hence, the name gradient descent.\n",
        "\n",
        "As a refresher, the gradient of a function is the direction and rate of fastest increase.\n",
        "\n",
        "The process can be visualized as shown below.\n",
        "<div>\n",
        "<img src=\"https://mriquestions.com/uploads/3/4/5/7/34572113/steepest-descent-loss-funciton_orig.png\" width=\"500\"/>\n",
        "</div>\n",
        "\n",
        "Our initial guess of $W$ and $\\mathbf{b}$ may start at a high loss (the red in the plot), then \"descend\", following the gradients, to the minimum."
      ],
      "metadata": {
        "id": "BIcamcvwbTdd"
      }
    },
    {
      "cell_type": "markdown",
      "source": [
        "## Backpropagation\n",
        "Backpropagation is the process of updating the parameters using some multiple of the gradient of the loss function with respect to the parameters. This update looks something like:\n",
        "$$\n",
        "W_1\\leftarrow W_1-\\alpha\\frac{dL}{dW_1},\\quad\\mathbf{b}_1\\leftarrow\\mathbf{b}_1-\\alpha\\frac{dL}{d\\mathbf{b}_1}\n",
        "$$, and so on. $\\alpha$ is often used to denote the **learning rate** of training.\n",
        "\n",
        "The effect of learning rates are visualized below.\n",
        "\n",
        "<div>\n",
        "<img src=\"https://www.jeremyjordan.me/content/images/2018/02/Screen-Shot-2018-02-24-at-11.47.09-AM.png\" width=\"700\"/>\n",
        "<img src=\"https://cs231n.github.io/assets/nn3/learningrates.jpeg\" width=\"250\"/>\n",
        "</div>\n",
        "\n",
        "Backpropagation is named as such because the gradient of earlier parameters depends on the gradient of later parameters (i.e. $\\frac{dL}{dW_2}$ is used in the calculation of $\\frac{dL}{dW_1}$) because of the usage of the chain rule.\n",
        "\n",
        "Fortunately, we do not need to know how to estimate these gradients by hand. Many deep learning frameworks include autograd, a reverse automatic differentiation system."
      ],
      "metadata": {
        "id": "w5I4rl1GfMNQ"
      }
    },
    {
      "cell_type": "markdown",
      "source": [
        "## Strategies\n",
        "There are three primary strategies implemented when performing gradient descent. They differ in performance and accuracy.\n",
        "\n",
        "<div>\n",
        "<img src=\"https://miro.medium.com/v2/resize:fit:4800/format:webp/1*bKSddSmLDaYszWllvQ3Z6A.png\" width=\"500\"/>\n",
        "</div>\n",
        "\n",
        "Note that an epoch refers to a forward/back-propagation through the entire training dataset."
      ],
      "metadata": {
        "id": "L52IGo4cOO-c"
      }
    },
    {
      "cell_type": "markdown",
      "source": [
        "### Batch Gradient Descent\n",
        "In batch gradient descent, each forward/back-propagation iteration is made on the entire dataset.\n",
        "\n",
        "\\+ Of the three strategies, batch gradient descent will update the parameters with the best estimate of the gradient.\n",
        "\n",
        "\\- This strategy requires the most memory and time per iteration. Furthermore, it may be impossible for large datasets."
      ],
      "metadata": {
        "id": "9VFapcQ7OQgX"
      }
    },
    {
      "cell_type": "markdown",
      "source": [
        "### Mini-Batch Gradient Descent\n",
        "In mini-batch gradient descent, each forward/back-propagation is made on a mini-batch of the entire dataset. If the data is split into $k$ mini-batches, each mini-batch will have $\\frac{m}{k}$ samples. Once $k$ iterations are complete, one epoch will have been completed.\n",
        "\n",
        "Its pros and cons are between that of batch and stochastic gradient descent.\n",
        "\n",
        "This strategy is often used in deep learning."
      ],
      "metadata": {
        "id": "7khKRez0OTD5"
      }
    },
    {
      "cell_type": "markdown",
      "source": [
        "### Stochastic Gradient Descent\n",
        "In stochastic gradient descent, each forward/back-propagation is made on a single sample of the dataset. Thus, $m$ iterations are required to complete one epoch.\n",
        "\n",
        "\\+ Requires the least memory and time per iteration.\n",
        "\n",
        "\\- Very noisy estimate of the gradient. Hence \"stochastic\" in the name."
      ],
      "metadata": {
        "id": "i1mV2nTAOVO6"
      }
    },
    {
      "cell_type": "markdown",
      "source": [
        "# Normalization\n",
        "There are a number of practical reasons to normalize the input and output data. Normalizing data can make training faster, reduce the chances of getting local minima, and makes other techniques more convenient.\n",
        "\n",
        "Differing scales of inputs and outputs would cause a variable with large variance to dominate the other variables."
      ],
      "metadata": {
        "id": "ydL4TCE4Ranh"
      }
    },
    {
      "cell_type": "markdown",
      "source": [
        "## Standardization\n",
        "Standardization centers and scales the data to unit variance. It is given by:\n",
        "$$x'=\\frac{{x}-\\mu_{x}}{\\sigma_{x}}$$, where $x$ is some vector. Note that scalar operations are applied element-wise.\n",
        "The resulting mean and variance is $\\mu_{x'}=0,\\sigma_{x'}=1$.\n",
        "\n",
        "This method of standardization assumes that the data is normally distributed."
      ],
      "metadata": {
        "id": "IzepBM_1Ty8f"
      }
    },
    {
      "cell_type": "markdown",
      "source": [
        "## Minmax Scaling\n",
        "Minmax scaling proportionally transforms a vector such that every value is in $[0,1]$. It is given by:\n",
        "$$x'=\\frac{x-x_{\\text{min}}}{x_{\\text{max}}-x_{\\text{min}}}$$"
      ],
      "metadata": {
        "id": "U6HaByUQcX2g"
      }
    },
    {
      "cell_type": "markdown",
      "source": [
        "# Data Splitting\n",
        "We need data in order to train our model. This is our training data. We need separate data to test the robustness of our model to unseen data and prevent overfitting. This is our testing data. Furthermore, we need another set of data that we can monitor while tuning hyperparameters. This is our validation data.\n",
        "\n",
        "Data is often separated into training and testing sets at an $80:20$ rate. Then, if one can afford, the training data is separated into training and validation sets at an $80:20$ rate."
      ],
      "metadata": {
        "id": "1qi-5okg8z2E"
      }
    },
    {
      "cell_type": "markdown",
      "source": [
        "## Why?\n",
        "To convey the importance of these three disjoint sets, I will draw analogy to a teacher helping a student prepare for some math exam.\n",
        "\n",
        "We, in the way that we design, train, and test models, are the teacher. The student, whom we, the teacher, help prepare for the exam, is the model.\n",
        "\n",
        "The teacher provides the student with relevant study materials (e.g. textbook, past homeworks, past quizzes). These study materials are like the training data. The teacher also provides the student with sample exams so that they can assess the student's progress. These sample exams are like the validation data. Finally, the student and their understanding will be tested on the actual exam. The actual exam represents the testing data.\n",
        "\n",
        "Studying ideally prepares the student with relevant knowledge and skills. However, there is no guarantee of deep understanding. Perhaps the student performs rote repetitions of certain questions, without deeply understanding the concepts of the problems and the techniques used to solve them. Perhaps the student memorizes theorems without understanding them.\n",
        "\n",
        "Taking practice exams helps the teacher understand the student's preparedness for the actual exam with respect to the time they have spent studying. The teacher may change the student's study strategies based on their practice exam scores. However, the teacher should administer sample exams sparingly, as taking practice exams should not be depended on as a way to learn the material. It should only be a way to monitor progress and tune study strategies.\n",
        "\n",
        "Finally, after all this preparation, the teacher will assess the student's understanding of the material with the actual exam. From the student's score on the exam, the teacher can reflect on the entire process. The study materials, the sample exams, the study strategies, etc."
      ],
      "metadata": {
        "id": "nJq3KeLZ_0nP"
      }
    },
    {
      "cell_type": "markdown",
      "source": [
        "## $k$-Fold Cross-Validation\n",
        "Unlike setting aside a chunk, or none at all, of training data for validation, $k$-fold cross-validation varies the validation data taken from the training data. The number of different validation sets is determined by said $k$. The proportion of the training data to be used as validation data is given by $1/k$.\n",
        "\n",
        "Thus, rather than a set $80:20$ split of training data into training and validation data, the split is given by $\\frac{k-1}{k}:\\frac{1}{k}$.\n",
        "\n",
        "Cross-validation lowers the likelihood of overfitting hyperparameters to the validation set.\n",
        "\n",
        "However, cross-validation is expensive and one may not have the time or resources to train multiple models."
      ],
      "metadata": {
        "id": "91l01j6iGP7-"
      }
    },
    {
      "cell_type": "markdown",
      "source": [
        "### Example: 5-Fold Cross-Validation\n",
        "<div>\n",
        "<img src=\"https://scikit-learn.org/stable/_images/grid_search_cross_validation.png\" width=\"500\"/>\n",
        "</div>\n",
        "\n",
        "In 5-fold cross-validation, 5 training-validation splits are made and validation scores are taken from training a model with each differing training set but the same hyperparameters."
      ],
      "metadata": {
        "id": "bF7thh1rJdRx"
      }
    },
    {
      "cell_type": "markdown",
      "source": [
        "# Initialization\n",
        "Initialization refers to the initial guess at the parameters.\n",
        "\n",
        "An intuition will be provided for Xavier initialization."
      ],
      "metadata": {
        "id": "eX1rhdY_mYPA"
      }
    },
    {
      "cell_type": "markdown",
      "source": [
        "## Xavier (Normal) Initialization\n",
        "If the input and output are of zero mean and unit variance, we wish the prediction to also be of zero mean and unit variance. If we have $n$ layers of $w$ and $x$ that are multiplied, then the variance of the final activation would be $n*\\sigma_w^2$. Thus, if we wish our prediction to have a unit variance, then $\\sigma_w^2=\\frac{1}{n}\\rightarrow\\sigma_w=\\frac{1}{\\sqrt{n}}. $Thus, we have:\n",
        "$$W\\sim\\mathcal{N}(0,\\frac{1}{n_\\text{in}})$$, for $\\mathcal{N}(\\mu,\\sigma^2)$.\n",
        "\n",
        "Xavier initialization is often used for tanh activation functions.\n",
        "\n",
        "[[5]](#5)"
      ],
      "metadata": {
        "id": "OznZwi9eemKn"
      }
    },
    {
      "cell_type": "markdown",
      "source": [
        "## Bengio Initialization\n",
        "Considering both forward and backward propagation, we may wish for a variance of $\\frac{2}{n_{\\text{out}}+n_{\\text{in}}}$. Thus, we have:\n",
        "$$\n",
        "W\\sim\\mathcal{N}(0,\\frac{2}{n_{\\text{out}}+n_{\\text{in}}})\n",
        "$$\n",
        "\n",
        "[[7]](#7)"
      ],
      "metadata": {
        "id": "w1i5KAG2f5xy"
      }
    },
    {
      "cell_type": "markdown",
      "source": [
        "## Kaiming He Initialization\n",
        "Kaiming He and his colleagues argued that Xaiver initialization does not work well for ReLU networks. Rather, they propose that a variance of $\\frac{2}{n_\\text{in}}$ is ideal. Thus:\n",
        "$$\n",
        "W\\sim\\mathcal{N}(0,\\frac{2}{n_\\text{in}})\n",
        "$$\n",
        "\n",
        "[[6]](#6)"
      ],
      "metadata": {
        "id": "k7Yle1wYwNFQ"
      }
    },
    {
      "cell_type": "markdown",
      "source": [
        "# Regularization\n",
        "Regularization is a set of techniques to prevent overfitting by adding information in neural networks."
      ],
      "metadata": {
        "id": "ctyRjAegj4s2"
      }
    },
    {
      "cell_type": "markdown",
      "source": [
        "## L2 Regularization\n",
        "Suppose we change our objective function, $J(W)$, such that it includes the Frobenius norm of the weight matrices:\n",
        "$$\n",
        "J(W)=\\text{CEL}(Y, \\hat{Y})+\\lambda\\sum_{l=1}^L||W^{[l]}||_F^2\n",
        "$$\n",
        "Here, the cost will increase as the loss increases, but also as the complexity of the parameters increase. For $\\lambda\\rightarrow0$, our parameters are unconstrained and may overfit. For $\\lambda\\rightarrow\\infty$, our parameters are zeroed and would underfit.\n",
        "\n",
        "The gradient of this objective function is given by:\n",
        "$$\n",
        "\\Delta J(W)=\\Delta_WL+\\lambda W\n",
        "$$\n",
        "Thus, the parameter update is given by:\n",
        "$$\n",
        "\\displaylines{\n",
        "W\\leftarrow W-\\alpha\\Delta J(W)\\\\\n",
        "W\\leftarrow W-\\alpha(\\Delta_WL+\\lambda W)\\\\\n",
        "W\\leftarrow (1-\\alpha\\lambda)W-\\alpha\\Delta_WL\n",
        "}\n",
        "$$\n",
        "L2 regularization is also called weight decay because $W$ is reduced by some percent given by $\\alpha\\lambda$, regardless of the loss.\n"
      ],
      "metadata": {
        "id": "7UJEn07lkSSN"
      }
    },
    {
      "cell_type": "markdown",
      "source": [
        "## Dropout Regularization\n",
        "<div>\n",
        "<img src=\"https://miro.medium.com/v2/resize:fit:640/format:webp/1*wDGvx0z0-nEB8zQHykvwPw.png\" width=\"500\"/>\n",
        "</div>\n",
        "\n",
        "In dropout, we randomly drop the activations of some neurons of a layer. The neurons dropped are resampled for each training iteration. No neurons are dropped during testing.\n",
        "\n",
        "The neurons dropped during training are decided by sampling from a Bernoulli distribution with probability, $p$. $p=0.5$ is a common starting point.\n"
      ],
      "metadata": {
        "id": "g7whvp05nUiO"
      }
    },
    {
      "cell_type": "markdown",
      "source": [
        "### Why?\n",
        "Dropout can help to prevent overfitting and efficiently generate ensemble networks (i.e. a network whose evaluation is the aggregation of multiple individual networks).\n",
        "\n",
        "The idea of dropout is that hidden units cannot co-adapt, which decreases the complexity of the network. This forced independence also means that the weights of a node's inputs are spread across all input nodes, similar to L2 regularization.\n",
        "\n",
        "[[1]](#1), [[2]](#2), [[11]](#11)"
      ],
      "metadata": {
        "id": "G8l2MB8pvdpG"
      }
    },
    {
      "cell_type": "markdown",
      "source": [
        "### Scaling\n",
        "With no other changes, a problem arises during testing. All neurons see all inputs, whereas during training, they only saw $p*n_\\text{in}$ inputs. Thus, they are seeing $\\frac{1}{p}$ more inputs. To ensure a neuron's expected outputs during testing match the expected outputs during training, we can scale the outputs of neuron by $p$ during testing.\n",
        "\n",
        "[[8]](#8)"
      ],
      "metadata": {
        "id": "daebgf5mvho-"
      }
    },
    {
      "cell_type": "markdown",
      "source": [
        "### Inverted Dropout\n",
        "Inverted dropout performs the aforementioned scaling during training, leaving evaluations untouched. Thus, a neuron's activations are scaled by $\\frac{1}{p}$ during training.\n",
        "\n",
        "It is always preferable to use inverted dropout because evaluation performance is critical.\n",
        "\n",
        "[[2]](#2), [[8]](#8), [[11]](#11)"
      ],
      "metadata": {
        "id": "LyViWd79wAfT"
      }
    },
    {
      "cell_type": "markdown",
      "source": [
        "# Learning Rate Decay\n",
        "It is usually helpful to anneal the learning rate over time. Knowing when to decay can be tricky: too slow and you'll be wasting epochs updating the parameters chaotically but too fast and the system will cool too soon, before it can find a minimum.\n",
        "\n",
        "A number of learning rate schedulers are visualized below.\n",
        "\n",
        "<div>\n",
        "<img src=\"https://miro.medium.com/v2/resize:fit:4800/format:webp/1*qe6nYlH8zsmUdScyHMhRCQ.png\" width=\"1000\"/>\n",
        "</div>\n",
        "\n",
        "[[9]](#9)"
      ],
      "metadata": {
        "id": "FBBUxuNBLews"
      }
    },
    {
      "cell_type": "markdown",
      "source": [
        "## Step\n",
        "With step decay, the learning rate is reduced by a constant factor every few epochs."
      ],
      "metadata": {
        "id": "MH7xGdQdNkQJ"
      }
    },
    {
      "cell_type": "markdown",
      "source": [
        "## Linear\n",
        "With linear decay, the learning rate is linearly interpolated from $\\alpha_0$ to $\\alpha_n$ over $n$ epochs. Thus, the learning rate is incremented by $\\frac{\\alpha_n-\\alpha_0}{n}$ every epoch."
      ],
      "metadata": {
        "id": "cW7LSlVmyBnZ"
      }
    },
    {
      "cell_type": "markdown",
      "source": [
        "## Exponential\n",
        "With exponential decay, the learning rate is given by $\\alpha_{t}=\\alpha_0e^{-kt}$."
      ],
      "metadata": {
        "id": "3-xKJyOXNk4z"
      }
    },
    {
      "cell_type": "markdown",
      "source": [
        "## Cosine Annealing\n",
        "A cosine annealing learning rate scheduler decays the learning rate from its starting value to a minimum value, and repeats. The resetting of the learning rate acts as a simulated restart with good weights (\"warm restart\" vs \"cold restart\").\n",
        "\n",
        "It is given by:\n",
        "$$\n",
        "\\alpha_t=\\alpha_\\text{min}+\\frac{1}{2}(n_\\text{max}-n_\\text{min})(1+\\cos\\frac{T_\\text{cur}}{T_{i}})\n",
        "$$, where $T_\\text{cur}$ is how many epochs have passed since the last restart and $T_i$ is how many epochs pass in one cycle.\n",
        "\n",
        "Each cycle can be saved as a snapshot and a model ensemble can be created from the many snapshots."
      ],
      "metadata": {
        "id": "RSV2nKTXziAK"
      }
    },
    {
      "cell_type": "markdown",
      "source": [
        "## What To Use\n",
        "Step decay is slightly preferable, as its hyperparameters are more interpretable than the hyperparameter, $k$, of exponential decay.\n",
        "\n",
        "If you can afford the additional computation, err on the side of slower decay."
      ],
      "metadata": {
        "id": "tOo3OlkiOBML"
      }
    },
    {
      "cell_type": "markdown",
      "source": [
        "# Updating Parameters\n",
        "Parameters are typically updated simply as:\n",
        "$$\\theta_{t+1}=\\theta_t-\\alpha\\Delta J(\\theta_t)$$, where $\\Delta J(\\theta_t)$ is the gradient of the objective function at step $t$.\n",
        "\n",
        "However, several methods have been developed to improve the speed of convergence."
      ],
      "metadata": {
        "id": "bt75VlcByRk8"
      }
    },
    {
      "cell_type": "markdown",
      "source": [
        "## Momentum\n",
        "Momentum has a clear physical analogy. The optimization process is akin to the process of simulating the parameters (as a particle) rolling down a landscape. If the loss of the parameters is the potential energy of the particle, then the gradient gives the force felt by the particle, which is proportional to the acceleration. This acceleration determines the particle's next velocity, which determines the particles next position.\n",
        "\n",
        "Thus, by physics, the gradient only directly affects the velocity, which, in turn, affects the position.\n",
        "\n",
        "Updating weights with momentum is given by:\n",
        "$$\\displaylines{\n",
        "V_{t+1}=\\beta V_t+(1-\\beta)\\Delta J(\\theta_t)\\\\\n",
        "\\theta_{t+1}=\\theta_t-\\alpha V_t\n",
        "}$$\n",
        "\n",
        "Above, the velocity is represented as $V$. $\\beta$ determines the amount that the current gradient affects $V$. Then, $V$ is used to update the parameters.\n",
        "\n",
        "Note that, before, we were taking the gradient to be the present velocity (i.e. $\\beta=0$). Under momentum, we take the gradient to be the present acceleration. The effect of the velocity and acceleration are controlled by parameters, $\\alpha$ and $\\beta$.\n",
        "\n",
        "Also note momentum's relations to exponentially weighted moving averages, where $\\beta$ may represent some smoothing factor.\n",
        "\n",
        "[[1]](#1), [[2]](#2), [[9]](#9)"
      ],
      "metadata": {
        "id": "U2m4P3tMy_p3"
      }
    },
    {
      "cell_type": "markdown",
      "source": [
        "## Nesterov's Accelerated Gradient (NAG)\n",
        "Nesterov's accelerated gradient (also known as Nesterov momentum) is a slightly different version of momentum which has stronger theoretical guarantees for convergence in convex functions.\n",
        "\n",
        "The idea behind NAG is that we should \"look ahead\" and get an estimate of the gradient at $(\\theta_t-\\beta V_t)$, the approximate value of the parameter in the next step.\n",
        "\n",
        "Updating weights with NAG is given by:\n",
        "$$\\displaylines{\n",
        "V_{t+1}=\\beta V_t+(1-\\beta)\\Delta J(\\theta_t-\\beta V_t)\\\\\n",
        "\\theta_{t+1}=\\theta_t-\\alpha V_t\n",
        "}$$\n",
        "\n",
        "The difference is visualized below.\n",
        "\n",
        "<div>\n",
        "<img src=\"https://cs231n.github.io/assets/nn3/nesterov.jpeg\" width=\"800\"/>\n",
        "</div>\n",
        "Instead of evaluating gradient at the current position (red circle), we know that our momentum is about to carry us to the tip of the green arrow. With Nesterov momentum we therefore instead evaluate the gradient at this \"looked-ahead\" position.\n",
        "\n",
        "[[2]](#2), [[9]](#9)"
      ],
      "metadata": {
        "id": "oOCXgpRF5EYu"
      }
    },
    {
      "cell_type": "markdown",
      "source": [
        "## Adaptive Gradient (Adagrad)\n",
        "The adaptive gradient algorithm (Adagrad) uses the knowledge of the geometry of the data learned from earlier iterations. Simply, it makes the learning rate of certain parameters to be inversely proportional to how much they've already changed.\n",
        "\n",
        "Adagrad is expressed as:\n",
        "$$\\displaylines{\n",
        "G_t=\\sum_{\\tau=1}^t\\Delta J(\\theta_\\tau)^2\\\\\n",
        "\\theta_{t+1}=\\theta_t-\\frac{\\alpha}{\\sqrt{G_t+\\epsilon}}\\Delta J(\\theta_t)\n",
        "}$$, where $G_t$ measures the total squared gradients from time $1$ to time $t$.\n",
        "\n",
        "The $\\epsilon$ term in the denominator ensures that no divisions by zero occur (usually set somewhere between from 1e-4 to 1e-8).\n",
        "\n",
        "The square root operation turns out to be very important. Because we square the gradients when computing $G_t$, we take the square root to simply get the unsigned accumulated magnitude of the gradients.\n",
        "\n",
        "A downside of Adagrad is that the monotonic learning rate is often too aggressive and stops too early.\n",
        "\n",
        "[[9]](#9)"
      ],
      "metadata": {
        "id": "2QY5etZ3q7o3"
      }
    },
    {
      "cell_type": "markdown",
      "source": [
        "## Root Mean Square Propagation (RMSprop)\n",
        "Root Mean Square Propagation (RMSprop) is an extension of Adagrad that reduces its aggressive, monotonically decreasing learning rate by only considering a part of the past squared gradients, rather than the accumulation of all past squared gradients.\n",
        "\n",
        "Instead of inefficiently storing $w$ past gradients and taking their accumulated value, RMSprop uses a moved average of the squared gradients.\n",
        "\n",
        "RMSprop is given by:\n",
        "$$\\displaylines{\n",
        "G_t=\\beta G_{t-1}+(1-\\beta)\\Delta J(\\theta_t)^2\\\\\n",
        "\\theta_{t+1}=\\theta_t-\\frac{\\alpha}{\\sqrt{G_t+\\epsilon}}\\Delta J(\\theta_t)\n",
        "}$$\n",
        "\n",
        "Interestingly, RMSprop is unpublished and was proposed by Geoff Hinton in slide 29 of lecture 6 of his Coursera class.\n",
        "\n",
        "AdaDelta is a similar adaptive learning rate method that was developed independently from the same idea. However, it goes one step further and eliminates the learning rate parameter, $\\alpha$.\n",
        "\n",
        "[[9]](#9), [[10]](#10)"
      ],
      "metadata": {
        "id": "0LDkXudn3r16"
      }
    },
    {
      "cell_type": "markdown",
      "source": [
        "## Adaptive Momentum (Adam)\n",
        "Adaptive Momentum (Adam) is a technique that combines momentum and RMSprop. It is given by:\n",
        "$$\\displaylines{\n",
        "V_{t+1}=\\beta_1V_t+(1-\\beta_1)\\Delta J(\\theta_t)\\\\\n",
        "G_t=\\beta_2G_{t-1}+(1-\\beta_2)\\Delta J(\\theta_t)^2\\\\\n",
        "\\theta_{t+1}=\\theta_t-\\frac{\\alpha}{\\sqrt{G_t+\\epsilon}}V_{t+1}\n",
        "}$$"
      ],
      "metadata": {
        "id": "tOpFjqpnFYF-"
      }
    },
    {
      "cell_type": "markdown",
      "source": [
        "## What Optimizer Do I Use?\n",
        "Many papers use vanilla SGD and a simple learning rate annealing schedule. SGD usually finds a minimum but may take significantly longer, may get stuck in saddle points, and relies on robust initialization and an annealing learning rate scheduler.\n",
        "\n",
        "On the other hand, if you care about fast convergence, you should choose an adaptive learning rate method, of which Adam is often the best choice.\n",
        "\n",
        "The different optimization techniques are visualized below. Unfortunately, Adam is not included.\n",
        "\n",
        "<div>\n",
        "<img src=\"https://i.imgur.com/2dKCQHh.gif\" width=\"500\"/>\n",
        "<img src=\"https://i.imgur.com/s25RsOr.gif\" width=\"500\"/>\n",
        "</div>\n",
        "\n",
        "[Courtesy of Alec Radford](http://imgur.com/a/Hqolp)\n",
        "\n",
        "\n",
        "\n",
        "[[10]](#10)"
      ],
      "metadata": {
        "id": "XFn0AYCNG1OI"
      }
    },
    {
      "cell_type": "markdown",
      "source": [
        "# Batch (Layer) Normalization\n",
        "Normalizing the input and output data ensures that the model learns from and attempts to predict normalized, balanced data. However, the inputs and outputs of hidden layers are not regulated at all.\n",
        "\n",
        "Batch normalization (batchnorm) performs normalization of hidden layers. Given $B$, the number of samples in a batch and $z^{(i)}$, the pre-activations at a layer, we have:\n",
        "$$\\displaylines{\n",
        "\\mu_B\\leftarrow\\frac{1}{B}\\sum_{i=1}^Bz^{(i)}\n",
        "\\\\\n",
        "\\sigma_B^2\\leftarrow\\frac{1}{B}\\sum_{i=1}^B(z^{(i)}-\\mu_B)^2\n",
        "\\\\\n",
        "z_\\text{norm}\\leftarrow\\frac{z^{(i)}-\\mu_B}{\\sqrt{\\sigma^2+\\epsilon}}\n",
        "\\\\\n",
        "\\tilde{z}\\leftarrow\\gamma z_\\text{norm}+\\beta\n",
        "}$$, where $\\gamma,\\beta$ are parameters that are also updated during gradient descent, with:\n",
        "$$\n",
        "\\gamma\\leftarrow\\gamma-\\alpha\\frac{dL}{d\\gamma},\\beta\\leftarrow\\beta-\\alpha\\frac{dL}{d\\beta}\n",
        "$$\n",
        "\n",
        "Then, these normalized and adjusted pre-activations are fed into an activation function to compute the activations at that layer.\n",
        "\n",
        "During test time, we use a running exponentially weighted average of mean $\\overline{\\mu}$ and variance $\\overline{\\sigma^2}$ to normalize the layer's preactivations. Thus, during training, we need to keep track of the EWA mean and variance for each layer:\n",
        "$$\\displaylines{\n",
        "\\overline{\\mu}=\\beta_1\\overline{\\mu}+(1-\\beta_1)\\mu_B\\\\\n",
        "\\overline{\\sigma^2}=\\beta_2\\overline{\\sigma^2}+(1-\\beta_2)\\sigma_B^2\n",
        "}$$\n",
        "\n",
        "Then, we have:\n",
        "$$\\displaylines{\n",
        "z_\\text{norm}^t\\leftarrow\\frac{z^{t}-\\overline{\\mu}}{\\sqrt{\\overline{\\sigma^2}+\\epsilon}}\n",
        "\\\\\n",
        "\\tilde{z}^2\\leftarrow\\gamma z_\\text{norm}^t+\\beta\n",
        "}$$\n",
        "\n",
        "One might think to use the input batches to compute $\\mu_B$ and $\\sigma_B^2$, then normalize them and scale them to the learned $\\gamma$ and $\\beta$. However, if there is only one sample in the batch, the batch will be zeroed and the layer's preactivation will always be $\\beta$, no matter the input.\n",
        "\n",
        "[[2]](#2), [[8]](#8), [[11]](#11)"
      ],
      "metadata": {
        "id": "V-oLFCQSGRMc"
      }
    },
    {
      "cell_type": "markdown",
      "source": [
        "## Why?\n",
        "Networks using batchnorm generally have stronger performance. A network using batchnorm can use a wider range of hyperparameters because it is more stable to train (e.g. robust to larger learning rates, bad initialization, etc.).\n",
        "\n",
        "The working mechanism of batchnorm is not yet fully understood."
      ],
      "metadata": {
        "id": "bYjzSHQw57cz"
      }
    },
    {
      "cell_type": "markdown",
      "source": [
        "# Hyperparameter Tuning\n",
        "As we've seen, there are many hyperparameters to be tuned. These include, but are not limited to, the learning rate, the learning rate scheduler, regularization used, batch sizes, parameter update method, etc.\n",
        "\n",
        "If we wished to search for the optimal combination of two hyperparameters, there are two obvious options: grid search and random search.\n",
        "\n",
        "\n",
        "<div>\n",
        "<img src=\"https://cs231n.github.io/assets/nn3/gridsearchbad.jpeg\" width=\"500\"/>\n",
        "</div>\n",
        "\n",
        "It is argued that random search is more efficient than grid search.\n",
        "\n",
        "Make sure to search for hyperparameters on an appropriate scale. One should use standard uniform sampling for $p_\\text{keep}\\in[0,1]$ for dropout because the range of values is within one order of magnitude. Thus, $p\\sim U(0,1). $However, logarithmic sampling should be used for $\\alpha$, the learning rate because it is typically varied by factors of 10 (e.g. $\\alpha\\in[0.001,1]$). Thus, $\\alpha\\sim10^{U(0.001,1)}$.\n",
        "\n",
        "A popular strategy is to use a random coarse search, then a grid fine search.\n",
        "\n",
        "[[9]](#9), [[11]](#11)"
      ],
      "metadata": {
        "id": "xDKH0oAR1gEy"
      }
    },
    {
      "cell_type": "markdown",
      "source": [
        "## Implementation\n",
        "Hyperparameter search can take many days/weeks for large networks. One design is to have a worker that continously samples hyperparameters, recording performance and saving model checkpoints for each point checked. Another program, the master, launches or kills workers across a compute cluster and may inspect the checkpoints, model performance, etc.\n",
        "\n",
        "[[9]](#9)"
      ],
      "metadata": {
        "id": "Yk7kETjrBSks"
      }
    },
    {
      "cell_type": "markdown",
      "source": [
        "# References\n",
        "1. T. Lee, V. P. Singh, K. H. Cho. 2021. Deep Learning for Hydrometeorology and Environmental Science. Available: https://content.e-bookshelf.de/media/reading/L-15184113-784f071c38.pdf\n",
        "2. H. Venkateswara. Introduction to Deep Learning. 2024.\n",
        "3. D. B. Cerigo. On Why Gradient Descent is Needed. 2018. Available: https://github.com/DBCerigo/talks-presentations/blob/master/deep_learning_without_hype/On%20Why%20Gradient%20Descent%20Is%20Needed%20-%20Without%20The%20Hype.ipynb\n",
        "4. A. Ng. Standard notations for Deep Learning. 2017. Available: https://cs230.stanford.edu/files/Notation.pdf\n",
        "5. A. Ng. Xavier Initialization. 2022. Available: https://cs230.stanford.edu/section/4/\n",
        "6. K. He, et. al. Delving Deep into Rectifiers: Surpassing Human-Level Performance on ImageNet Classification. 2015. Available: https://arxiv.org/abs/1502.01852\n",
        "7. X. Glorot, Y. Bengio. Understanding the difficulty of training deep feedforward neural networks. 2010. Available: https://proceedings.mlr.press/v9/glorot10a/glorot10a.pdf\n",
        "8. A. Karpathy, et. al. CS231n: Neural Networks 2. 2021. Available: https://cs231n.github.io/neural-networks-2\n",
        "9. A. Karpathy, et. al. CS231n: Neural Networks 3. 2017. Available: https://cs231n.github.io/neural-networks-3\n",
        "10. S. Ruder. An overview of gradient descent optimization algorithms. 2016. Available: https://www.ruder.io/optimizing-gradient-descent/#adadelta\n",
        "11. F. Li, et. al. Lecture 7: Training Neural Networks. 2018. Available: https://cs231n.stanford.edu/slides/2018/cs231n_2018_lecture06.pdf, https://cs231n.stanford.edu/slides/2018/cs231n_2018_lecture07.pdf"
      ],
      "metadata": {
        "id": "T5Y73c9uKJmA"
      }
    }
  ]
}