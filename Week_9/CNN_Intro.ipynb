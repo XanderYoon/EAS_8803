{
  "nbformat": 4,
  "nbformat_minor": 0,
  "metadata": {
    "colab": {
      "provenance": [],
      "toc_visible": true
    },
    "kernelspec": {
      "name": "python3",
      "display_name": "Python 3"
    },
    "language_info": {
      "name": "python"
    }
  },
  "cells": [
    {
      "cell_type": "markdown",
      "source": [
        "# Introduction\n",
        "Convolutional neural networks (CNNs) are a variant of traditional neural networks specially designed for spatial data with a vastly reduced number of parameters."
      ],
      "metadata": {
        "id": "oCrYgtpERTyY"
      }
    },
    {
      "cell_type": "markdown",
      "source": [
        "# Intuition\n",
        "In 1959, Hubel & Wiesel found that neurons in the cerebral cortex of a cat responded to \"edges\", lines presented in certain locations or orientations. This was discovered after they had difficulty in detecting responses from neurons to traditional visual stimuli, such as dots.\n",
        "\n",
        "Similarly, we can design neural networks which detect and process edges.\n"
      ],
      "metadata": {
        "id": "-Omy9cybjOgR"
      }
    },
    {
      "cell_type": "markdown",
      "source": [
        "[[4]](#4)"
      ],
      "metadata": {
        "id": "2cOSX_vRXwLZ"
      }
    },
    {
      "cell_type": "markdown",
      "source": [
        "## What's An Edge?\n",
        "Edges can be defined as a discontinuity in the gradient of image intensity.\n",
        "\n",
        "<div>\n",
        "<img src=\"https://homepages.inf.ed.ac.uk/rbf/CVonline/LOCAL_COPIES/MARSHALL/edge_types.gif\" width=\"500\"/>\n",
        "</div>\n",
        "\n",
        "Such discontinuities can be detected by observing the gradient. For example, the gradient of (a) would be some $x>0$ before instantly changing to $-x$. At this jump discontinuity, we observe an edge.\n",
        "\n",
        "To detect vertical edges, we would compute the derivative of the image with respect to $x$. Using the centered difference technique for numerical differentiation: $\\frac{\\partial F(x,y)}{\\partial x}\\approx\\frac{F(x+1,y)-F(x-1,y)}{2}$.\n",
        "\n",
        "Note that we are not actually numerically computing points of discontinuity in the gradient. Such a task is nontrivial. Rather, we compute the gradients over an image and expect the neural network to be able to \"intuit\" the discontinuities in gradient just as we are able to \"intuit\" discontinuities in graphs by observation.\n",
        "\n",
        "[[2]](#2)"
      ],
      "metadata": {
        "id": "343VepG1tzm7"
      }
    },
    {
      "cell_type": "markdown",
      "source": [
        "## Image Filters and Sobel Operator\n",
        "In an image, we can estimate the horizontal and vertical gradient at some position using something similar to the center-difference operator applied as an image filter.\n",
        "\n",
        "If we take the estimated horizontal gradient at a point in an image to be the sum of the three points on its right minus the sum of the three points on its left and do something similar for the vertical gradient estimator, we get:\n",
        "$$\n",
        "\\begin{bmatrix}\n",
        "-1&0&1\\\\\n",
        "-1&0&1\\\\\n",
        "-1&0&1\n",
        "\\end{bmatrix},\n",
        "\\begin{bmatrix}\n",
        "-1&-1&-1\\\\\n",
        "0&0&0\\\\\n",
        "1&1&1\n",
        "\\end{bmatrix}\n",
        "$$\n",
        "\n",
        "\n",
        "To clarify, the application of an image filter essentially performs dot products between the filters and local regions of the input. The process is visualized below. Another animation is in [[3]](#3).\n",
        "<div>\n",
        "<img src=\"https://upload.wikimedia.org/wikipedia/commons/9/90/CNN-filter-animation-1.gif\" width=\"500\"/>\n",
        "</div>\n",
        "\n",
        "Perhaps it would make sense to put a greater weight on the points to the immediate left and right of our target point. The Sobel operator does just this. The horizontal and vertical Sobel filters look something like:\n",
        "$$\n",
        "\\begin{bmatrix}\n",
        "-1&0&1\\\\\n",
        "-2&0&2\\\\\n",
        "-1&0&1\n",
        "\\end{bmatrix},\n",
        "\\begin{bmatrix}\n",
        "-1&-2&-1\\\\\n",
        "0&0&0\\\\\n",
        "1&2&1\n",
        "\\end{bmatrix}\n",
        "$$\n",
        "\n",
        "You may see the Sobel operator with flipped signs. Ultimately, the magnitude of the gradient is what matters, and the order of the signs are just a technicality."
      ],
      "metadata": {
        "id": "izjrdsTpt08V"
      }
    },
    {
      "cell_type": "markdown",
      "source": [
        "### Example\n",
        "Here is an example of applying the horizontal edge image filter.\n"
      ],
      "metadata": {
        "id": "yjhrUV_YxdWx"
      }
    },
    {
      "cell_type": "code",
      "source": [
        "import matplotlib as mpl\n",
        "import matplotlib.pyplot as plt\n",
        "import numpy as np\n",
        "\n",
        "image = np.array([\n",
        "    [1, 1, 1, 0, 0, 0]\n",
        "]*6)\n",
        "\n",
        "print(image)\n",
        "\n",
        "plt.imshow(image, cmap=mpl.colormaps['gray'])\n",
        "plt.show()"
      ],
      "metadata": {
        "colab": {
          "base_uri": "https://localhost:8080/",
          "height": 532
        },
        "id": "r7X8xk_At40E",
        "outputId": "78bea900-c65a-4670-ad24-c76d8b97d5ec"
      },
      "execution_count": null,
      "outputs": [
        {
          "output_type": "stream",
          "name": "stdout",
          "text": [
            "[[1 1 1 0 0 0]\n",
            " [1 1 1 0 0 0]\n",
            " [1 1 1 0 0 0]\n",
            " [1 1 1 0 0 0]\n",
            " [1 1 1 0 0 0]\n",
            " [1 1 1 0 0 0]]\n"
          ]
        },
        {
          "output_type": "display_data",
          "data": {
            "text/plain": [
              "<Figure size 640x480 with 1 Axes>"
            ],
            "image/png": "[encoded data removed]"
          },
          "metadata": {}
        }
      ]
    },
    {
      "cell_type": "code",
      "source": [
        "filter = np.array([\n",
        "    [-1, 0, 1],\n",
        "    [-2, 0, 2],\n",
        "    [-1, 0, 1]\n",
        "])\n",
        "\n",
        "print(filter)\n",
        "\n",
        "plt.imshow(filter, cmap=mpl.colormaps['gray'])\n",
        "plt.show()"
      ],
      "metadata": {
        "colab": {
          "base_uri": "https://localhost:8080/",
          "height": 486
        },
        "id": "3VNtuDi7vIB3",
        "outputId": "97bf84f8-4351-475a-e86f-2661dc75b10a"
      },
      "execution_count": null,
      "outputs": [
        {
          "output_type": "stream",
          "name": "stdout",
          "text": [
            "[[-1  0  1]\n",
            " [-2  0  2]\n",
            " [-1  0  1]]\n"
          ]
        },
        {
          "output_type": "display_data",
          "data": {
            "text/plain": [
              "<Figure size 640x480 with 1 Axes>"
            ],
            "image/png": "[encoded data removed]"
          },
          "metadata": {}
        }
      ]
    },
    {
      "cell_type": "markdown",
      "source": [
        "SciPy includes a function to apply image filters."
      ],
      "metadata": {
        "id": "5FD-w8k3Vv3x"
      }
    },
    {
      "cell_type": "code",
      "source": [
        "from scipy import ndimage\n",
        "\n",
        "result = ndimage.correlate(image, filter)\n",
        "result = np.abs(result)\n",
        "\n",
        "print(result)\n",
        "\n",
        "plt.imshow(result, cmap=mpl.colormaps['gray'])\n",
        "plt.show()"
      ],
      "metadata": {
        "colab": {
          "base_uri": "https://localhost:8080/",
          "height": 532
        },
        "id": "Tj4RSgZ4vOM2",
        "outputId": "8fb0c6ff-5a58-41d9-aeb0-bb57b1c96710"
      },
      "execution_count": null,
      "outputs": [
        {
          "output_type": "stream",
          "name": "stdout",
          "text": [
            "[[0 0 4 4 0 0]\n",
            " [0 0 4 4 0 0]\n",
            " [0 0 4 4 0 0]\n",
            " [0 0 4 4 0 0]\n",
            " [0 0 4 4 0 0]\n",
            " [0 0 4 4 0 0]]\n"
          ]
        },
        {
          "output_type": "display_data",
          "data": {
            "text/plain": [
              "<Figure size 640x480 with 1 Axes>"
            ],
            "image/png": "[encoded data removed]"
          },
          "metadata": {}
        }
      ]
    },
    {
      "cell_type": "markdown",
      "source": [
        "Using the horizontal Sobel filter, we were able to detect a vertical edge!\n",
        "\n",
        "Perhaps we can feed these representations of edges into a neural network, rather than the image itself, providing the network with refined data to work with.\n",
        "\n",
        "[[2]](#2), [[3]](#3), [[5]](#5), [[6]](#6)"
      ],
      "metadata": {
        "id": "KGREzKvHXtxu"
      }
    },
    {
      "cell_type": "markdown",
      "source": [
        "## Terminology Clarification\n",
        "What we have seen as the application of a filter onto an image is known as cross-correlation. As we will see soon, this cross-correlation operation is part of the essence of CNNs.\n",
        "\n",
        "Similarly, there exists the convolution operation. The difference between the two is slight: in a convolution the filter (kernel) is flipped over both axes before being applied to the image. Mathematically, convolutions have nicer properties. Computationally, the flipping of the filter is unnecessary.\n",
        "\n",
        "Thus, the name of convolutional neural networks is a slight misnomer. However, the operation is referred to as a convolution by convention. Moving forwards, we will also follow this convention.\n",
        "\n",
        "(Hence, we used `scipy.ndimage.correlate` instead of `scipy.ndimage.convolve` above)\n",
        "\n",
        "[[7]](#7)"
      ],
      "metadata": {
        "id": "cR3u9GLiWlZS"
      }
    },
    {
      "cell_type": "markdown",
      "source": [
        "## Application to Neural Networks\n",
        "Using the Sobel operators, we can identify edges in the horizontal and vertical directions. However, how do we know if these edges extract the best representation of the image, rather than edges in some other direction?\n",
        "\n",
        "We could hand-craft and test different filters. Or, we can use neural networks to learn the best filters, making the weights of filters parameters that the network can learn.\n",
        "\n",
        "$$\n",
        "\\begin{bmatrix}\n",
        "w_1&w_2&w_3\\\\\n",
        "w_4&w_5&w_6\\\\\n",
        "w_7&w_8&w_9\n",
        "\\end{bmatrix}\n",
        "$$"
      ],
      "metadata": {
        "id": "kvPV5JreZrXh"
      }
    },
    {
      "cell_type": "markdown",
      "source": [
        "# Convolutions in Neural Networks\n",
        "Convolutions in neural networks are applied using convolution (conv) layers. A conv layer accepts a volume (image) of size $W_\\text{in}\\times H_\\text{in}\\times C_\\text{in}$ and produces a volume of size $W_\\text{out}\\times H_\\text{out}\\times C_\\text{out}$, where\n",
        "$$\n",
        "W_\\text{out}=\\lfloor\\frac{W_\\text{in}+2p-F}{S}\\rfloor+1\\\\\n",
        "H_\\text{out}=\\lfloor\\frac{H_\\text{in}+2p-F}{S}\\rfloor+1\\\\\n",
        "C_\\text{out}=K\n",
        "$$\n",
        "and $\\lfloor x\\rfloor$ is the floor function.\n",
        "\n",
        "If the filter is not contained within the image for some stride, the next step is taken without applying the filter. Others (e.g. [[3]](#3)) may consider a decimal quotient (without the floor) in width or height to be invalid for that reason.\n",
        "\n",
        "A visualization of the application of a conv layer is given in [[3]](#3). A snapshot of the visualization is given below.\n",
        "<div>\n",
        "<img src=\"https://g-2aaf39.eeb47.a567.data.globus.org/stanford%20conv%20vis.png\" width=\"700\"/>\n",
        "</div>\n",
        "\n",
        "[[2]](#2), [[3]](#3)"
      ],
      "metadata": {
        "id": "2KFMTXlab4ht"
      }
    },
    {
      "cell_type": "markdown",
      "source": [
        "## Hyperparameters\n",
        "A conv layer has four hyperparameters:\n",
        "- $K$, the number of filters\n",
        "- $F$, the spatial extent\n",
        "- $S$, the stride\n",
        "- $P$, the amount of padding\n"
      ],
      "metadata": {
        "id": "Tlip9X1xiyp1"
      }
    },
    {
      "cell_type": "markdown",
      "source": [
        "### Number of Filters\n",
        "Each filter has $C_\\text{in}$ channels which convolves each of the $C_\\text{in}$ input channels and takes their sum with a bias parameter to produce one output channel.\n",
        "\n",
        "The input has $K$ filters applied to it, producing $K$ output channels.\n"
      ],
      "metadata": {
        "id": "68aifhTgi1Pl"
      }
    },
    {
      "cell_type": "markdown",
      "source": [
        "### Spatial Extent\n",
        "The spatial extent of a filter refers to its size.\n"
      ],
      "metadata": {
        "id": "YUy2zBy4l2Ve"
      }
    },
    {
      "cell_type": "markdown",
      "source": [
        "### Stride\n",
        "Stride refers to the number of elements the filter moves.\n",
        "<div>\n",
        "<img src=\"https://miro.medium.com/v2/resize:fit:1000/format:webp/1*34_365CJB5seboQDUrbI5A.gif\" width=\"500\"/>\n",
        "</div>\n",
        "\n"
      ],
      "metadata": {
        "id": "mISEvLNKl786"
      }
    },
    {
      "cell_type": "markdown",
      "source": [
        "### Padding\n",
        "Padding refers to the additional space added around the image to be convolved. This additional space is typically filled in with zeros, though there are other strategies.\n",
        "<div>\n",
        "<img src=\"https://miro.medium.com/v2/resize:fit:1000/format:webp/1*gXAcHnbTxmPb8KjSryki-g.gif\" width=\"500\"/>\n",
        "</div>"
      ],
      "metadata": {
        "id": "mOoPBhqel9j3"
      }
    },
    {
      "cell_type": "markdown",
      "source": [
        "[[1]](#1), [[3]](#3)"
      ],
      "metadata": {
        "id": "1Lfo43lMl_8b"
      }
    },
    {
      "cell_type": "markdown",
      "source": [
        "## Number of Parameters of Conv Layer\n",
        "Each filter has $F^2\\cdot C_\\text{in}$ weights. For $K$ filters, there are $K\\cdot F^2\\cdot C_\\text{in}$ weights.\n",
        "\n",
        "There is also one bias for each filter, resulting in $K$ biases.\n",
        "\n",
        "In total, one conv layer has $K\\cdot F^2\\cdot C_\\text{in}+K$ parameters."
      ],
      "metadata": {
        "id": "NW5pfzv6nFNB"
      }
    },
    {
      "cell_type": "markdown",
      "source": [
        "### Contrast with Parameters of Fully-Connected Layer\n",
        "Consider feeding images of size $n\\times n$ with $C_\\text{in}$ channels into a traditional neural network. A single fully-connected neuron in the first layer of the network would require $C_\\text{in}\\cdot n^2$ weight parameters. Thus, the space required for the weights will increase rapidly as $n$ increases, and this is just for one hidden neuron. For example, for $n=256,c=3$, $3*256^2=196,608$ weights are required for each hidden neuron.\n",
        "\n",
        "Contrast this with the $K\\cdot F^2\\cdot C_\\text{in}$ weights required for a conv layer. By inspection, one can see that there are far fewer parameters than that of a fully-connected layer.\n",
        "\n",
        "The large number of parameters of a fully-connected layer may be wasteful and could lead to overfitting."
      ],
      "metadata": {
        "id": "7PebpmmG5F21"
      }
    },
    {
      "cell_type": "markdown",
      "source": [
        "[[2]](#2)"
      ],
      "metadata": {
        "id": "K5JzGPoj8bVH"
      }
    },
    {
      "cell_type": "markdown",
      "source": [
        "## Local Connectivity\n",
        "The comparatively sparse connections of conv layers are because each neuron is connected only to a local region of the input volume, rather than all of the input volume.\n",
        "\n",
        "The spatial extent of this connectivity is called the **receptive field** of the neuron.\n",
        "\n",
        "The receptive field of a neuron in the layer immediately preceding it is simply the filter size. However, the receptive field of a neuron increases with the number of layers that precede it.\n",
        "\n",
        "<div>\n",
        "<img src=\"https://miro.medium.com/v2/resize:fit:1200/1*k97NVvlMkRXau-uItlq5Gw.png\" width=\"500\"/>\n",
        "</div>\n",
        "For a filter with $F=3$, the receptive field of a neuron is $3\\times3$ in the layer before it and $5\\times5$ in the layer before that one.\n",
        "\n",
        "[[2]](#2), [[3]](#3)\n",
        "\n"
      ],
      "metadata": {
        "id": "uCeUf6pk49Xe"
      }
    },
    {
      "cell_type": "markdown",
      "source": [
        "## Parameter Sharing\n",
        "As our CNN learns, the filters of each conv layer can be imagined as \"feature detectors\" that can extract the same feature (e.g. a vertical edge) from any part of the image. Thus, the parameters of a filter are used across the entire input rather than just a part of it.\n",
        "\n",
        "[[2]](#2), [[3]](#3)"
      ],
      "metadata": {
        "id": "GU8uhiEF8g5b"
      }
    },
    {
      "cell_type": "markdown",
      "source": [
        "## Vectorization of Convolution Layer\n",
        "We've seen how to manually convolve an image using a conv layer made up of filters made up of channels. This operation was similar to a dot product between the filters and the local regions of the input. A common implementation of conv layers take advantage of this fact to formulate the forward pass of a conv layer to a single matrix multiplication:\n",
        "1. A matrix representation of the input is formed. Each local region, of size $F\\times F\\times C_\\text{in}$, is flattened into a column vector of size $F^2C_\\text{in}$, resulting in $W_\\text{out}H_\\text{out}$ column vectors. These column vectors are arranged into a matrix, $X_\\text{col}$, of size $F^2C_\\text{in}\\times W_\\text{out}H_\\text{out}$. This operation is commonly called **im2col**.\n",
        "2. A matrix representation of the filters composing the conv layer is formed. Each filter, of size $F\\times F\\times C_\\text{in}$, is flattened into a row vector of size $F^2C_\\text{in}$, resulting in $K$ row vectors for $K$ filters. These rows are arranged into a matrix, $W_\\text{row}$, of size $K\\times F^2C_\\text{in}$.\n",
        "3. $W_\\text{row} X_\\text{col}$, gives our result of size $K\\times W_\\text{out}H_\\text{out}$.\n",
        "4. This result must be reshaped back to $W_\\text{out}\\times H_\\text{out}\\times K$.\n",
        "\n",
        "Since receptive fields may overlap, values of the input may be repeated in the matrix representation of the input. Manual implementation may use a lot of memory but many efficient implementations exist.\n",
        "\n",
        "[[3]](#3)"
      ],
      "metadata": {
        "id": "upJWZzup95Xo"
      }
    },
    {
      "cell_type": "markdown",
      "source": [
        "## Backpropagation\n",
        "Backpropagation of gradients in a conv layer is also a convolution, with spatially-flipped filters.\n",
        "\n",
        "[[2]](#2), [[3]](#3)"
      ],
      "metadata": {
        "id": "cQFEYQHQM1XN"
      }
    },
    {
      "cell_type": "markdown",
      "source": [
        "# Pooling\n",
        "Pooling layers are used to efficiently downsample images while retaining important information.\n",
        "\n",
        "Pooling layers:\n",
        "- Accept a volume of $W_\\text{in}\\times H_\\text{in}\\times C_\\text{in}$\n",
        "- Require two hyperparameters:\n",
        "  - $F$, the spatial extent\n",
        "  - $S$, the stride\n",
        "- Outputs a volume of $W_\\text{out}\\times H_\\text{out}\\times C_\\text{out}$, where\n",
        "$$\n",
        "W_\\text{out}=\\lfloor\\frac{W_\\text{in}-F}{S}\\rfloor+1\\\\\n",
        "H_\\text{out}=\\lfloor\\frac{H_\\text{in}-F}{S}\\rfloor+1\\\\\n",
        "C_\\text{out}=C_\\text{in}\n",
        "$$\n",
        "and $\\lfloor x\\rfloor$ is the floor function\n",
        "- Have no parameters\n",
        "\n",
        "There are multiple pooling strategies.\n",
        "\n",
        "\n",
        "[[3]](#3)\n",
        "\n"
      ],
      "metadata": {
        "id": "-5H9qPqYeuRP"
      }
    },
    {
      "cell_type": "markdown",
      "source": [
        "## Min/Max Pooling\n",
        "Min/max pooling takes the min/max value in the spatial extent.\n",
        "\n",
        "<div>\n",
        "<img src=\"https://production-media.paperswithcode.com/methods/MaxpoolSample2.png\" width=\"500\"/>\n",
        "</div>\n",
        "An example of max pooling with $F=2,S=2$"
      ],
      "metadata": {
        "id": "6SWXqAqJpWvA"
      }
    },
    {
      "cell_type": "markdown",
      "source": [
        "## Average Pooling\n",
        "Average pooling takes the average of all values in the spatial extent.\n",
        "\n",
        "<div>\n",
        "<img src=\"https://media.geeksforgeeks.org/wp-content/uploads/20190721030705/Screenshot-2019-07-21-at-3.05.56-AM.png\" width=\"500\"/>\n",
        "</div>\n",
        "An example of average pooling with $F=2,S=2$"
      ],
      "metadata": {
        "id": "-KVuiHRctu6a"
      }
    },
    {
      "cell_type": "markdown",
      "source": [
        "## L2-norm Pooling\n",
        "L2-norm pooling takes the L2-norm of the values in the spatial extent."
      ],
      "metadata": {
        "id": "Sol_2RZL37AA"
      }
    },
    {
      "cell_type": "markdown",
      "source": [
        "## Getting Rid of Pooling\n",
        "There is much discussion regarding the importance of pooling. [Striving for Simplicity: The All Convolutional Net](https://arxiv.org/abs/1412.6806) proposes to discard pooling layers in favor of conv layers with larger strides.\n",
        "\n",
        "[[3]](#3)"
      ],
      "metadata": {
        "id": "OLVaaqXh3_jQ"
      }
    },
    {
      "cell_type": "markdown",
      "source": [
        "# Architectures\n",
        "[[3]](#3)"
      ],
      "metadata": {
        "id": "xDySDJ5CYaBJ"
      }
    },
    {
      "cell_type": "markdown",
      "source": [
        "## Layer Patterns\n",
        "The most common form of a CNN repeats a stack of a few CONV->RELU layers followed by a POOL layer, producing a reduced dimension image. This reduced dimension image is then flattened and fed to some number of fully-connected layers. In other words, CNNs often follow this pattern:\n",
        "\n",
        "`INPUT -> [[CONV -> RELU]*N -> POOL?]*M -> [FC -> RELU]*K -> FC`\n",
        "\n",
        "$N,M,K\\geq0$ and generally $N\\leq3,K<3$.\n"
      ],
      "metadata": {
        "id": "mZsIZrmyZ94u"
      }
    },
    {
      "cell_type": "markdown",
      "source": [
        "## Layer Sizing Patterns\n",
        "Throughout the convolutional part of the network, generally, the width and height of the image is reduced (e.g. halved) while the depth is increased (e.g. doubled).\n",
        "\n",
        "Thus, the following patterns should be followed:\n",
        "- The input width and height should be divisible by 2 many times.\n",
        "- The conv layers should be using small filters (e.g. $K=3,5$), a stride of $1$, and selecting a padding size such that the conv layer is a **same convolution**, meaning that the width and height do not change from the input to the output.\n",
        "  - For example, for $F=3,S=1$, $P=1$ will maintain a same convolution because $D_\\text{out}=\\lfloor\\frac{D_\\text{in}+2(1)-3}{1}\\rfloor+1=D_\\text{in}$ for some dimension $D$.\n",
        "- Pool layers are responsible for downsampling the width and height of the input. Commonly, max-pooling is used with $F=2,S=2$. This discards $75\\%$ of the input activations.\n",
        "\n"
      ],
      "metadata": {
        "id": "nYYCgG0faAZ6"
      }
    },
    {
      "cell_type": "markdown",
      "source": [
        "## Case Study\n",
        "The above patterns emerged from empirical success.\n",
        "\n",
        "Let's follow the development of CNNs and observe some new techniques through a number of well-known architectures.\n",
        "\n",
        "Below shows the best Top-5 error of models submitted to ImageNet ILSVRC from 2010 to 2017.\n",
        "\n",
        "<div>\n",
        "<img src=\"https://viso.ai/wp-content/uploads/2024/04/accuracy.png\" width=\"800\"/>\n",
        "</div>\n",
        "\n",
        "[[2]](#2), [[3]](#3)"
      ],
      "metadata": {
        "id": "9c5-wcY8cTfw"
      }
    },
    {
      "cell_type": "markdown",
      "source": [
        "### LeNet\n",
        "Presented by Yann LeCun in 1998, [LeNet](https://yann.lecun.com/exdb/publis/pdf/lecun-98.pdf) was one of the first successful applications of CNNs, used to read zip codes, digits, etc.\n",
        "\n",
        "<div>\n",
        "<img src=\"http://d2l.ai/_images/lenet.svg\" width=\"1000\"/>\n",
        "</div>\n",
        "\n",
        "1. A convolution of $F=5,S=1,P=0,K=6$ is applied to an input of $32\\times32\\times1$.\n",
        "2. Average pooling of $F=2,S=2$ is taken and a sigmoid activation is applied.\n",
        "3. A convolution of $F=5,S=1,P=0,K=16$ is applied.\n",
        "4. Average pooling of $F=2,S=2$ is taken and a sigmoid activation is applied.\n",
        "5. The result is flattened, then fed to a dense layer of $120$ neurons.\n",
        "6. After another dense layer, an output of $10$ neurons indicate which digit is being observed.\n",
        "\n",
        "We can compute the number of parameters with:\n",
        "$$\n",
        "\\underbrace{5\\cdot5\\cdot1\\cdot6+6}_{\\text{conv1}}+\n",
        "\\underbrace{5\\cdot5\\cdot6\\cdot16+16}_{\\text{conv2}}+\n",
        "\\underbrace{120\\cdot400+120}_{\\text{fc1}}+\n",
        "\\underbrace{84\\cdot120+84}_{\\text{fc2}}+\n",
        "\\underbrace{10\\cdot84+10}_{\\text{fc3}}=61706\n",
        "$$"
      ],
      "metadata": {
        "id": "s7dpPG3gdPRU"
      }
    },
    {
      "cell_type": "markdown",
      "source": [
        "### AlexNet\n",
        "Developed by Alex Krizhevsky, et al., [AlexNet](http://papers.nips.cc/paper/4824-imagenet-classification-with-deep-convolutional-neural-networks) was the first work that popularized CNNs in computer vision. It was submitted to the ImageNet ILSVRC challenge in 2012 and won, significantly outperforming the runner-up. AlexNet was similar to LeNet, but was deeper, wider, and featured multiple conv layers before a pool.\n",
        "\n",
        "AlexNet (right) and LeNet (left) are compared below:\n",
        "<div>\n",
        "<img src=\"http://d2l.ai/_images/alexnet.svg\" width=\"400\"/>\n",
        "</div>\n",
        "\n",
        "Skipping the computation, AlexNet has ~60 million parameters."
      ],
      "metadata": {
        "id": "L8nbZ62MhJF0"
      }
    },
    {
      "cell_type": "markdown",
      "source": [
        "### ZFNet\n",
        "Developed by Zeiler and Fergus, [ZFNet](http://arxiv.org/abs/1311.2901) won ILSRVC 2013. It developed on AlexNet by expanding the size of the middle convolutional layers and making the stride and filter size on the first layer smaller.\n",
        "\n"
      ],
      "metadata": {
        "id": "6JFrrnbCkJjh"
      }
    },
    {
      "cell_type": "markdown",
      "source": [
        "### VGGNet\n",
        "Developed by Simonyan and Zisserman, [VGGNet](http://www.robots.ox.ac.uk/~vgg/research/very_deep/) demonstrated that the depth of a CNN should be prioritized over filter size. Rather than using a single $7\\times7$ filter, one could use $3$ $3\\times3$ filters, resulting in an equivalent receptive field with fewer parameters ($49C^2>27C^2$). Thus, their network is composed of blocks of $3\\times3$ convolutions followed by a max pool.\n",
        "\n",
        "VGG16 won runner-up in ILSVRC 2014.\n",
        "\n",
        "Here is VGG16 and VGG19 compared with AlexNet.\n",
        "<div>\n",
        "<img src=\"https://miro.medium.com/v2/resize:fit:4800/format:webp/1*ZKtkYKJTT76-y_GtbFDhbg.jpeg\" width=\"500\"/>\n",
        "</div>\n",
        "\n",
        "VGG16 has ~138 million parameters."
      ],
      "metadata": {
        "id": "ubnW77bAk-Sv"
      }
    },
    {
      "cell_type": "markdown",
      "source": [
        "### GoogLeNet\n",
        "From Szegedy et al., [GoogLeNet](http://arxiv.org/abs/1409.4842) developed and implemented the *Inception Module* and used Average Pooling instead of FC layers, significantly reducing the number of parameters.\n",
        "\n",
        "GoogLeNet won ILSVRC 2014.\n",
        "\n",
        "Its large architecture (22 layers) is shown in the paper. Despite it, GoogLeNet has just ~5 million parameters.\n"
      ],
      "metadata": {
        "id": "lRxpTlWUnc08"
      }
    },
    {
      "cell_type": "markdown",
      "source": [
        "#### Inception Module\n",
        "As seen in previous architectures, it is a good strategy to stack some \"module\" multiple times to compose a deep CNN. Instead of designing these modules ourselves, we can have our network learn them.\n",
        "\n",
        "To do so, we can apply different same convolutions to an input, and concatenate the outputs along the channel dimension.\n",
        "\n",
        "Examples of an Inception module are shown below.\n",
        "<div>\n",
        "<img src=\"https://production-media.paperswithcode.com/methods/Screen_Shot_2020-06-22_at_3.22.39_PM.png\" width=\"800\"/>\n",
        "</div>\n",
        "\n",
        "For example, suppose the following for the naive Inception module above:\n",
        "1. Input is of size $28\\times28\\times128$.\n",
        "2. There are $56$ $1\\times1$ filters.\n",
        "3. There are $100$ $3\\times3$ filters.\n",
        "4. There are $100$ $5\\times5$ filters.\n",
        "5. The max-pool layer produces $128$ channels.\n",
        "\n",
        "Then, concatenating the channels, the output is of size $28\\times28\\times384$. Computational complexity will be a problem. The Inception module with dimension reduction, above, mitigates this problem.\n",
        "\n"
      ],
      "metadata": {
        "id": "E11zDbSApxqp"
      }
    },
    {
      "cell_type": "markdown",
      "source": [
        "### ResNet\n",
        "Developed by Kaiming He et al., [ResNet](http://arxiv.org/abs/1512.03385) developed and implemented residual connections and bottleneck layers, heavily utilized batchnorm, and has no FC layers at the end. It won ILSVRC 2015.\n",
        "\n",
        "Previously, the depth of a CNN had a limit, as at some point performance degraded. ResNet tackled this issue and was able to exhibit increasing performance with increasing depth, up to 152 layers.\n",
        "\n",
        "ResNet's architecture (34 layers) is illustrated in the paper."
      ],
      "metadata": {
        "id": "Rdr8d_rnsMF1"
      }
    },
    {
      "cell_type": "markdown",
      "source": [
        "#### Batchnorm in CNNs\n",
        "Batchnorm allowed researchers to train ever-deeper networks. However, very-deep networks were strangely outperformed by less-deep networks.\n",
        "\n",
        "<div>\n",
        "<img src=\"https://davidham3.github.io/blog/2018/03/04/deep-residual-learning-for-image-recognition/Fig1.PNG\" width=\"500\"/>\n",
        "</div>\n",
        "\n",
        "Reasonably, a deep network should always outperform a less-deep network because the deep network could be initialized with the less-deep network and the remaining layers could act as an identify function."
      ],
      "metadata": {
        "id": "9SQ4lDcstP_u"
      }
    },
    {
      "cell_type": "markdown",
      "source": [
        "#### Residual Connections\n",
        "To assist the network in learning an identity function, we can make the output equal the input when the conv layers are zeroed.\n",
        "\n",
        "Such a residual (skip) connection is shown below.\n",
        "<div>\n",
        "<img src=\"https://davidham3.github.io/blog/2018/03/04/deep-residual-learning-for-image-recognition/Fig2.PNG\" width=\"400\"/>\n",
        "</div>\n",
        "\n",
        "$F(x)$ is the output of the input after the first convolution, relu, and second convolution, but before the final activation."
      ],
      "metadata": {
        "id": "Ix25-wQktNVS"
      }
    },
    {
      "cell_type": "markdown",
      "source": [
        "#### Bottleneck Layer\n",
        "The residual block on the left is modified to use a stack of 3 layers instead of 2. The $1\\times1$ layers first reduce, then increase (restore) the channels. The $3\\times3$ layer operates on the between, reduced dimension input.\n",
        "\n",
        "<div>\n",
        "<img src=\"https://i.sstatic.net/kbiIG.png\" width=\"700\"/>\n",
        "</div>\n",
        "\n",
        "The block on the left requires $18HWC^2$ FLOPs while the block on the right requires $17HWC^2$. Thus, we can increase depth without increasing computational complexity."
      ],
      "metadata": {
        "id": "g6kV9Tzyv8bW"
      }
    },
    {
      "cell_type": "markdown",
      "source": [
        "## Summary\n",
        "In general, ResNet is a popular choice for spatial performance due to its simplicity and performance. It is relatively straightforwards to apply ResNet to your own problem using [transfer learning](https://colab.research.google.com/drive/17Zz7WzqAadtAIHTSTkRMRf_xSgwBaTlr?usp=sharing).\n",
        "\n",
        "There are many popular models that have been developed after 2015. They will not be covered here.\n",
        "\n",
        "ResNet variants:\n",
        "- [ResNeXt](https://arxiv.org/abs/1611.05431) (2016)\n",
        "- [DenseNet](https://arxiv.org/abs/1608.06993) (2016)\n",
        "- [WideResNet](https://arxiv.org/abs/1605.07146) (2016)\n",
        "\n",
        "Effiency-focused models:\n",
        "- [MobileNet](https://arxiv.org/abs/1704.04861) (2017)\n",
        "- [ShuffleNet](https://arxiv.org/abs/1707.01083) (2017)\n",
        "- [EfficientNet](https://arxiv.org/abs/1905.11946) (2019)\n",
        "\n",
        "[[3]](#3)"
      ],
      "metadata": {
        "id": "H9aGlMory9jY"
      }
    },
    {
      "cell_type": "markdown",
      "source": [
        "# References\n",
        "1. T. Lee, V. P. Singh, K. H. Cho. 2021. Deep Learning for Hydrometeorology and Environmental Science. Available: https://content.e-bookshelf.de/media/reading/L-15184113-784f071c38.pdf\n",
        "2. H. Venkateswara. Introduction to Deep Learning. 2024.\n",
        "3. A. Karpathy, et. al. CS231n: Convolutional Networks. 2021. Available: https://cs231n.github.io/convolutional-networks/\n",
        "4. A. Devineni. How Hubel and Wiesel Revolutionized Neuroscience and Made Me a Neuroscientist. 2015. Available: https://www.brains-explained.com/how-hubel-and-wiesel-revolutionized-neuroscience/\n",
        "5. D. Marshall. Gradient based methods. 1997. Available: https://homepages.inf.ed.ac.uk/rbf/CVonline/LOCAL_COPIES/MARSHALL/node28.html\n",
        "6. I. Sobel. History and Definition of the Sobel Operator. 2014. Available: https://www.researchgate.net/publication/239398674_An_Isotropic_3x3_Image_Gradient_Operator\n",
        "7. A. Rosebrock. Convolution and cross-correlation in neural networks. 2021. Available: https://pyimagesearch.com/2021/05/14/convolution-and-cross-correlation-in-neural-networks/"
      ],
      "metadata": {
        "id": "h-oxzt2cVc3J"
      }
    }
  ]
}