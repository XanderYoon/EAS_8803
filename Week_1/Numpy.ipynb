{
  "nbformat": 4,
  "nbformat_minor": 0,
  "metadata": {
    "colab": {
      "provenance": [],
      "toc_visible": true
    },
    "kernelspec": {
      "name": "python3",
      "display_name": "Python 3"
    },
    "language_info": {
      "name": "python"
    }
  },
  "cells": [
    {
      "cell_type": "markdown",
      "source": [
        "# Introduction\n",
        "NumPy is a powerful Python package for scientific computing. It helps handle large multidimensional arrays and matrices, along with a large library of functions to operate on these arrays.\n",
        "\n",
        "Python comes with the `List` data structure, which can be used for array operations. However, NumPy arrays are heavily optimized for computing and has useful functions for computing that Python does not include."
      ],
      "metadata": {
        "id": "fLvCy9Meg6Zu"
      }
    },
    {
      "cell_type": "code",
      "source": [
        "import numpy as np"
      ],
      "metadata": {
        "id": "97q_Q3fgmrxJ"
      },
      "execution_count": null,
      "outputs": []
    },
    {
      "cell_type": "markdown",
      "source": [
        "# Terminology refresh\n"
      ],
      "metadata": {
        "id": "7u3qjqjOr0FP"
      }
    },
    {
      "cell_type": "markdown",
      "source": [
        "\n",
        "## Definitions\n",
        "- Vector: An element of a vector space. The dimension of a vector conventionally refers to the subspace of which it is a part of, that is $n$ for $\\vec{v}\\in\\mathbb{R}^n$, for a real vector.\n",
        "  - However, it is not entirely wrong to say that vectors are one-dimensional, in the sense that a vector can be represented in a single row or column (i.e. the definition of dimension for a matrix).\n",
        "  - Example: $\\vec{v}=\\begin{bmatrix}1\\\\2\\\\3\\end{bmatrix}$. The vector exists in 3-space.\n",
        "- Matrix: An $m$ by $n$ matrix is a function of two variables, the first of which has domain $\\{1,\\ldots,m\\}$ and the second of which has domain $\\{1,\\ldots,n\\}$.\n",
        "  - Matrices are two-dimensional by definition.\n",
        "  - Example: $A=\\begin{bmatrix}1&2\\\\3&4\\end{bmatrix}$. The size of the matrix is $2\\times2$.\n",
        "- Array: A linear data structure of a fixed number of sequentially arranged elements of uniform type.\n",
        "- List: A linear data structure of sequentially arranged elements. Lists are essentially arrays that can have elements of different types and elements can be added/removed."
      ],
      "metadata": {
        "id": "Wojv8EHfgJD1"
      }
    },
    {
      "cell_type": "markdown",
      "source": [
        "## Notes\n",
        "- A column vector can be thought of as a matrix of size $m\\times1$ and a row vector can be thought of as a matrix of size $1\\times n$.\n",
        "- Arrays and lists are computer representations of structures of elements. \"Array\" and \"list\", as defined above, are more conventional terms used in computer science terms than terms with strict mathematical definitions.\n",
        "- Arrays and lists can represent structures with higher dimensions than that of a matrix. (Very) Roughly speaking, vectors are a subset of matrices, which are a subset of arrays/lists.\n",
        "- The mathematical equivalent to \"array\" may be \"tensor\", in that it is a matrix with more dimensions."
      ],
      "metadata": {
        "id": "OZPcq60bgLkq"
      }
    },
    {
      "cell_type": "markdown",
      "source": [
        "## Convention\n",
        "Moving forward, we will refer to 2D objects as either arrays or matrices. Objects of higher dimensions will be referred to as arrays."
      ],
      "metadata": {
        "id": "W84Mo5MFgMyn"
      }
    },
    {
      "cell_type": "markdown",
      "source": [
        "# Array Creation"
      ],
      "metadata": {
        "id": "ZCOCLo4LnTS4"
      }
    },
    {
      "cell_type": "markdown",
      "source": [
        "## Vector\n",
        "Given the row vector $\\vec{v}=\\begin{bmatrix}1&2&3&4\\end{bmatrix}$, store it in a variable.\n",
        "\n",
        "An example using Python lists are only provided for reference. In practice, use `ndarray`."
      ],
      "metadata": {
        "id": "3sjHP7aynFiV"
      }
    },
    {
      "cell_type": "code",
      "execution_count": null,
      "metadata": {
        "id": "8JektYj7VkK8"
      },
      "outputs": [],
      "source": [
        "# as Python list\n",
        "v_list = [1, 2, 3, 4]\n",
        "\n",
        "# as numpy ndarray\n",
        "## use np.array array creation routine, which takes an array_like\n",
        "## (in this case, a Python list) and converts it to an `ndarray`.\n",
        "v_arr = np.array([1, 2, 3, 4])"
      ]
    },
    {
      "cell_type": "code",
      "source": [
        "print(v_list, type(v_list))\n",
        "print()\n",
        "print(v_arr, type(v_arr))"
      ],
      "metadata": {
        "colab": {
          "base_uri": "https://localhost:8080/"
        },
        "id": "KPM3YJKrFuKG",
        "outputId": "10957144-63be-4121-9b1a-8d371fa7ce20"
      },
      "execution_count": null,
      "outputs": [
        {
          "output_type": "stream",
          "name": "stdout",
          "text": [
            "[1, 2, 3, 4] <class 'list'>\n",
            "\n",
            "[1 2 3 4] <class 'numpy.ndarray'>\n"
          ]
        }
      ]
    },
    {
      "cell_type": "markdown",
      "source": [
        "## Matrix\n",
        "Given the matrix $A=\\begin{bmatrix}1&2\\\\3&4\\end{bmatrix}$, store it in a variable.\n",
        "\n",
        "Note that `np.matrix` is strictly two-dimensional while `np.ndarray` is N-dimensional. Matrix objects are a subclass of `ndarray`.\n",
        "\n",
        "An example using Python lists are only provided for reference. In practice, use `ndarray`."
      ],
      "metadata": {
        "id": "vZSnkINcxOZS"
      }
    },
    {
      "cell_type": "code",
      "source": [
        "# as Python list\n",
        "A_list = [[1, 2],\n",
        "          [3, 4]]\n",
        "\n",
        "# as numpy ndarray\n",
        "A_arr = np.array([[1, 2],\n",
        "              [3, 4]])\n",
        "# or\n",
        "A_mat = np.mat(\"1, 2; 3, 4\")"
      ],
      "metadata": {
        "id": "UyXpSDy0B06D"
      },
      "execution_count": null,
      "outputs": []
    },
    {
      "cell_type": "code",
      "source": [
        "print(A_list, type(A_list))\n",
        "print()\n",
        "print(A_arr, type(A_arr))\n",
        "print()\n",
        "print(A_mat, type(A_mat))"
      ],
      "metadata": {
        "colab": {
          "base_uri": "https://localhost:8080/"
        },
        "id": "FWGEfG4gF9U_",
        "outputId": "5abcdfd4-661c-4b3f-e652-e8e9654b091c"
      },
      "execution_count": null,
      "outputs": [
        {
          "output_type": "stream",
          "name": "stdout",
          "text": [
            "[[1, 2], [3, 4]] <class 'list'>\n",
            "\n",
            "[[1 2]\n",
            " [3 4]] <class 'numpy.ndarray'>\n",
            "\n",
            "[[1 2]\n",
            " [3 4]] <class 'numpy.matrix'>\n"
          ]
        }
      ]
    },
    {
      "cell_type": "markdown",
      "source": [
        "## Zeros and Ones\n",
        "Create an array, $A$, with shape $3\\times4$ of all zeros and an array, $B$, with shape $3\\times4$ of all ones."
      ],
      "metadata": {
        "id": "kKr-fZ3TncLv"
      }
    },
    {
      "cell_type": "code",
      "source": [
        "A = np.zeros([3, 4])\n",
        "B = np.ones([3, 4])"
      ],
      "metadata": {
        "id": "gZgA5kM6nqI7"
      },
      "execution_count": null,
      "outputs": []
    },
    {
      "cell_type": "code",
      "source": [
        "print(A)\n",
        "print()\n",
        "print(B)"
      ],
      "metadata": {
        "colab": {
          "base_uri": "https://localhost:8080/"
        },
        "id": "vwnEENLMnsMm",
        "outputId": "d23b5016-c4b1-442d-a88a-dcadff59f754"
      },
      "execution_count": null,
      "outputs": [
        {
          "output_type": "stream",
          "name": "stdout",
          "text": [
            "[[0. 0. 0. 0.]\n",
            " [0. 0. 0. 0.]\n",
            " [0. 0. 0. 0.]]\n",
            "\n",
            "[[1. 1. 1. 1.]\n",
            " [1. 1. 1. 1.]\n",
            " [1. 1. 1. 1.]]\n"
          ]
        }
      ]
    },
    {
      "cell_type": "markdown",
      "source": [
        "## From a `DataFrame`"
      ],
      "metadata": {
        "id": "7wTIe1zbpuCi"
      }
    },
    {
      "cell_type": "code",
      "source": [
        "import pandas as pd\n",
        "\n",
        "my_own_dataset = pd.DataFrame({'Col1': range(5),\n",
        "                               'Col2': 1.0,\n",
        "                               'Col3': 1.0,\n",
        "                               'Col4': range(5, 0, -1)})\n",
        "\n",
        "my_own_dataset"
      ],
      "metadata": {
        "colab": {
          "base_uri": "https://localhost:8080/",
          "height": 204
        },
        "id": "3L_nyujdmnLH",
        "outputId": "f4e1de83-ca37-47be-acac-5ec57a3b42f8"
      },
      "execution_count": null,
      "outputs": [
        {
          "output_type": "execute_result",
          "data": {
            "text/plain": [
              "   Col1  Col2  Col3  Col4\n",
              "0     0   1.0   1.0     5\n",
              "1     1   1.0   1.0     4\n",
              "2     2   1.0   1.0     3\n",
              "3     3   1.0   1.0     2\n",
              "4     4   1.0   1.0     1"
            ],
            "text/html": [
              "\n",
              "  <div id=\"df-5ff04d36-f1d9-4a71-86ef-d680e86a0e2f\" class=\"colab-df-container\">\n",
              "    <div>\n",
              "<style scoped>\n",
              "    .dataframe tbody tr th:only-of-type {\n",
              "        vertical-align: middle;\n",
              "    }\n",
              "\n",
              "    .dataframe tbody tr th {\n",
              "        vertical-align: top;\n",
              "    }\n",
              "\n",
              "    .dataframe thead th {\n",
              "        text-align: right;\n",
              "    }\n",
              "</style>\n",
              "<table border=\"1\" class=\"dataframe\">\n",
              "  <thead>\n",
              "    <tr style=\"text-align: right;\">\n",
              "      <th></th>\n",
              "      <th>Col1</th>\n",
              "      <th>Col2</th>\n",
              "      <th>Col3</th>\n",
              "      <th>Col4</th>\n",
              "    </tr>\n",
              "  </thead>\n",
              "  <tbody>\n",
              "    <tr>\n",
              "      <th>0</th>\n",
              "      <td>0</td>\n",
              "      <td>1.0</td>\n",
              "      <td>1.0</td>\n",
              "      <td>5</td>\n",
              "    </tr>\n",
              "    <tr>\n",
              "      <th>1</th>\n",
              "      <td>1</td>\n",
              "      <td>1.0</td>\n",
              "      <td>1.0</td>\n",
              "      <td>4</td>\n",
              "    </tr>\n",
              "    <tr>\n",
              "      <th>2</th>\n",
              "      <td>2</td>\n",
              "      <td>1.0</td>\n",
              "      <td>1.0</td>\n",
              "      <td>3</td>\n",
              "    </tr>\n",
              "    <tr>\n",
              "      <th>3</th>\n",
              "      <td>3</td>\n",
              "      <td>1.0</td>\n",
              "      <td>1.0</td>\n",
              "      <td>2</td>\n",
              "    </tr>\n",
              "    <tr>\n",
              "      <th>4</th>\n",
              "      <td>4</td>\n",
              "      <td>1.0</td>\n",
              "      <td>1.0</td>\n",
              "      <td>1</td>\n",
              "    </tr>\n",
              "  </tbody>\n",
              "</table>\n",
              "</div>\n",
              "    <div class=\"colab-df-buttons\">\n",
              "\n",
              "  <div class=\"colab-df-container\">\n",
              "    <button class=\"colab-df-convert\" onclick=\"convertToInteractive('df-5ff04d36-f1d9-4a71-86ef-d680e86a0e2f')\"\n",
              "            title=\"Convert this dataframe to an interactive table.\"\n",
              "            style=\"display:none;\">\n",
              "\n",
              "  <svg xmlns=\"http://www.w3.org/2000/svg\" height=\"24px\" viewBox=\"0 -960 960 960\">\n",
              "    <path d=\"M120-120v-720h720v720H120Zm60-500h600v-160H180v160Zm220 220h160v-160H400v160Zm0 220h160v-160H400v160ZM180-400h160v-160H180v160Zm440 0h160v-160H620v160ZM180-180h160v-160H180v160Zm440 0h160v-160H620v160Z\"/>\n",
              "  </svg>\n",
              "    </button>\n",
              "\n",
              "  <style>\n",
              "    .colab-df-container {\n",
              "      display:flex;\n",
              "      gap: 12px;\n",
              "    }\n",
              "\n",
              "    .colab-df-convert {\n",
              "      background-color: #E8F0FE;\n",
              "      border: none;\n",
              "      border-radius: 50%;\n",
              "      cursor: pointer;\n",
              "      display: none;\n",
              "      fill: #1967D2;\n",
              "      height: 32px;\n",
              "      padding: 0 0 0 0;\n",
              "      width: 32px;\n",
              "    }\n",
              "\n",
              "    .colab-df-convert:hover {\n",
              "      background-color: #E2EBFA;\n",
              "      box-shadow: 0px 1px 2px rgba(60, 64, 67, 0.3), 0px 1px 3px 1px rgba(60, 64, 67, 0.15);\n",
              "      fill: #174EA6;\n",
              "    }\n",
              "\n",
              "    .colab-df-buttons div {\n",
              "      margin-bottom: 4px;\n",
              "    }\n",
              "\n",
              "    [theme=dark] .colab-df-convert {\n",
              "      background-color: #3B4455;\n",
              "      fill: #D2E3FC;\n",
              "    }\n",
              "\n",
              "    [theme=dark] .colab-df-convert:hover {\n",
              "      background-color: #434B5C;\n",
              "      box-shadow: 0px 1px 3px 1px rgba(0, 0, 0, 0.15);\n",
              "      filter: drop-shadow(0px 1px 2px rgba(0, 0, 0, 0.3));\n",
              "      fill: #FFFFFF;\n",
              "    }\n",
              "  </style>\n",
              "\n",
              "    <script>\n",
              "      const buttonEl =\n",
              "        document.querySelector('#df-5ff04d36-f1d9-4a71-86ef-d680e86a0e2f button.colab-df-convert');\n",
              "      buttonEl.style.display =\n",
              "        google.colab.kernel.accessAllowed ? 'block' : 'none';\n",
              "\n",
              "      async function convertToInteractive(key) {\n",
              "        const element = document.querySelector('#df-5ff04d36-f1d9-4a71-86ef-d680e86a0e2f');\n",
              "        const dataTable =\n",
              "          await google.colab.kernel.invokeFunction('convertToInteractive',\n",
              "                                                    [key], {});\n",
              "        if (!dataTable) return;\n",
              "\n",
              "        const docLinkHtml = 'Like what you see? Visit the ' +\n",
              "          '<a target=\"_blank\" href=https://colab.research.google.com/notebooks/data_table.ipynb>data table notebook</a>'\n",
              "          + ' to learn more about interactive tables.';\n",
              "        element.innerHTML = '';\n",
              "        dataTable['output_type'] = 'display_data';\n",
              "        await google.colab.output.renderOutput(dataTable, element);\n",
              "        const docLink = document.createElement('div');\n",
              "        docLink.innerHTML = docLinkHtml;\n",
              "        element.appendChild(docLink);\n",
              "      }\n",
              "    </script>\n",
              "  </div>\n",
              "\n",
              "\n",
              "<div id=\"df-b9c3e6c7-91e6-4d25-8b09-3460b6e976a3\">\n",
              "  <button class=\"colab-df-quickchart\" onclick=\"quickchart('df-b9c3e6c7-91e6-4d25-8b09-3460b6e976a3')\"\n",
              "            title=\"Suggest charts\"\n",
              "            style=\"display:none;\">\n",
              "\n",
              "<svg xmlns=\"http://www.w3.org/2000/svg\" height=\"24px\"viewBox=\"0 0 24 24\"\n",
              "     width=\"24px\">\n",
              "    <g>\n",
              "        <path d=\"M19 3H5c-1.1 0-2 .9-2 2v14c0 1.1.9 2 2 2h14c1.1 0 2-.9 2-2V5c0-1.1-.9-2-2-2zM9 17H7v-7h2v7zm4 0h-2V7h2v10zm4 0h-2v-4h2v4z\"/>\n",
              "    </g>\n",
              "</svg>\n",
              "  </button>\n",
              "\n",
              "<style>\n",
              "  .colab-df-quickchart {\n",
              "      --bg-color: #E8F0FE;\n",
              "      --fill-color: #1967D2;\n",
              "      --hover-bg-color: #E2EBFA;\n",
              "      --hover-fill-color: #174EA6;\n",
              "      --disabled-fill-color: #AAA;\n",
              "      --disabled-bg-color: #DDD;\n",
              "  }\n",
              "\n",
              "  [theme=dark] .colab-df-quickchart {\n",
              "      --bg-color: #3B4455;\n",
              "      --fill-color: #D2E3FC;\n",
              "      --hover-bg-color: #434B5C;\n",
              "      --hover-fill-color: #FFFFFF;\n",
              "      --disabled-bg-color: #3B4455;\n",
              "      --disabled-fill-color: #666;\n",
              "  }\n",
              "\n",
              "  .colab-df-quickchart {\n",
              "    background-color: var(--bg-color);\n",
              "    border: none;\n",
              "    border-radius: 50%;\n",
              "    cursor: pointer;\n",
              "    display: none;\n",
              "    fill: var(--fill-color);\n",
              "    height: 32px;\n",
              "    padding: 0;\n",
              "    width: 32px;\n",
              "  }\n",
              "\n",
              "  .colab-df-quickchart:hover {\n",
              "    background-color: var(--hover-bg-color);\n",
              "    box-shadow: 0 1px 2px rgba(60, 64, 67, 0.3), 0 1px 3px 1px rgba(60, 64, 67, 0.15);\n",
              "    fill: var(--button-hover-fill-color);\n",
              "  }\n",
              "\n",
              "  .colab-df-quickchart-complete:disabled,\n",
              "  .colab-df-quickchart-complete:disabled:hover {\n",
              "    background-color: var(--disabled-bg-color);\n",
              "    fill: var(--disabled-fill-color);\n",
              "    box-shadow: none;\n",
              "  }\n",
              "\n",
              "  .colab-df-spinner {\n",
              "    border: 2px solid var(--fill-color);\n",
              "    border-color: transparent;\n",
              "    border-bottom-color: var(--fill-color);\n",
              "    animation:\n",
              "      spin 1s steps(1) infinite;\n",
              "  }\n",
              "\n",
              "  @keyframes spin {\n",
              "    0% {\n",
              "      border-color: transparent;\n",
              "      border-bottom-color: var(--fill-color);\n",
              "      border-left-color: var(--fill-color);\n",
              "    }\n",
              "    20% {\n",
              "      border-color: transparent;\n",
              "      border-left-color: var(--fill-color);\n",
              "      border-top-color: var(--fill-color);\n",
              "    }\n",
              "    30% {\n",
              "      border-color: transparent;\n",
              "      border-left-color: var(--fill-color);\n",
              "      border-top-color: var(--fill-color);\n",
              "      border-right-color: var(--fill-color);\n",
              "    }\n",
              "    40% {\n",
              "      border-color: transparent;\n",
              "      border-right-color: var(--fill-color);\n",
              "      border-top-color: var(--fill-color);\n",
              "    }\n",
              "    60% {\n",
              "      border-color: transparent;\n",
              "      border-right-color: var(--fill-color);\n",
              "    }\n",
              "    80% {\n",
              "      border-color: transparent;\n",
              "      border-right-color: var(--fill-color);\n",
              "      border-bottom-color: var(--fill-color);\n",
              "    }\n",
              "    90% {\n",
              "      border-color: transparent;\n",
              "      border-bottom-color: var(--fill-color);\n",
              "    }\n",
              "  }\n",
              "</style>\n",
              "\n",
              "  <script>\n",
              "    async function quickchart(key) {\n",
              "      const quickchartButtonEl =\n",
              "        document.querySelector('#' + key + ' button');\n",
              "      quickchartButtonEl.disabled = true;  // To prevent multiple clicks.\n",
              "      quickchartButtonEl.classList.add('colab-df-spinner');\n",
              "      try {\n",
              "        const charts = await google.colab.kernel.invokeFunction(\n",
              "            'suggestCharts', [key], {});\n",
              "      } catch (error) {\n",
              "        console.error('Error during call to suggestCharts:', error);\n",
              "      }\n",
              "      quickchartButtonEl.classList.remove('colab-df-spinner');\n",
              "      quickchartButtonEl.classList.add('colab-df-quickchart-complete');\n",
              "    }\n",
              "    (() => {\n",
              "      let quickchartButtonEl =\n",
              "        document.querySelector('#df-b9c3e6c7-91e6-4d25-8b09-3460b6e976a3 button');\n",
              "      quickchartButtonEl.style.display =\n",
              "        google.colab.kernel.accessAllowed ? 'block' : 'none';\n",
              "    })();\n",
              "  </script>\n",
              "</div>\n",
              "\n",
              "  <div id=\"id_a2ebd9a7-4edc-488c-bfda-de81533f6695\">\n",
              "    <style>\n",
              "      .colab-df-generate {\n",
              "        background-color: #E8F0FE;\n",
              "        border: none;\n",
              "        border-radius: 50%;\n",
              "        cursor: pointer;\n",
              "        display: none;\n",
              "        fill: #1967D2;\n",
              "        height: 32px;\n",
              "        padding: 0 0 0 0;\n",
              "        width: 32px;\n",
              "      }\n",
              "\n",
              "      .colab-df-generate:hover {\n",
              "        background-color: #E2EBFA;\n",
              "        box-shadow: 0px 1px 2px rgba(60, 64, 67, 0.3), 0px 1px 3px 1px rgba(60, 64, 67, 0.15);\n",
              "        fill: #174EA6;\n",
              "      }\n",
              "\n",
              "      [theme=dark] .colab-df-generate {\n",
              "        background-color: #3B4455;\n",
              "        fill: #D2E3FC;\n",
              "      }\n",
              "\n",
              "      [theme=dark] .colab-df-generate:hover {\n",
              "        background-color: #434B5C;\n",
              "        box-shadow: 0px 1px 3px 1px rgba(0, 0, 0, 0.15);\n",
              "        filter: drop-shadow(0px 1px 2px rgba(0, 0, 0, 0.3));\n",
              "        fill: #FFFFFF;\n",
              "      }\n",
              "    </style>\n",
              "    <button class=\"colab-df-generate\" onclick=\"generateWithVariable('my_own_dataset')\"\n",
              "            title=\"Generate code using this dataframe.\"\n",
              "            style=\"display:none;\">\n",
              "\n",
              "  <svg xmlns=\"http://www.w3.org/2000/svg\" height=\"24px\"viewBox=\"0 0 24 24\"\n",
              "       width=\"24px\">\n",
              "    <path d=\"M7,19H8.4L18.45,9,17,7.55,7,17.6ZM5,21V16.75L18.45,3.32a2,2,0,0,1,2.83,0l1.4,1.43a1.91,1.91,0,0,1,.58,1.4,1.91,1.91,0,0,1-.58,1.4L9.25,21ZM18.45,9,17,7.55Zm-12,3A5.31,5.31,0,0,0,4.9,8.1,5.31,5.31,0,0,0,1,6.5,5.31,5.31,0,0,0,4.9,4.9,5.31,5.31,0,0,0,6.5,1,5.31,5.31,0,0,0,8.1,4.9,5.31,5.31,0,0,0,12,6.5,5.46,5.46,0,0,0,6.5,12Z\"/>\n",
              "  </svg>\n",
              "    </button>\n",
              "    <script>\n",
              "      (() => {\n",
              "      const buttonEl =\n",
              "        document.querySelector('#id_a2ebd9a7-4edc-488c-bfda-de81533f6695 button.colab-df-generate');\n",
              "      buttonEl.style.display =\n",
              "        google.colab.kernel.accessAllowed ? 'block' : 'none';\n",
              "\n",
              "      buttonEl.onclick = () => {\n",
              "        google.colab.notebook.generateWithVariable('my_own_dataset');\n",
              "      }\n",
              "      })();\n",
              "    </script>\n",
              "  </div>\n",
              "\n",
              "    </div>\n",
              "  </div>\n"
            ],
            "application/vnd.google.colaboratory.intrinsic+json": {
              "type": "dataframe",
              "variable_name": "my_own_dataset",
              "summary": "{\n  \"name\": \"my_own_dataset\",\n  \"rows\": 5,\n  \"fields\": [\n    {\n      \"column\": \"Col1\",\n      \"properties\": {\n        \"dtype\": \"number\",\n        \"std\": 1,\n        \"min\": 0,\n        \"max\": 4,\n        \"num_unique_values\": 5,\n        \"samples\": [\n          1,\n          4,\n          2\n        ],\n        \"semantic_type\": \"\",\n        \"description\": \"\"\n      }\n    },\n    {\n      \"column\": \"Col2\",\n      \"properties\": {\n        \"dtype\": \"number\",\n        \"std\": 0.0,\n        \"min\": 1.0,\n        \"max\": 1.0,\n        \"num_unique_values\": 1,\n        \"samples\": [\n          1.0\n        ],\n        \"semantic_type\": \"\",\n        \"description\": \"\"\n      }\n    },\n    {\n      \"column\": \"Col3\",\n      \"properties\": {\n        \"dtype\": \"number\",\n        \"std\": 0.0,\n        \"min\": 1.0,\n        \"max\": 1.0,\n        \"num_unique_values\": 1,\n        \"samples\": [\n          1.0\n        ],\n        \"semantic_type\": \"\",\n        \"description\": \"\"\n      }\n    },\n    {\n      \"column\": \"Col4\",\n      \"properties\": {\n        \"dtype\": \"number\",\n        \"std\": 1,\n        \"min\": 1,\n        \"max\": 5,\n        \"num_unique_values\": 5,\n        \"samples\": [\n          4\n        ],\n        \"semantic_type\": \"\",\n        \"description\": \"\"\n      }\n    }\n  ]\n}"
            }
          },
          "metadata": {},
          "execution_count": 4
        }
      ]
    },
    {
      "cell_type": "code",
      "source": [
        "np.array(my_own_dataset)"
      ],
      "metadata": {
        "id": "GgjjJXQBnQFk",
        "outputId": "ae27b991-f9f2-4c1d-eba9-c6a7975e10eb",
        "colab": {
          "base_uri": "https://localhost:8080/"
        }
      },
      "execution_count": null,
      "outputs": [
        {
          "output_type": "execute_result",
          "data": {
            "text/plain": [
              "array([[0., 1., 1., 5.],\n",
              "       [1., 1., 1., 4.],\n",
              "       [2., 1., 1., 3.],\n",
              "       [3., 1., 1., 2.],\n",
              "       [4., 1., 1., 1.]])"
            ]
          },
          "metadata": {},
          "execution_count": 5
        }
      ]
    },
    {
      "cell_type": "markdown",
      "source": [
        "## Identity\n",
        "Create an $n\\times n$ identity matrix, $I_n$, where $n=3$.\n",
        "\n",
        "`np.eye` can be used to create non-square arrays, as well."
      ],
      "metadata": {
        "id": "XNgG44CwnyOc"
      }
    },
    {
      "cell_type": "code",
      "source": [
        "I_n = np.eye(3)"
      ],
      "metadata": {
        "id": "ZotM5BY7oIK4"
      },
      "execution_count": null,
      "outputs": []
    },
    {
      "cell_type": "code",
      "source": [
        "print(I_n)"
      ],
      "metadata": {
        "colab": {
          "base_uri": "https://localhost:8080/"
        },
        "id": "4Pe_t3aToJuT",
        "outputId": "32e74f12-b726-4f79-dc53-1aebc8caad23"
      },
      "execution_count": null,
      "outputs": [
        {
          "output_type": "stream",
          "name": "stdout",
          "text": [
            "[[1. 0. 0.]\n",
            " [0. 1. 0.]\n",
            " [0. 0. 1.]]\n"
          ]
        }
      ]
    },
    {
      "cell_type": "markdown",
      "source": [
        "## Other\n",
        "Visit https://numpy.org/doc/stable/reference/routines.array-creation.html.\n",
        "\n",
        "Array creation routines that do not take shape as an argument can be reshaped into a desired shape as shown [below](##Reshape)."
      ],
      "metadata": {
        "id": "r_020QxNoMJK"
      }
    },
    {
      "cell_type": "markdown",
      "source": [
        "# Array Attributes\n",
        "Given $A=\\begin{bmatrix}1&2\\\\3&4\\end{bmatrix}$, find the dimensions (rank) $A$, shape, number of elements, datatype, and memory usage of $A$."
      ],
      "metadata": {
        "id": "D_eJM516eyG6"
      }
    },
    {
      "cell_type": "code",
      "source": [
        "A = np.array([[1, 2],\n",
        "              [3, 4]])\n",
        "\n",
        "n = A.ndim\n",
        "shape = A.shape\n",
        "size = A.size\n",
        "dtype = A.dtype\n",
        "memory = A.nbytes # 64 bits/element * 4 elements = 8 bytes/element * 4 elements"
      ],
      "metadata": {
        "id": "KYMfFU1JfBfm"
      },
      "execution_count": null,
      "outputs": []
    },
    {
      "cell_type": "code",
      "source": [
        "print(n)\n",
        "print()\n",
        "print(shape)\n",
        "print()\n",
        "print(size)\n",
        "print()\n",
        "print(dtype)\n",
        "print()\n",
        "print(memory)"
      ],
      "metadata": {
        "colab": {
          "base_uri": "https://localhost:8080/"
        },
        "id": "pw2RCaH6fMLq",
        "outputId": "d4f0d83a-5363-4822-ddc1-434f5fde2eaa"
      },
      "execution_count": null,
      "outputs": [
        {
          "output_type": "stream",
          "name": "stdout",
          "text": [
            "2\n",
            "\n",
            "(2, 2)\n",
            "\n",
            "4\n",
            "\n",
            "int64\n",
            "\n",
            "32\n"
          ]
        }
      ]
    },
    {
      "cell_type": "markdown",
      "source": [
        "# Array Operations\n",
        "Any operations applied to matrices are element-wise by default."
      ],
      "metadata": {
        "id": "6toNJSUac5_N"
      }
    },
    {
      "cell_type": "markdown",
      "source": [
        "## Addition, Subtraction, and Division\n",
        "Given $A=\\begin{bmatrix}1&2\\\\3&4\\end{bmatrix}$, compute $A+A$, $A+1$, $A-A$, $A-1$, $A/A$ and $A/2$.\n",
        "\n",
        "These are all element-wise operations. The second operand can either be an array of the same shape or a single element which would be broadcasted to an array of the same shape."
      ],
      "metadata": {
        "id": "AIX05cVcdI_n"
      }
    },
    {
      "cell_type": "code",
      "source": [
        "A = np.array([[1, 2],\n",
        "              [3, 4]])\n",
        "\n",
        "# add\n",
        "add_AA = A + A\n",
        "add_A1 = A + 1\n",
        "\n",
        "# sub\n",
        "sub_AA = A - A\n",
        "sub_A1 = A - 1\n",
        "\n",
        "# div\n",
        "div_AA = A / A\n",
        "div_A2 = A / 2"
      ],
      "metadata": {
        "id": "tDyCVpfadIsb"
      },
      "execution_count": null,
      "outputs": []
    },
    {
      "cell_type": "code",
      "source": [
        "print(add_AA)\n",
        "print(add_A1)\n",
        "print()\n",
        "print(sub_AA)\n",
        "print(sub_A1)\n",
        "print()\n",
        "print(div_AA)\n",
        "print(div_A2)"
      ],
      "metadata": {
        "colab": {
          "base_uri": "https://localhost:8080/"
        },
        "id": "njYU6loqd7N8",
        "outputId": "e63dd9f2-0b62-4de4-da3b-3836e2181fc6"
      },
      "execution_count": null,
      "outputs": [
        {
          "output_type": "stream",
          "name": "stdout",
          "text": [
            "[[2 4]\n",
            " [6 8]]\n",
            "[[2 3]\n",
            " [4 5]]\n",
            "\n",
            "[[0 0]\n",
            " [0 0]]\n",
            "[[0 1]\n",
            " [2 3]]\n",
            "\n",
            "[[1. 1.]\n",
            " [1. 1.]]\n",
            "[[0.5 1. ]\n",
            " [1.5 2. ]]\n"
          ]
        }
      ]
    },
    {
      "cell_type": "markdown",
      "source": [
        "## Multiplication\n",
        "Given the matrix $A=\\begin{bmatrix}1&2\\\\3&4\\end{bmatrix},B=\\begin{bmatrix}4&3\\\\2&1\\end{bmatrix}$, compute their standard product ($AB$) and element-wise (Hadamard) product ($A\\odot B$)."
      ],
      "metadata": {
        "id": "5sUUS6AaD6uc"
      }
    },
    {
      "cell_type": "code",
      "source": [
        "A = np.array([[1, 2],\n",
        "              [3, 4]])\n",
        "B = np.array([[4, 3],\n",
        "              [2, 1]])\n",
        "\n",
        "standard_product_arr = A @ B\n",
        "hadamard_product_arr = A * B\n",
        "\n",
        "# using matrices\n",
        "A = np.mat(\"1, 2; 3, 4\")\n",
        "B = np.mat(\"4, 3; 2, 1\")\n",
        "\n",
        "standard_product_mat = A @ B # A * B does the same thing\n",
        "hadamard_product_mat = np.multiply(A, B)"
      ],
      "metadata": {
        "id": "fSZkiU_LExQQ"
      },
      "execution_count": null,
      "outputs": []
    },
    {
      "cell_type": "code",
      "source": [
        "print(standard_product_arr, type(standard_product_arr))\n",
        "print(hadamard_product_arr, type(hadamard_product_arr))\n",
        "print()\n",
        "print(standard_product_mat, type(standard_product_mat))\n",
        "print(hadamard_product_mat, type(hadamard_product_mat))"
      ],
      "metadata": {
        "colab": {
          "base_uri": "https://localhost:8080/"
        },
        "id": "VD43x8r4E-5P",
        "outputId": "08abd788-d781-4238-ca1c-e54067e5e3d4"
      },
      "execution_count": null,
      "outputs": [
        {
          "output_type": "stream",
          "name": "stdout",
          "text": [
            "[[ 8  5]\n",
            " [20 13]] <class 'numpy.ndarray'>\n",
            "[[4 6]\n",
            " [6 4]] <class 'numpy.ndarray'>\n",
            "\n",
            "[[ 8  5]\n",
            " [20 13]] <class 'numpy.matrix'>\n",
            "[[4 6]\n",
            " [6 4]] <class 'numpy.matrix'>\n"
          ]
        }
      ]
    },
    {
      "cell_type": "markdown",
      "source": [
        "## Boolean Operations\n",
        "Given $A=\\begin{bmatrix}1&2\\\\3&4\\end{bmatrix}$, find $A > 2.5$, $A < 2.5$, $A==1$, and $A != 1$."
      ],
      "metadata": {
        "id": "5KlS4ljSeHgC"
      }
    },
    {
      "cell_type": "code",
      "source": [
        "A = np.array([[1, 2],\n",
        "              [3, 4]])\n",
        "\n",
        "A_gt = A > 2.5\n",
        "A_lt = A < 2.5\n",
        "A_eq = A == 1\n",
        "A_neq = A != 1"
      ],
      "metadata": {
        "id": "3Ss37SKDeVqr"
      },
      "execution_count": null,
      "outputs": []
    },
    {
      "cell_type": "code",
      "source": [
        "print(A_gt)\n",
        "print()\n",
        "print(A_lt)\n",
        "print()\n",
        "print(A_eq)\n",
        "print()\n",
        "print(A_neq)"
      ],
      "metadata": {
        "colab": {
          "base_uri": "https://localhost:8080/"
        },
        "id": "1EY1LiIsem7I",
        "outputId": "6859b410-dc23-486b-e399-d02317ceae1b"
      },
      "execution_count": null,
      "outputs": [
        {
          "output_type": "stream",
          "name": "stdout",
          "text": [
            "[[False False]\n",
            " [ True  True]]\n",
            "\n",
            "[[ True  True]\n",
            " [False False]]\n",
            "\n",
            "[[ True False]\n",
            " [False False]]\n",
            "\n",
            "[[False  True]\n",
            " [ True  True]]\n"
          ]
        }
      ]
    },
    {
      "cell_type": "markdown",
      "source": [
        "# Array Indexing\n",
        "A single number in a subscript denotes the element at the zero-indexed position.\n",
        "\n",
        "A `:` in a subscript means that you are taking a slice of the object. `A[a:b]` takes a slice of `A` from `a` (inclusive) to `b` (exclusive). Leaving out one of the fields extends the slice to the end in the corresponding direction (i.e. `A[:b]==A[0:b] and A[a:]==A[a:len(A)]`).\n",
        "\n",
        "Commas in the subscript delimit the dimensions of which you are indexing. This is a feature provided by `numpy` and will not work for Python lists."
      ],
      "metadata": {
        "id": "Akz_79oVIwIU"
      }
    },
    {
      "cell_type": "markdown",
      "source": [
        "## Array Elements\n",
        "Given $A=\\begin{bmatrix}1&2\\\\3&4\\end{bmatrix}$, get $A_{12}$."
      ],
      "metadata": {
        "id": "tSLDosRZJAll"
      }
    },
    {
      "cell_type": "code",
      "source": [
        "A = np.array([[1, 2],\n",
        "              [3, 4]])\n",
        "\n",
        "# get A_12\n",
        "A_12 = A[0][1]"
      ],
      "metadata": {
        "id": "Pfh6FKzJIvBX"
      },
      "execution_count": null,
      "outputs": []
    },
    {
      "cell_type": "code",
      "source": [
        "print(A_12)"
      ],
      "metadata": {
        "colab": {
          "base_uri": "https://localhost:8080/"
        },
        "id": "p3vThP8LJGQ7",
        "outputId": "c6dace22-6d3c-4c83-ed49-0441452713dd"
      },
      "execution_count": null,
      "outputs": [
        {
          "output_type": "stream",
          "name": "stdout",
          "text": [
            "2\n"
          ]
        }
      ]
    },
    {
      "cell_type": "markdown",
      "source": [
        "## Array Row(s)\n",
        "Given $A=\\begin{bmatrix}1&2&3\\\\4&5&6\\\\7&8&9\\end{bmatrix}$, get the first row, last two rows, and rows 1 and 3 of $A$."
      ],
      "metadata": {
        "id": "RyS6fA75JR5b"
      }
    },
    {
      "cell_type": "code",
      "source": [
        "A = np.array([[1, 2, 3],\n",
        "              [4, 5, 6],\n",
        "              [7, 8, 9]])\n",
        "\n",
        "# get A_1* (first row of A)\n",
        "A_r_1 = A[0,:]\n",
        "\n",
        "# get last two rows of A\n",
        "A_r_23 = A[1:3,:]\n",
        "\n",
        "# get rows 1 and 3 of A\n",
        "A_r_13 = A[[0, 2],:]"
      ],
      "metadata": {
        "id": "zczVKFI2JWEX"
      },
      "execution_count": null,
      "outputs": []
    },
    {
      "cell_type": "code",
      "source": [
        "print(A_r_1)\n",
        "print()\n",
        "print(A_r_23)\n",
        "print()\n",
        "print(A_r_13)"
      ],
      "metadata": {
        "colab": {
          "base_uri": "https://localhost:8080/"
        },
        "id": "MRfGjBE2JrSM",
        "outputId": "b155117f-baec-47d9-e123-a51f321b5738"
      },
      "execution_count": null,
      "outputs": [
        {
          "output_type": "stream",
          "name": "stdout",
          "text": [
            "[1 2 3]\n",
            "\n",
            "[[4 5 6]\n",
            " [7 8 9]]\n",
            "\n",
            "[[1 2 3]\n",
            " [7 8 9]]\n"
          ]
        }
      ]
    },
    {
      "cell_type": "markdown",
      "source": [
        "## Array Column(s)\n",
        "Given $A=\\begin{bmatrix}1&2&3\\\\4&5&6\\\\7&8&9\\end{bmatrix}$, get the first column, last two columns, and columns 1 and 3 of $A$."
      ],
      "metadata": {
        "id": "U4JkxGhxN2YO"
      }
    },
    {
      "cell_type": "code",
      "source": [
        "A = np.array([[1, 2, 3],\n",
        "              [4, 5, 6],\n",
        "              [7, 8, 9]])\n",
        "\n",
        "# get A_*1 (first column of A)\n",
        "A_c_1 = A[:,0]\n",
        "\n",
        "# get last two columns of A\n",
        "A_c_23 = A[:,1:3]\n",
        "\n",
        "# get columns 1 and 3 of A\n",
        "A_c_13 = A[:,[0,2]]"
      ],
      "metadata": {
        "id": "oji5XF0uN4z-"
      },
      "execution_count": null,
      "outputs": []
    },
    {
      "cell_type": "code",
      "source": [
        "print(A_c_1)\n",
        "print()\n",
        "print(A_c_23)\n",
        "print()\n",
        "print(A_c_13)"
      ],
      "metadata": {
        "colab": {
          "base_uri": "https://localhost:8080/"
        },
        "id": "lMNS1rwQOFZ2",
        "outputId": "da7ed878-078b-4da4-c794-9701783882de"
      },
      "execution_count": null,
      "outputs": [
        {
          "output_type": "stream",
          "name": "stdout",
          "text": [
            "[1 4 7]\n",
            "\n",
            "[[2 3]\n",
            " [5 6]\n",
            " [8 9]]\n",
            "\n",
            "[[1 3]\n",
            " [4 6]\n",
            " [7 9]]\n"
          ]
        }
      ]
    },
    {
      "cell_type": "markdown",
      "source": [
        "## Array Rows and Columns\n",
        "Given $A=\\begin{bmatrix}1&2&3\\\\4&5&6\\\\7&8&9\\end{bmatrix}$, get rows 1 and 3 and columns 2 and 3 of $A$."
      ],
      "metadata": {
        "id": "3ob_bE73PR5W"
      }
    },
    {
      "cell_type": "code",
      "source": [
        "A = np.array([[1, 2, 3],\n",
        "              [4, 5, 6],\n",
        "              [7, 8, 9]])\n",
        "\n",
        "# get specified rows and columns\n",
        "\n",
        "## using subscript operator\n",
        "### select rows\n",
        "result1 = A[[0, 2],:]\n",
        "### select columns\n",
        "result1 = result1[:,[1, 2]]\n",
        "\n",
        "## using np.ix_ (recommended)\n",
        "result2 = A[np.ix_([0, 2], [1, 2])]"
      ],
      "metadata": {
        "id": "-N5jXKd4PQyd"
      },
      "execution_count": null,
      "outputs": []
    },
    {
      "cell_type": "code",
      "source": [
        "print(result1)\n",
        "print()\n",
        "print(result2)"
      ],
      "metadata": {
        "colab": {
          "base_uri": "https://localhost:8080/"
        },
        "id": "tdFwInl6Qcct",
        "outputId": "4f0de6df-b8f9-4e94-9f83-0fde0109aa18"
      },
      "execution_count": null,
      "outputs": [
        {
          "output_type": "stream",
          "name": "stdout",
          "text": [
            "[[2 3]\n",
            " [8 9]]\n",
            "\n",
            "[[2 3]\n",
            " [8 9]]\n"
          ]
        }
      ]
    },
    {
      "cell_type": "markdown",
      "source": [
        "# Matrix Shape Manipulation"
      ],
      "metadata": {
        "id": "ULUHFNwrcD4n"
      }
    },
    {
      "cell_type": "markdown",
      "source": [
        "## Transpose\n",
        "Given $A=\\begin{bmatrix}1&2\\\\3&4\\\\5&6\\end{bmatrix}$, find $A^T$."
      ],
      "metadata": {
        "id": "zqp55plGQ-uG"
      }
    },
    {
      "cell_type": "code",
      "source": [
        "A = np.array([[1, 2],\n",
        "              [3, 4],\n",
        "              [5, 6]])\n",
        "\n",
        "A_T = A.T"
      ],
      "metadata": {
        "id": "qXFHGNgTQ-Mm"
      },
      "execution_count": null,
      "outputs": []
    },
    {
      "cell_type": "code",
      "source": [
        "print(A_T)"
      ],
      "metadata": {
        "colab": {
          "base_uri": "https://localhost:8080/"
        },
        "id": "ddEQSp-mReDk",
        "outputId": "d59793a9-8e8f-4451-a7b7-0940b0a5b2a1"
      },
      "execution_count": null,
      "outputs": [
        {
          "output_type": "stream",
          "name": "stdout",
          "text": [
            "[[1 3 5]\n",
            " [2 4 6]]\n"
          ]
        }
      ]
    },
    {
      "cell_type": "markdown",
      "source": [
        "## Flatten\n",
        "Given $A=\\begin{bmatrix}1&2\\\\3&4\\end{bmatrix}$, flatten $A$. In other words, change its shape from $m\\times n$ to $1\\times (m+n)$"
      ],
      "metadata": {
        "id": "NYsxi_H-cHJL"
      }
    },
    {
      "cell_type": "code",
      "source": [
        "A = np.array([[1, 2],\n",
        "              [3, 4]])\n",
        "\n",
        "A_flattened = np.ravel(A) # ravel and unravel mean the same thing"
      ],
      "metadata": {
        "id": "Ed-lIZ23cIMP"
      },
      "execution_count": null,
      "outputs": []
    },
    {
      "cell_type": "code",
      "source": [
        "print(A_flattened)"
      ],
      "metadata": {
        "colab": {
          "base_uri": "https://localhost:8080/"
        },
        "id": "WQGbxNcgcjtJ",
        "outputId": "985ee47c-ae5f-499b-9152-edc49c608b36"
      },
      "execution_count": null,
      "outputs": [
        {
          "output_type": "stream",
          "name": "stdout",
          "text": [
            "[1 2 3 4]\n"
          ]
        }
      ]
    },
    {
      "cell_type": "markdown",
      "source": [
        "## Reshape\n",
        "Given $A=\\begin{bmatrix}1&2&3&4\\\\5&6&7&8\\end{bmatrix}$, reshape $A$ from $2\\times4$ to $4\\times2$, $2\\times2\\times2$, and $*$ (infer dimensions).\n",
        "\n",
        "Be careful with using `ndarray.resize`, it is possible to drop or add elements."
      ],
      "metadata": {
        "id": "u9kxrvMnj6qp"
      }
    },
    {
      "cell_type": "code",
      "source": [
        "A = np.array([[1, 2, 3, 4],\n",
        "              [5, 6, 7, 8]])\n",
        "\n",
        "# reshape out-of-place\n",
        "A_reshaped_2d = A.reshape([4, 2])\n",
        "A_reshaped_3d = A.reshape([2, 2, 2])\n",
        "A_reshaped_infer = A.reshape([-1])\n",
        "\n",
        "# reshape in-place\n",
        "A_resized_2d = A.copy()\n",
        "A_resized_2d.resize([4, 2])\n",
        "A_resized_3d = A.copy()\n",
        "A_resized_3d.resize([2, 2, 2])\n",
        "# not possible to infer dimension with resize"
      ],
      "metadata": {
        "id": "-My0D684kIQC"
      },
      "execution_count": null,
      "outputs": []
    },
    {
      "cell_type": "code",
      "source": [
        "print(A_reshaped_2d)\n",
        "print()\n",
        "print(A_reshaped_3d)\n",
        "print()\n",
        "print(A_reshaped_infer)\n",
        "print()\n",
        "print(A_resized_2d)\n",
        "print()\n",
        "print(A_resized_3d)"
      ],
      "metadata": {
        "colab": {
          "base_uri": "https://localhost:8080/"
        },
        "id": "Yav6GNL4kL2n",
        "outputId": "c0d3a323-d91a-4bcc-e882-a38c9cb4298a"
      },
      "execution_count": null,
      "outputs": [
        {
          "output_type": "stream",
          "name": "stdout",
          "text": [
            "[[1 2]\n",
            " [3 4]\n",
            " [5 6]\n",
            " [7 8]]\n",
            "\n",
            "[[[1 2]\n",
            "  [3 4]]\n",
            "\n",
            " [[5 6]\n",
            "  [7 8]]]\n",
            "\n",
            "[1 2 3 4 5 6 7 8]\n",
            "\n",
            "[[1 2]\n",
            " [3 4]\n",
            " [5 6]\n",
            " [7 8]]\n",
            "\n",
            "[[[1 2]\n",
            "  [3 4]]\n",
            "\n",
            " [[5 6]\n",
            "  [7 8]]]\n"
          ]
        }
      ]
    },
    {
      "cell_type": "markdown",
      "source": [
        "# References\n",
        "1. S. Madhavan. (2015). Mastering Python for Data Science. Available: https://github.com/AmandaZou/Data-Science-books-/blob/master/Mastering%20Python%20for%20Data%20Science.pdf\n",
        "2. A. Boschetti, L. Massaron. Python Data Science Essentials. Available: https://aaronyeo.org/books_/Data_Science/Python/Python%20Data%20Science%20Essentials.pdf"
      ],
      "metadata": {
        "id": "sxOmiDh5hMK2"
      }
    }
  ]
}